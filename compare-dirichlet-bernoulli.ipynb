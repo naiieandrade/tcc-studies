{
 "cells": [
  {
   "cell_type": "code",
   "execution_count": 1,
   "metadata": {},
   "outputs": [],
   "source": [
    "%run bernoulli.py"
   ]
  },
  {
   "cell_type": "code",
   "execution_count": 2,
   "metadata": {},
   "outputs": [],
   "source": [
    "import time\n",
    "\n",
    "from sklearn import datasets\n",
    "from sklearn import metrics\n",
    "from sklearn.naive_bayes import GaussianNB\n",
    "from sklearn.naive_bayes import BernoulliNB\n",
    "from sklearn.model_selection import train_test_split\n",
    "from sklearn.metrics import accuracy_score"
   ]
  },
  {
   "cell_type": "markdown",
   "metadata": {},
   "source": [
    "### Plot 1\n",
    "    1000 comments\n",
    "    4 categories\n",
    "    alpha: [3*a, a]"
   ]
  },
  {
   "cell_type": "code",
   "execution_count": 3,
   "metadata": {},
   "outputs": [],
   "source": [
    "comments = 1000\n",
    "categories = 4\n",
    "alpha = 0.6\n",
    "list_alphas = [3*alpha, alpha]\n",
    "df = np.random.dirichlet(list_alphas, (categories, comments))"
   ]
  },
  {
   "cell_type": "code",
   "execution_count": 4,
   "metadata": {},
   "outputs": [],
   "source": [
    "c1, c2, c3, c4 = separate_agreed_votes_per_category(distribution=df, categories=categories)"
   ]
  },
  {
   "cell_type": "code",
   "execution_count": 5,
   "metadata": {},
   "outputs": [],
   "source": [
    "votes1 = np.random.random(size=(1000, comments)) < c1\n",
    "votes2 = np.random.random(size=(700, comments)) < c2\n",
    "votes3 = np.random.random(size=(1200, comments)) < c3\n",
    "votes4 = np.random.random(size=(900, comments)) < c4"
   ]
  },
  {
   "cell_type": "code",
   "execution_count": 6,
   "metadata": {},
   "outputs": [],
   "source": [
    "votes = np.vstack([votes1,votes2,votes3,votes4])"
   ]
  },
  {
   "cell_type": "code",
   "execution_count": 7,
   "metadata": {},
   "outputs": [],
   "source": [
    "df = create_column_category([votes1, votes2, votes3, votes4])"
   ]
  },
  {
   "cell_type": "code",
   "execution_count": 8,
   "metadata": {},
   "outputs": [
    {
     "data": {
      "text/plain": [
       "RangeIndex(start=99, stop=104, step=1)"
      ]
     },
     "execution_count": 8,
     "metadata": {},
     "output_type": "execute_result"
    }
   ],
   "source": [
    "df.index[99:104]"
   ]
  },
  {
   "cell_type": "code",
   "execution_count": 9,
   "metadata": {
    "scrolled": true
   },
   "outputs": [
    {
     "data": {
      "text/plain": [
       "3    1200\n",
       "1    1000\n",
       "4     900\n",
       "2     700\n",
       "Name: category, dtype: int64"
      ]
     },
     "execution_count": 9,
     "metadata": {},
     "output_type": "execute_result"
    }
   ],
   "source": [
    "df.category.value_counts()"
   ]
  },
  {
   "cell_type": "code",
   "execution_count": 10,
   "metadata": {},
   "outputs": [
    {
     "data": {
      "text/plain": [
       "(3800, 1001)"
      ]
     },
     "execution_count": 10,
     "metadata": {},
     "output_type": "execute_result"
    }
   ],
   "source": [
    "df.shape"
   ]
  },
  {
   "cell_type": "code",
   "execution_count": 11,
   "metadata": {},
   "outputs": [],
   "source": [
    "accs = []"
   ]
  },
  {
   "cell_type": "code",
   "execution_count": 12,
   "metadata": {},
   "outputs": [],
   "source": [
    "ncols = df.iloc[:, :-1].shape[1]"
   ]
  },
  {
   "cell_type": "code",
   "execution_count": 13,
   "metadata": {},
   "outputs": [],
   "source": [
    "for i in range(1, ncols):\n",
    "    #print('I', i)\n",
    "    X_train, X_test, y_train, y_test = train_test_split(df.iloc[:,:i], df['category'], test_size = 0.2)#, random_state=17)\n",
    "    bern = BernoulliNB()\n",
    "    bern.fit(X_train, y_train)\n",
    "    y_exp = y_test\n",
    "    y_pred = bern.predict(X_test)\n",
    "    acc =  accuracy_score(y_exp, y_pred)\n",
    "    #print(\"acc: \", acc)\n",
    "    accs.append({'acc': acc, 'qtd': i})"
   ]
  },
  {
   "cell_type": "code",
   "execution_count": 14,
   "metadata": {},
   "outputs": [],
   "source": [
    "df_accs = pd.DataFrame.from_dict(accs)"
   ]
  },
  {
   "cell_type": "code",
   "execution_count": 15,
   "metadata": {},
   "outputs": [
    {
     "data": {
      "text/plain": [
       "(0, 100)"
      ]
     },
     "execution_count": 15,
     "metadata": {},
     "output_type": "execute_result"
    },
    {
     "data": {
      "image/png": "[encoded data removed]",
      "text/plain": [
       "<Figure size 1080x288 with 2 Axes>"
      ]
     },
     "metadata": {
      "needs_background": "light"
     },
     "output_type": "display_data"
    }
   ],
   "source": [
    "curve_dir = plt.figure(figsize=(15,4))\n",
    "total = curve_dir.add_subplot(121)\n",
    "partial = curve_dir.add_subplot(122)\n",
    "total.plot(df_accs.qtd, df_accs.acc)\n",
    "partial.plot(df_accs.qtd, df_accs.acc)\n",
    "partial.grid()\n",
    "plt.xlim(0,100)"
   ]
  },
  {
   "cell_type": "code",
   "execution_count": 16,
   "metadata": {},
   "outputs": [
    {
     "name": "stdout",
     "output_type": "stream",
     "text": [
      "acc:  1.0\n",
      "              precision    recall  f1-score   support\n",
      "\n",
      "           1       1.00      1.00      1.00       215\n",
      "           2       1.00      1.00      1.00       124\n",
      "           3       1.00      1.00      1.00       244\n",
      "           4       1.00      1.00      1.00       177\n",
      "\n",
      "   micro avg       1.00      1.00      1.00       760\n",
      "   macro avg       1.00      1.00      1.00       760\n",
      "weighted avg       1.00      1.00      1.00       760\n",
      "\n",
      "[[215   0   0   0]\n",
      " [  0 124   0   0]\n",
      " [  0   0 244   0]\n",
      " [  0   0   0 177]]\n"
     ]
    }
   ],
   "source": [
    "print(\"acc: \", accuracy_score(y_exp, y_pred))\n",
    "print(metrics.classification_report(y_exp, y_pred))\n",
    "print(metrics.confusion_matrix(y_exp, y_pred))"
   ]
  },
  {
   "cell_type": "markdown",
   "metadata": {},
   "source": [
    "### Plot 2\n",
    "    1000 comments\n",
    "    4 categories\n",
    "    alpha: [a, a]"
   ]
  },
  {
   "cell_type": "code",
   "execution_count": 17,
   "metadata": {},
   "outputs": [],
   "source": [
    "comments = 1000\n",
    "categories = 4\n",
    "alpha = 0.6\n",
    "list_alphas = [alpha, alpha]\n",
    "df = np.random.dirichlet(list_alphas, (categories, comments))"
   ]
  },
  {
   "cell_type": "code",
   "execution_count": 18,
   "metadata": {},
   "outputs": [],
   "source": [
    "c1, c2, c3, c4 = separate_agreed_votes_per_category(distribution=df, categories=categories)"
   ]
  },
  {
   "cell_type": "code",
   "execution_count": 19,
   "metadata": {},
   "outputs": [],
   "source": [
    "votes1 = np.random.random(size=(1000, comments)) < c1\n",
    "votes2 = np.random.random(size=(700, comments)) < c2\n",
    "votes3 = np.random.random(size=(1200, comments)) < c3\n",
    "votes4 = np.random.random(size=(900, comments)) < c4\n",
    "\n",
    "votes = np.vstack([votes1,votes2,votes3,votes4])\n",
    "df = create_column_category([votes1, votes2, votes3, votes4])"
   ]
  },
  {
   "cell_type": "code",
   "execution_count": 20,
   "metadata": {},
   "outputs": [
    {
     "data": {
      "text/plain": [
       "(3800, 1001)"
      ]
     },
     "execution_count": 20,
     "metadata": {},
     "output_type": "execute_result"
    }
   ],
   "source": [
    "df.shape"
   ]
  },
  {
   "cell_type": "code",
   "execution_count": 21,
   "metadata": {},
   "outputs": [],
   "source": [
    "accs = []\n",
    "ncols = df.iloc[:, :-1].shape[1]"
   ]
  },
  {
   "cell_type": "code",
   "execution_count": 23,
   "metadata": {},
   "outputs": [
    {
     "name": "stdout",
     "output_type": "stream",
     "text": [
      "time:  56.25533843040466\n"
     ]
    }
   ],
   "source": [
    "start_time = time.time()\n",
    "\n",
    "for i in range(1, ncols):\n",
    "    #print('I', i)\n",
    "    X_train, X_test, y_train, y_test = train_test_split(df.iloc[:,:i], df['category'], test_size = 0.2)#, random_state=17)\n",
    "    bern = BernoulliNB()\n",
    "    bern.fit(X_train, y_train)\n",
    "    y_exp = y_test\n",
    "    y_pred = bern.predict(X_test)\n",
    "    acc =  accuracy_score(y_exp, y_pred)\n",
    "    #print(\"acc: \", acc)\n",
    "    accs.append({'acc': acc, 'qtd': i})\n",
    "elapsed_time = time.time() - start_time\n",
    "print('time: ', elapsed_time)"
   ]
  },
  {
   "cell_type": "code",
   "execution_count": 24,
   "metadata": {},
   "outputs": [],
   "source": [
    "df_accs = pd.DataFrame.from_dict(accs)"
   ]
  },
  {
   "cell_type": "code",
   "execution_count": 25,
   "metadata": {
    "scrolled": true
   },
   "outputs": [
    {
     "data": {
      "text/plain": [
       "(0, 100)"
      ]
     },
     "execution_count": 25,
     "metadata": {},
     "output_type": "execute_result"
    },
    {
     "data": {
      "image/png": "[encoded data removed]",
      "text/plain": [
       "<Figure size 1080x288 with 2 Axes>"
      ]
     },
     "metadata": {
      "needs_background": "light"
     },
     "output_type": "display_data"
    }
   ],
   "source": [
    "curve_dir = plt.figure(figsize=(15,4))\n",
    "total = curve_dir.add_subplot(121)\n",
    "partial = curve_dir.add_subplot(122)\n",
    "total.plot(df_accs.qtd, df_accs.acc)\n",
    "partial.plot(df_accs.qtd, df_accs.acc)\n",
    "partial.grid()\n",
    "plt.xlim(0,100)"
   ]
  },
  {
   "cell_type": "code",
   "execution_count": 26,
   "metadata": {},
   "outputs": [
    {
     "name": "stdout",
     "output_type": "stream",
     "text": [
      "acc:  1.0\n",
      "              precision    recall  f1-score   support\n",
      "\n",
      "           1       1.00      1.00      1.00       197\n",
      "           2       1.00      1.00      1.00       153\n",
      "           3       1.00      1.00      1.00       238\n",
      "           4       1.00      1.00      1.00       172\n",
      "\n",
      "   micro avg       1.00      1.00      1.00       760\n",
      "   macro avg       1.00      1.00      1.00       760\n",
      "weighted avg       1.00      1.00      1.00       760\n",
      "\n",
      "[[197   0   0   0]\n",
      " [  0 153   0   0]\n",
      " [  0   0 238   0]\n",
      " [  0   0   0 172]]\n"
     ]
    }
   ],
   "source": [
    "print(\"acc: \", accuracy_score(y_exp, y_pred))\n",
    "print(metrics.classification_report(y_exp, y_pred))\n",
    "print(metrics.confusion_matrix(y_exp, y_pred))"
   ]
  },
  {
   "cell_type": "markdown",
   "metadata": {},
   "source": [
    "### Plot 3\n",
    "    1000 comments\n",
    "    4 categories\n",
    "    alpha: [15*a, a]"
   ]
  },
  {
   "cell_type": "code",
   "execution_count": 27,
   "metadata": {},
   "outputs": [],
   "source": [
    "comments = 1000\n",
    "categories = 4\n",
    "alpha = 0.6\n",
    "list_alphas = [15 * alpha, alpha]\n",
    "df = np.random.dirichlet(list_alphas, (categories, comments))"
   ]
  },
  {
   "cell_type": "code",
   "execution_count": 28,
   "metadata": {},
   "outputs": [],
   "source": [
    "c1, c2, c3, c4 = separate_agreed_votes_per_category(distribution=df, categories=categories)"
   ]
  },
  {
   "cell_type": "code",
   "execution_count": 29,
   "metadata": {},
   "outputs": [],
   "source": [
    "votes1 = np.random.random(size=(1000, comments)) < c1\n",
    "votes2 = np.random.random(size=(700, comments)) < c2\n",
    "votes3 = np.random.random(size=(1200, comments)) < c3\n",
    "votes4 = np.random.random(size=(900, comments)) < c4\n",
    "\n",
    "votes = np.vstack([votes1,votes2,votes3,votes4])\n",
    "df = create_column_category([votes1, votes2, votes3, votes4])"
   ]
  },
  {
   "cell_type": "code",
   "execution_count": 30,
   "metadata": {},
   "outputs": [
    {
     "data": {
      "text/plain": [
       "(3800, 1001)"
      ]
     },
     "execution_count": 30,
     "metadata": {},
     "output_type": "execute_result"
    }
   ],
   "source": [
    "df.shape"
   ]
  },
  {
   "cell_type": "code",
   "execution_count": 31,
   "metadata": {},
   "outputs": [],
   "source": [
    "accs = []\n",
    "ncols = df.iloc[:, :-1].shape[1]"
   ]
  },
  {
   "cell_type": "code",
   "execution_count": 32,
   "metadata": {},
   "outputs": [
    {
     "name": "stdout",
     "output_type": "stream",
     "text": [
      "time:  35.45022511482239\n"
     ]
    }
   ],
   "source": [
    "start_time = time.time()\n",
    "\n",
    "for i in range(1, ncols):\n",
    "    #print('I', i)\n",
    "    X_train, X_test, y_train, y_test = train_test_split(df.iloc[:,:i], df['category'], test_size = 0.2)#, random_state=17)\n",
    "    bern = BernoulliNB()\n",
    "    bern.fit(X_train, y_train)\n",
    "    y_exp = y_test\n",
    "    y_pred = bern.predict(X_test)\n",
    "    acc =  accuracy_score(y_exp, y_pred)\n",
    "    #print(\"acc: \", acc)\n",
    "    accs.append({'acc': acc, 'qtd': i})\n",
    "elapsed_time = time.time() - start_time\n",
    "print('time: ', elapsed_time)"
   ]
  },
  {
   "cell_type": "code",
   "execution_count": 33,
   "metadata": {},
   "outputs": [],
   "source": [
    "df_accs = pd.DataFrame.from_dict(accs)"
   ]
  },
  {
   "cell_type": "code",
   "execution_count": 34,
   "metadata": {
    "scrolled": true
   },
   "outputs": [
    {
     "data": {
      "text/plain": [
       "(0, 100)"
      ]
     },
     "execution_count": 34,
     "metadata": {},
     "output_type": "execute_result"
    },
    {
     "data": {
      "image/png": "[encoded data removed]",
      "text/plain": [
       "<Figure size 1080x288 with 2 Axes>"
      ]
     },
     "metadata": {
      "needs_background": "light"
     },
     "output_type": "display_data"
    }
   ],
   "source": [
    "curve_dir = plt.figure(figsize=(15,4))\n",
    "total = curve_dir.add_subplot(121)\n",
    "partial = curve_dir.add_subplot(122)\n",
    "total.plot(df_accs.qtd, df_accs.acc)\n",
    "partial.plot(df_accs.qtd, df_accs.acc)\n",
    "partial.grid()\n",
    "plt.xlim(0,100)"
   ]
  },
  {
   "cell_type": "code",
   "execution_count": 35,
   "metadata": {},
   "outputs": [
    {
     "data": {
      "text/plain": [
       "(0, 200)"
      ]
     },
     "execution_count": 35,
     "metadata": {},
     "output_type": "execute_result"
    },
    {
     "data": {
      "image/png": "[encoded data removed]",
      "text/plain": [
       "<Figure size 1080x288 with 2 Axes>"
      ]
     },
     "metadata": {
      "needs_background": "light"
     },
     "output_type": "display_data"
    }
   ],
   "source": [
    "curve_dir = plt.figure(figsize=(15,4))\n",
    "total = curve_dir.add_subplot(121)\n",
    "partial = curve_dir.add_subplot(122)\n",
    "total.plot(df_accs.qtd, df_accs.acc)\n",
    "partial.plot(df_accs.qtd, df_accs.acc)\n",
    "partial.grid()\n",
    "plt.xlim(0,200)"
   ]
  },
  {
   "cell_type": "code",
   "execution_count": 36,
   "metadata": {
    "scrolled": true
   },
   "outputs": [
    {
     "name": "stdout",
     "output_type": "stream",
     "text": [
      "acc:  1.0\n",
      "              precision    recall  f1-score   support\n",
      "\n",
      "           1       1.00      1.00      1.00       190\n",
      "           2       1.00      1.00      1.00       149\n",
      "           3       1.00      1.00      1.00       264\n",
      "           4       1.00      1.00      1.00       157\n",
      "\n",
      "   micro avg       1.00      1.00      1.00       760\n",
      "   macro avg       1.00      1.00      1.00       760\n",
      "weighted avg       1.00      1.00      1.00       760\n",
      "\n",
      "[[190   0   0   0]\n",
      " [  0 149   0   0]\n",
      " [  0   0 264   0]\n",
      " [  0   0   0 157]]\n"
     ]
    }
   ],
   "source": [
    "print(\"acc: \", accuracy_score(y_exp, y_pred))\n",
    "print(metrics.classification_report(y_exp, y_pred))\n",
    "print(metrics.confusion_matrix(y_exp, y_pred))"
   ]
  },
  {
   "cell_type": "markdown",
   "metadata": {},
   "source": [
    "### Plot 4\n",
    "    1000 comments\n",
    "    4 categories\n",
    "    alpha: [50*a, a]"
   ]
  },
  {
   "cell_type": "code",
   "execution_count": 38,
   "metadata": {},
   "outputs": [],
   "source": [
    "comments = 1000\n",
    "categories = 4\n",
    "alpha = 0.6\n",
    "list_alphas = [50 * alpha, alpha]\n",
    "df = np.random.dirichlet(list_alphas, (categories, comments))"
   ]
  },
  {
   "cell_type": "code",
   "execution_count": 39,
   "metadata": {},
   "outputs": [],
   "source": [
    "c1, c2, c3, c4 = separate_agreed_votes_per_category(distribution=df, categories=categories)"
   ]
  },
  {
   "cell_type": "code",
   "execution_count": 40,
   "metadata": {},
   "outputs": [],
   "source": [
    "votes1 = np.random.random(size=(1000, comments)) < c1\n",
    "votes2 = np.random.random(size=(700, comments)) < c2\n",
    "votes3 = np.random.random(size=(1200, comments)) < c3\n",
    "votes4 = np.random.random(size=(900, comments)) < c4\n",
    "\n",
    "votes = np.vstack([votes1,votes2,votes3,votes4])\n",
    "df = create_column_category([votes1, votes2, votes3, votes4])"
   ]
  },
  {
   "cell_type": "code",
   "execution_count": 41,
   "metadata": {},
   "outputs": [
    {
     "data": {
      "text/plain": [
       "(3800, 1001)"
      ]
     },
     "execution_count": 41,
     "metadata": {},
     "output_type": "execute_result"
    }
   ],
   "source": [
    "df.shape"
   ]
  },
  {
   "cell_type": "code",
   "execution_count": 42,
   "metadata": {},
   "outputs": [],
   "source": [
    "accs = []\n",
    "ncols = df.iloc[:, :-1].shape[1]"
   ]
  },
  {
   "cell_type": "code",
   "execution_count": 43,
   "metadata": {},
   "outputs": [
    {
     "name": "stdout",
     "output_type": "stream",
     "text": [
      "time:  33.14454483985901\n"
     ]
    }
   ],
   "source": [
    "start_time = time.time()\n",
    "\n",
    "for i in range(1, ncols):\n",
    "    #print('I', i)\n",
    "    X_train, X_test, y_train, y_test = train_test_split(df.iloc[:,:i], df['category'], test_size = 0.2)#, random_state=17)\n",
    "    bern = BernoulliNB()\n",
    "    bern.fit(X_train, y_train)\n",
    "    y_exp = y_test\n",
    "    y_pred = bern.predict(X_test)\n",
    "    acc =  accuracy_score(y_exp, y_pred)\n",
    "    #print(\"acc: \", acc)\n",
    "    accs.append({'acc': acc, 'qtd': i})\n",
    "elapsed_time = time.time() - start_time\n",
    "print('time: ', elapsed_time)"
   ]
  },
  {
   "cell_type": "code",
   "execution_count": 44,
   "metadata": {},
   "outputs": [],
   "source": [
    "df_accs = pd.DataFrame.from_dict(accs)"
   ]
  },
  {
   "cell_type": "code",
   "execution_count": 45,
   "metadata": {
    "scrolled": true
   },
   "outputs": [
    {
     "data": {
      "text/plain": [
       "(0, 100)"
      ]
     },
     "execution_count": 45,
     "metadata": {},
     "output_type": "execute_result"
    },
    {
     "data": {
      "image/png": "[encoded data removed]",
      "text/plain": [
       "<Figure size 1080x288 with 2 Axes>"
      ]
     },
     "metadata": {
      "needs_background": "light"
     },
     "output_type": "display_data"
    }
   ],
   "source": [
    "curve_dir = plt.figure(figsize=(15,4))\n",
    "total = curve_dir.add_subplot(121)\n",
    "partial = curve_dir.add_subplot(122)\n",
    "total.plot(df_accs.qtd, df_accs.acc)\n",
    "partial.plot(df_accs.qtd, df_accs.acc)\n",
    "partial.grid()\n",
    "plt.xlim(0,100)"
   ]
  },
  {
   "cell_type": "code",
   "execution_count": 46,
   "metadata": {},
   "outputs": [
    {
     "data": {
      "text/plain": [
       "(0, 200)"
      ]
     },
     "execution_count": 46,
     "metadata": {},
     "output_type": "execute_result"
    },
    {
     "data": {
      "image/png": "[encoded data removed]",
      "text/plain": [
       "<Figure size 1080x288 with 2 Axes>"
      ]
     },
     "metadata": {
      "needs_background": "light"
     },
     "output_type": "display_data"
    }
   ],
   "source": [
    "curve_dir = plt.figure(figsize=(15,4))\n",
    "total = curve_dir.add_subplot(121)\n",
    "partial = curve_dir.add_subplot(122)\n",
    "total.plot(df_accs.qtd, df_accs.acc)\n",
    "partial.plot(df_accs.qtd, df_accs.acc)\n",
    "partial.grid()\n",
    "plt.xlim(0,200)"
   ]
  },
  {
   "cell_type": "code",
   "execution_count": 47,
   "metadata": {},
   "outputs": [
    {
     "data": {
      "text/plain": [
       "(0, 500)"
      ]
     },
     "execution_count": 47,
     "metadata": {},
     "output_type": "execute_result"
    },
    {
     "data": {
      "image/png": "[encoded data removed]",
      "text/plain": [
       "<Figure size 1080x288 with 2 Axes>"
      ]
     },
     "metadata": {
      "needs_background": "light"
     },
     "output_type": "display_data"
    }
   ],
   "source": [
    "curve_dir = plt.figure(figsize=(15,4))\n",
    "total = curve_dir.add_subplot(121)\n",
    "partial = curve_dir.add_subplot(122)\n",
    "total.plot(df_accs.qtd, df_accs.acc)\n",
    "partial.plot(df_accs.qtd, df_accs.acc)\n",
    "partial.grid()\n",
    "plt.xlim(0,500)"
   ]
  },
  {
   "cell_type": "code",
   "execution_count": 48,
   "metadata": {
    "scrolled": true
   },
   "outputs": [
    {
     "name": "stdout",
     "output_type": "stream",
     "text": [
      "acc:  0.9973684210526316\n",
      "              precision    recall  f1-score   support\n",
      "\n",
      "           1       1.00      1.00      1.00       209\n",
      "           2       1.00      1.00      1.00       140\n",
      "           3       1.00      1.00      1.00       229\n",
      "           4       1.00      0.99      0.99       182\n",
      "\n",
      "   micro avg       1.00      1.00      1.00       760\n",
      "   macro avg       1.00      1.00      1.00       760\n",
      "weighted avg       1.00      1.00      1.00       760\n",
      "\n",
      "[[209   0   0   0]\n",
      " [  0 140   0   0]\n",
      " [  0   0 229   0]\n",
      " [  1   0   1 180]]\n"
     ]
    }
   ],
   "source": [
    "print(\"acc: \", accuracy_score(y_exp, y_pred))\n",
    "print(metrics.classification_report(y_exp, y_pred))\n",
    "print(metrics.confusion_matrix(y_exp, y_pred))"
   ]
  },
  {
   "cell_type": "code",
   "execution_count": null,
   "metadata": {},
   "outputs": [],
   "source": []
  },
  {
   "cell_type": "code",
   "execution_count": 37,
   "metadata": {
    "collapsed": true
   },
   "outputs": [
    {
     "name": "stdout",
     "output_type": "stream",
     "text": [
      "teste\n"
     ]
    }
   ],
   "source": [
    "print('teste')"
   ]
  },
  {
   "cell_type": "code",
   "execution_count": null,
   "metadata": {},
   "outputs": [],
   "source": []
  },
  {
   "cell_type": "code",
   "execution_count": null,
   "metadata": {},
   "outputs": [],
   "source": []
  },
  {
   "cell_type": "markdown",
   "metadata": {},
   "source": [
    "__________________________________________"
   ]
  },
  {
   "cell_type": "code",
   "execution_count": null,
   "metadata": {},
   "outputs": [],
   "source": []
  },
  {
   "cell_type": "code",
   "execution_count": null,
   "metadata": {},
   "outputs": [],
   "source": []
  },
  {
   "cell_type": "code",
   "execution_count": null,
   "metadata": {},
   "outputs": [],
   "source": []
  },
  {
   "cell_type": "code",
   "execution_count": null,
   "metadata": {},
   "outputs": [],
   "source": []
  },
  {
   "cell_type": "code",
   "execution_count": null,
   "metadata": {},
   "outputs": [],
   "source": []
  },
  {
   "cell_type": "code",
   "execution_count": null,
   "metadata": {},
   "outputs": [],
   "source": []
  },
  {
   "cell_type": "code",
   "execution_count": null,
   "metadata": {},
   "outputs": [],
   "source": []
  },
  {
   "cell_type": "code",
   "execution_count": null,
   "metadata": {},
   "outputs": [],
   "source": []
  }
 ],
 "metadata": {
  "kernelspec": {
   "display_name": "Python 3",
   "language": "python",
   "name": "python3"
  },
  "language_info": {
   "codemirror_mode": {
    "name": "ipython",
    "version": 3
   },
   "file_extension": ".py",
   "mimetype": "text/x-python",
   "name": "python",
   "nbconvert_exporter": "python",
   "pygments_lexer": "ipython3",
   "version": "3.5.2"
  }
 },
 "nbformat": 4,
 "nbformat_minor": 2
}
