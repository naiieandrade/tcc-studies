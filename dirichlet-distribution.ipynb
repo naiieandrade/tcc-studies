{
 "cells": [
  {
   "cell_type": "code",
   "execution_count": 1,
   "metadata": {},
   "outputs": [],
   "source": [
    "import pandas as pd\n",
    "import numpy as np\n",
    "import matplotlib.pyplot as plt\n",
    "from sklearn.decomposition import PCA\n",
    "from matplotlib import pyplot as plt"
   ]
  },
  {
   "cell_type": "code",
   "execution_count": 2,
   "metadata": {},
   "outputs": [],
   "source": [
    "%run ./auxiliarfunctions.ipynb"
   ]
  },
  {
   "cell_type": "markdown",
   "metadata": {},
   "source": [
    "#### - Understanding dirichlet distribution"
   ]
  },
  {
   "cell_type": "code",
   "execution_count": 3,
   "metadata": {},
   "outputs": [
    {
     "data": {
      "text/plain": [
       "array([[0.16190838, 0.41625741, 0.42183421],\n",
       "       [0.24575702, 0.22437335, 0.52986963],\n",
       "       [0.26086558, 0.33672185, 0.40241258],\n",
       "       [0.40527654, 0.10179101, 0.49293246],\n",
       "       [0.2637899 , 0.13028196, 0.60592814],\n",
       "       [0.07312624, 0.41398083, 0.51289293],\n",
       "       [0.04105939, 0.46863491, 0.4903057 ],\n",
       "       [0.33199666, 0.62406143, 0.04394191],\n",
       "       [0.4999306 , 0.07928081, 0.42078859],\n",
       "       [0.06518586, 0.78319937, 0.15161477]])"
      ]
     },
     "execution_count": 3,
     "metadata": {},
     "output_type": "execute_result"
    }
   ],
   "source": [
    "size = 10\n",
    "d1 = np.random.dirichlet((1, 1, 1), size)\n",
    "d1"
   ]
  },
  {
   "cell_type": "code",
   "execution_count": 4,
   "metadata": {},
   "outputs": [
    {
     "data": {
      "text/plain": [
       "Text(0.5, 1.0, 'Dirichlet distribution')"
      ]
     },
     "execution_count": 4,
     "metadata": {},
     "output_type": "execute_result"
    },
    {
     "data": {
      "image/png": "[encoded data removed]",
      "text/plain": [
       "<Figure size 432x288 with 1 Axes>"
      ]
     },
     "metadata": {
      "needs_background": "light"
     },
     "output_type": "display_data"
    }
   ],
   "source": [
    "d1_t = d1.transpose()\n",
    "\n",
    "plt.barh(range(size), d1_t[0])\n",
    "plt.barh(range(size), d1_t[1], left=d1_t[0], color='g')\n",
    "plt.barh(range(size), d1_t[2], left=d1_t[0]+d1_t[1], color='r')\n",
    "plt.title(\"Dirichlet distribution\")"
   ]
  },
  {
   "cell_type": "code",
   "execution_count": 5,
   "metadata": {},
   "outputs": [
    {
     "data": {
      "text/plain": [
       "Text(0.5, 1.0, 'Dirichlet Distribution')"
      ]
     },
     "execution_count": 5,
     "metadata": {},
     "output_type": "execute_result"
    },
    {
     "data": {
      "image/png": "[encoded data removed]",
      "text/plain": [
       "<Figure size 432x288 with 1 Axes>"
      ]
     },
     "metadata": {
      "needs_background": "light"
     },
     "output_type": "display_data"
    }
   ],
   "source": [
    "d2 = np.random.dirichlet((99, 1, 1), size)\n",
    "\n",
    "d2_t = d2.transpose()\n",
    "\n",
    "plt.barh(range(size), d2_t[0])\n",
    "plt.barh(range(size), d2_t[1], left=d2_t[0], color='g')\n",
    "plt.barh(range(size), d2_t[2], left=d2_t[0]+d2_t[1], color='r')\n",
    "plt.title(\"Dirichlet Distribution\")"
   ]
  },
  {
   "cell_type": "markdown",
   "metadata": {},
   "source": [
    "#### - Check variance, mean, median"
   ]
  },
  {
   "cell_type": "code",
   "execution_count": 6,
   "metadata": {},
   "outputs": [],
   "source": [
    "df1 = pd.DataFrame(data = d1.T)"
   ]
  },
  {
   "cell_type": "code",
   "execution_count": 7,
   "metadata": {
    "scrolled": true
   },
   "outputs": [
    {
     "data": {
      "text/html": [
       "<div>\n",
       "<style scoped>\n",
       "    .dataframe tbody tr th:only-of-type {\n",
       "        vertical-align: middle;\n",
       "    }\n",
       "\n",
       "    .dataframe tbody tr th {\n",
       "        vertical-align: top;\n",
       "    }\n",
       "\n",
       "    .dataframe thead th {\n",
       "        text-align: right;\n",
       "    }\n",
       "</style>\n",
       "<table border=\"1\" class=\"dataframe\">\n",
       "  <thead>\n",
       "    <tr style=\"text-align: right;\">\n",
       "      <th></th>\n",
       "      <th>0</th>\n",
       "      <th>1</th>\n",
       "      <th>2</th>\n",
       "      <th>3</th>\n",
       "      <th>4</th>\n",
       "      <th>5</th>\n",
       "      <th>6</th>\n",
       "      <th>7</th>\n",
       "      <th>8</th>\n",
       "      <th>9</th>\n",
       "    </tr>\n",
       "  </thead>\n",
       "  <tbody>\n",
       "    <tr>\n",
       "      <th>count</th>\n",
       "      <td>3.000000</td>\n",
       "      <td>3.000000</td>\n",
       "      <td>3.000000</td>\n",
       "      <td>3.000000</td>\n",
       "      <td>3.000000</td>\n",
       "      <td>3.000000</td>\n",
       "      <td>3.000000</td>\n",
       "      <td>3.000000</td>\n",
       "      <td>3.000000</td>\n",
       "      <td>3.000000</td>\n",
       "    </tr>\n",
       "    <tr>\n",
       "      <th>mean</th>\n",
       "      <td>0.333333</td>\n",
       "      <td>0.333333</td>\n",
       "      <td>0.333333</td>\n",
       "      <td>0.333333</td>\n",
       "      <td>0.333333</td>\n",
       "      <td>0.333333</td>\n",
       "      <td>0.333333</td>\n",
       "      <td>0.333333</td>\n",
       "      <td>0.333333</td>\n",
       "      <td>0.333333</td>\n",
       "    </tr>\n",
       "    <tr>\n",
       "      <th>std</th>\n",
       "      <td>0.148485</td>\n",
       "      <td>0.170541</td>\n",
       "      <td>0.070834</td>\n",
       "      <td>0.205255</td>\n",
       "      <td>0.245330</td>\n",
       "      <td>0.230709</td>\n",
       "      <td>0.253348</td>\n",
       "      <td>0.290062</td>\n",
       "      <td>0.223546</td>\n",
       "      <td>0.391985</td>\n",
       "    </tr>\n",
       "    <tr>\n",
       "      <th>min</th>\n",
       "      <td>0.161908</td>\n",
       "      <td>0.224373</td>\n",
       "      <td>0.260866</td>\n",
       "      <td>0.101791</td>\n",
       "      <td>0.130282</td>\n",
       "      <td>0.073126</td>\n",
       "      <td>0.041059</td>\n",
       "      <td>0.043942</td>\n",
       "      <td>0.079281</td>\n",
       "      <td>0.065186</td>\n",
       "    </tr>\n",
       "    <tr>\n",
       "      <th>25%</th>\n",
       "      <td>0.289083</td>\n",
       "      <td>0.235065</td>\n",
       "      <td>0.298794</td>\n",
       "      <td>0.253534</td>\n",
       "      <td>0.197036</td>\n",
       "      <td>0.243554</td>\n",
       "      <td>0.254847</td>\n",
       "      <td>0.187969</td>\n",
       "      <td>0.250035</td>\n",
       "      <td>0.108400</td>\n",
       "    </tr>\n",
       "    <tr>\n",
       "      <th>50%</th>\n",
       "      <td>0.416257</td>\n",
       "      <td>0.245757</td>\n",
       "      <td>0.336722</td>\n",
       "      <td>0.405277</td>\n",
       "      <td>0.263790</td>\n",
       "      <td>0.413981</td>\n",
       "      <td>0.468635</td>\n",
       "      <td>0.331997</td>\n",
       "      <td>0.420789</td>\n",
       "      <td>0.151615</td>\n",
       "    </tr>\n",
       "    <tr>\n",
       "      <th>75%</th>\n",
       "      <td>0.419046</td>\n",
       "      <td>0.387813</td>\n",
       "      <td>0.369567</td>\n",
       "      <td>0.449104</td>\n",
       "      <td>0.434859</td>\n",
       "      <td>0.463437</td>\n",
       "      <td>0.479470</td>\n",
       "      <td>0.478029</td>\n",
       "      <td>0.460360</td>\n",
       "      <td>0.467407</td>\n",
       "    </tr>\n",
       "    <tr>\n",
       "      <th>max</th>\n",
       "      <td>0.421834</td>\n",
       "      <td>0.529870</td>\n",
       "      <td>0.402413</td>\n",
       "      <td>0.492932</td>\n",
       "      <td>0.605928</td>\n",
       "      <td>0.512893</td>\n",
       "      <td>0.490306</td>\n",
       "      <td>0.624061</td>\n",
       "      <td>0.499931</td>\n",
       "      <td>0.783199</td>\n",
       "    </tr>\n",
       "  </tbody>\n",
       "</table>\n",
       "</div>"
      ],
      "text/plain": [
       "              0         1         2         3         4         5         6  \\\n",
       "count  3.000000  3.000000  3.000000  3.000000  3.000000  3.000000  3.000000   \n",
       "mean   0.333333  0.333333  0.333333  0.333333  0.333333  0.333333  0.333333   \n",
       "std    0.148485  0.170541  0.070834  0.205255  0.245330  0.230709  0.253348   \n",
       "min    0.161908  0.224373  0.260866  0.101791  0.130282  0.073126  0.041059   \n",
       "25%    0.289083  0.235065  0.298794  0.253534  0.197036  0.243554  0.254847   \n",
       "50%    0.416257  0.245757  0.336722  0.405277  0.263790  0.413981  0.468635   \n",
       "75%    0.419046  0.387813  0.369567  0.449104  0.434859  0.463437  0.479470   \n",
       "max    0.421834  0.529870  0.402413  0.492932  0.605928  0.512893  0.490306   \n",
       "\n",
       "              7         8         9  \n",
       "count  3.000000  3.000000  3.000000  \n",
       "mean   0.333333  0.333333  0.333333  \n",
       "std    0.290062  0.223546  0.391985  \n",
       "min    0.043942  0.079281  0.065186  \n",
       "25%    0.187969  0.250035  0.108400  \n",
       "50%    0.331997  0.420789  0.151615  \n",
       "75%    0.478029  0.460360  0.467407  \n",
       "max    0.624061  0.499931  0.783199  "
      ]
     },
     "execution_count": 7,
     "metadata": {},
     "output_type": "execute_result"
    }
   ],
   "source": [
    "df1.describe()"
   ]
  },
  {
   "cell_type": "code",
   "execution_count": 8,
   "metadata": {},
   "outputs": [
    {
     "data": {
      "text/plain": [
       "[0.416257406899171,\n",
       " 0.24575701931405658,\n",
       " 0.3367218461142414,\n",
       " 0.40527653731906227,\n",
       " 0.2637899045992485,\n",
       " 0.4139808317938747,\n",
       " 0.46863490565302623,\n",
       " 0.33199665703854697,\n",
       " 0.42078858698078264,\n",
       " 0.15161476793092454]"
      ]
     },
     "execution_count": 8,
     "metadata": {},
     "output_type": "execute_result"
    }
   ],
   "source": [
    "calculate_median(df1)"
   ]
  },
  {
   "cell_type": "code",
   "execution_count": 9,
   "metadata": {
    "scrolled": false
   },
   "outputs": [
    {
     "data": {
      "text/html": [
       "<div>\n",
       "<style scoped>\n",
       "    .dataframe tbody tr th:only-of-type {\n",
       "        vertical-align: middle;\n",
       "    }\n",
       "\n",
       "    .dataframe tbody tr th {\n",
       "        vertical-align: top;\n",
       "    }\n",
       "\n",
       "    .dataframe thead th {\n",
       "        text-align: right;\n",
       "    }\n",
       "</style>\n",
       "<table border=\"1\" class=\"dataframe\">\n",
       "  <thead>\n",
       "    <tr style=\"text-align: right;\">\n",
       "      <th></th>\n",
       "      <th>0</th>\n",
       "      <th>1</th>\n",
       "      <th>2</th>\n",
       "      <th>3</th>\n",
       "      <th>4</th>\n",
       "      <th>5</th>\n",
       "      <th>6</th>\n",
       "      <th>7</th>\n",
       "      <th>8</th>\n",
       "      <th>9</th>\n",
       "    </tr>\n",
       "  </thead>\n",
       "  <tbody>\n",
       "    <tr>\n",
       "      <th>0</th>\n",
       "      <td>0.161908</td>\n",
       "      <td>0.245757</td>\n",
       "      <td>0.260866</td>\n",
       "      <td>0.405277</td>\n",
       "      <td>0.263790</td>\n",
       "      <td>0.073126</td>\n",
       "      <td>0.041059</td>\n",
       "      <td>0.331997</td>\n",
       "      <td>0.499931</td>\n",
       "      <td>0.065186</td>\n",
       "    </tr>\n",
       "    <tr>\n",
       "      <th>1</th>\n",
       "      <td>0.416257</td>\n",
       "      <td>0.224373</td>\n",
       "      <td>0.336722</td>\n",
       "      <td>0.101791</td>\n",
       "      <td>0.130282</td>\n",
       "      <td>0.413981</td>\n",
       "      <td>0.468635</td>\n",
       "      <td>0.624061</td>\n",
       "      <td>0.079281</td>\n",
       "      <td>0.783199</td>\n",
       "    </tr>\n",
       "    <tr>\n",
       "      <th>2</th>\n",
       "      <td>0.421834</td>\n",
       "      <td>0.529870</td>\n",
       "      <td>0.402413</td>\n",
       "      <td>0.492932</td>\n",
       "      <td>0.605928</td>\n",
       "      <td>0.512893</td>\n",
       "      <td>0.490306</td>\n",
       "      <td>0.043942</td>\n",
       "      <td>0.420789</td>\n",
       "      <td>0.151615</td>\n",
       "    </tr>\n",
       "  </tbody>\n",
       "</table>\n",
       "</div>"
      ],
      "text/plain": [
       "          0         1         2         3         4         5         6  \\\n",
       "0  0.161908  0.245757  0.260866  0.405277  0.263790  0.073126  0.041059   \n",
       "1  0.416257  0.224373  0.336722  0.101791  0.130282  0.413981  0.468635   \n",
       "2  0.421834  0.529870  0.402413  0.492932  0.605928  0.512893  0.490306   \n",
       "\n",
       "          7         8         9  \n",
       "0  0.331997  0.499931  0.065186  \n",
       "1  0.624061  0.079281  0.783199  \n",
       "2  0.043942  0.420789  0.151615  "
      ]
     },
     "execution_count": 9,
     "metadata": {},
     "output_type": "execute_result"
    }
   ],
   "source": [
    "df1"
   ]
  },
  {
   "cell_type": "code",
   "execution_count": 10,
   "metadata": {},
   "outputs": [
    {
     "data": {
      "text/html": [
       "<div>\n",
       "<style scoped>\n",
       "    .dataframe tbody tr th:only-of-type {\n",
       "        vertical-align: middle;\n",
       "    }\n",
       "\n",
       "    .dataframe tbody tr th {\n",
       "        vertical-align: top;\n",
       "    }\n",
       "\n",
       "    .dataframe thead th {\n",
       "        text-align: right;\n",
       "    }\n",
       "</style>\n",
       "<table border=\"1\" class=\"dataframe\">\n",
       "  <thead>\n",
       "    <tr style=\"text-align: right;\">\n",
       "      <th></th>\n",
       "      <th>0</th>\n",
       "      <th>1</th>\n",
       "      <th>2</th>\n",
       "      <th>3</th>\n",
       "      <th>4</th>\n",
       "      <th>5</th>\n",
       "      <th>6</th>\n",
       "      <th>7</th>\n",
       "      <th>8</th>\n",
       "      <th>9</th>\n",
       "    </tr>\n",
       "  </thead>\n",
       "  <tbody>\n",
       "    <tr>\n",
       "      <th>count</th>\n",
       "      <td>3.000000</td>\n",
       "      <td>3.000000</td>\n",
       "      <td>3.000000</td>\n",
       "      <td>3.000000</td>\n",
       "      <td>3.000000</td>\n",
       "      <td>3.000000</td>\n",
       "      <td>3.000000</td>\n",
       "      <td>3.000000</td>\n",
       "      <td>3.000000</td>\n",
       "      <td>3.000000</td>\n",
       "    </tr>\n",
       "    <tr>\n",
       "      <th>mean</th>\n",
       "      <td>0.333333</td>\n",
       "      <td>0.333333</td>\n",
       "      <td>0.333333</td>\n",
       "      <td>0.333333</td>\n",
       "      <td>0.333333</td>\n",
       "      <td>0.333333</td>\n",
       "      <td>0.333333</td>\n",
       "      <td>0.333333</td>\n",
       "      <td>0.333333</td>\n",
       "      <td>0.333333</td>\n",
       "    </tr>\n",
       "    <tr>\n",
       "      <th>std</th>\n",
       "      <td>0.566469</td>\n",
       "      <td>0.567883</td>\n",
       "      <td>0.565912</td>\n",
       "      <td>0.552812</td>\n",
       "      <td>0.563054</td>\n",
       "      <td>0.545404</td>\n",
       "      <td>0.540610</td>\n",
       "      <td>0.567111</td>\n",
       "      <td>0.568231</td>\n",
       "      <td>0.549560</td>\n",
       "    </tr>\n",
       "    <tr>\n",
       "      <th>min</th>\n",
       "      <td>0.003778</td>\n",
       "      <td>0.000690</td>\n",
       "      <td>0.004890</td>\n",
       "      <td>0.006696</td>\n",
       "      <td>0.001125</td>\n",
       "      <td>0.006117</td>\n",
       "      <td>0.000629</td>\n",
       "      <td>0.000667</td>\n",
       "      <td>0.003129</td>\n",
       "      <td>0.015834</td>\n",
       "    </tr>\n",
       "    <tr>\n",
       "      <th>25%</th>\n",
       "      <td>0.006286</td>\n",
       "      <td>0.005478</td>\n",
       "      <td>0.006605</td>\n",
       "      <td>0.014197</td>\n",
       "      <td>0.008280</td>\n",
       "      <td>0.018525</td>\n",
       "      <td>0.021443</td>\n",
       "      <td>0.005926</td>\n",
       "      <td>0.005268</td>\n",
       "      <td>0.016045</td>\n",
       "    </tr>\n",
       "    <tr>\n",
       "      <th>50%</th>\n",
       "      <td>0.008794</td>\n",
       "      <td>0.010265</td>\n",
       "      <td>0.008320</td>\n",
       "      <td>0.021698</td>\n",
       "      <td>0.015435</td>\n",
       "      <td>0.030933</td>\n",
       "      <td>0.042257</td>\n",
       "      <td>0.011185</td>\n",
       "      <td>0.007407</td>\n",
       "      <td>0.016256</td>\n",
       "    </tr>\n",
       "    <tr>\n",
       "      <th>75%</th>\n",
       "      <td>0.498111</td>\n",
       "      <td>0.499655</td>\n",
       "      <td>0.497555</td>\n",
       "      <td>0.496652</td>\n",
       "      <td>0.499437</td>\n",
       "      <td>0.496941</td>\n",
       "      <td>0.499685</td>\n",
       "      <td>0.499667</td>\n",
       "      <td>0.498436</td>\n",
       "      <td>0.492083</td>\n",
       "    </tr>\n",
       "    <tr>\n",
       "      <th>max</th>\n",
       "      <td>0.987429</td>\n",
       "      <td>0.989044</td>\n",
       "      <td>0.986789</td>\n",
       "      <td>0.971607</td>\n",
       "      <td>0.983440</td>\n",
       "      <td>0.962949</td>\n",
       "      <td>0.957114</td>\n",
       "      <td>0.988149</td>\n",
       "      <td>0.989465</td>\n",
       "      <td>0.967910</td>\n",
       "    </tr>\n",
       "  </tbody>\n",
       "</table>\n",
       "</div>"
      ],
      "text/plain": [
       "              0         1         2         3         4         5         6  \\\n",
       "count  3.000000  3.000000  3.000000  3.000000  3.000000  3.000000  3.000000   \n",
       "mean   0.333333  0.333333  0.333333  0.333333  0.333333  0.333333  0.333333   \n",
       "std    0.566469  0.567883  0.565912  0.552812  0.563054  0.545404  0.540610   \n",
       "min    0.003778  0.000690  0.004890  0.006696  0.001125  0.006117  0.000629   \n",
       "25%    0.006286  0.005478  0.006605  0.014197  0.008280  0.018525  0.021443   \n",
       "50%    0.008794  0.010265  0.008320  0.021698  0.015435  0.030933  0.042257   \n",
       "75%    0.498111  0.499655  0.497555  0.496652  0.499437  0.496941  0.499685   \n",
       "max    0.987429  0.989044  0.986789  0.971607  0.983440  0.962949  0.957114   \n",
       "\n",
       "              7         8         9  \n",
       "count  3.000000  3.000000  3.000000  \n",
       "mean   0.333333  0.333333  0.333333  \n",
       "std    0.567111  0.568231  0.549560  \n",
       "min    0.000667  0.003129  0.015834  \n",
       "25%    0.005926  0.005268  0.016045  \n",
       "50%    0.011185  0.007407  0.016256  \n",
       "75%    0.499667  0.498436  0.492083  \n",
       "max    0.988149  0.989465  0.967910  "
      ]
     },
     "execution_count": 10,
     "metadata": {},
     "output_type": "execute_result"
    }
   ],
   "source": [
    "df2 = pd.DataFrame(data = d2.T)\n",
    "df2.describe()"
   ]
  },
  {
   "cell_type": "code",
   "execution_count": 11,
   "metadata": {},
   "outputs": [
    {
     "data": {
      "text/plain": [
       "[0.008793651916841698,\n",
       " 0.010265069687076396,\n",
       " 0.008320244505166852,\n",
       " 0.021697579537562732,\n",
       " 0.015434963728044983,\n",
       " 0.030933379017049,\n",
       " 0.04225721882056646,\n",
       " 0.011184631462688683,\n",
       " 0.007406556510776324,\n",
       " 0.01625621474287456]"
      ]
     },
     "execution_count": 11,
     "metadata": {},
     "output_type": "execute_result"
    }
   ],
   "source": [
    "calculate_median(df2)"
   ]
  },
  {
   "cell_type": "code",
   "execution_count": 12,
   "metadata": {
    "scrolled": true
   },
   "outputs": [
    {
     "data": {
      "text/html": [
       "<div>\n",
       "<style scoped>\n",
       "    .dataframe tbody tr th:only-of-type {\n",
       "        vertical-align: middle;\n",
       "    }\n",
       "\n",
       "    .dataframe tbody tr th {\n",
       "        vertical-align: top;\n",
       "    }\n",
       "\n",
       "    .dataframe thead th {\n",
       "        text-align: right;\n",
       "    }\n",
       "</style>\n",
       "<table border=\"1\" class=\"dataframe\">\n",
       "  <thead>\n",
       "    <tr style=\"text-align: right;\">\n",
       "      <th></th>\n",
       "      <th>0</th>\n",
       "      <th>1</th>\n",
       "      <th>2</th>\n",
       "      <th>3</th>\n",
       "      <th>4</th>\n",
       "      <th>5</th>\n",
       "      <th>6</th>\n",
       "      <th>7</th>\n",
       "      <th>8</th>\n",
       "      <th>9</th>\n",
       "    </tr>\n",
       "  </thead>\n",
       "  <tbody>\n",
       "    <tr>\n",
       "      <th>0</th>\n",
       "      <td>0.987429</td>\n",
       "      <td>0.989044</td>\n",
       "      <td>0.986789</td>\n",
       "      <td>0.971607</td>\n",
       "      <td>0.983440</td>\n",
       "      <td>0.962949</td>\n",
       "      <td>0.957114</td>\n",
       "      <td>0.988149</td>\n",
       "      <td>0.989465</td>\n",
       "      <td>0.967910</td>\n",
       "    </tr>\n",
       "    <tr>\n",
       "      <th>1</th>\n",
       "      <td>0.003778</td>\n",
       "      <td>0.010265</td>\n",
       "      <td>0.004890</td>\n",
       "      <td>0.006696</td>\n",
       "      <td>0.001125</td>\n",
       "      <td>0.006117</td>\n",
       "      <td>0.042257</td>\n",
       "      <td>0.011185</td>\n",
       "      <td>0.007407</td>\n",
       "      <td>0.016256</td>\n",
       "    </tr>\n",
       "    <tr>\n",
       "      <th>2</th>\n",
       "      <td>0.008794</td>\n",
       "      <td>0.000690</td>\n",
       "      <td>0.008320</td>\n",
       "      <td>0.021698</td>\n",
       "      <td>0.015435</td>\n",
       "      <td>0.030933</td>\n",
       "      <td>0.000629</td>\n",
       "      <td>0.000667</td>\n",
       "      <td>0.003129</td>\n",
       "      <td>0.015834</td>\n",
       "    </tr>\n",
       "  </tbody>\n",
       "</table>\n",
       "</div>"
      ],
      "text/plain": [
       "          0         1         2         3         4         5         6  \\\n",
       "0  0.987429  0.989044  0.986789  0.971607  0.983440  0.962949  0.957114   \n",
       "1  0.003778  0.010265  0.004890  0.006696  0.001125  0.006117  0.042257   \n",
       "2  0.008794  0.000690  0.008320  0.021698  0.015435  0.030933  0.000629   \n",
       "\n",
       "          7         8         9  \n",
       "0  0.988149  0.989465  0.967910  \n",
       "1  0.011185  0.007407  0.016256  \n",
       "2  0.000667  0.003129  0.015834  "
      ]
     },
     "execution_count": 12,
     "metadata": {},
     "output_type": "execute_result"
    }
   ],
   "source": [
    "df2"
   ]
  },
  {
   "cell_type": "markdown",
   "metadata": {},
   "source": [
    "#### - Simulate cases in participative platform"
   ]
  },
  {
   "cell_type": "code",
   "execution_count": 13,
   "metadata": {},
   "outputs": [],
   "source": [
    "categories = 4\n",
    "comments = 100\n",
    "alpha = 0.520\n",
    "s = np.random.dirichlet((2 * alpha, alpha), (categories, comments))\n",
    "c1, c2, c3, c4 = s[:, :, 0]"
   ]
  },
  {
   "cell_type": "code",
   "execution_count": 14,
   "metadata": {
    "scrolled": true
   },
   "outputs": [
    {
     "data": {
      "text/plain": [
       "array([[0.06516334, 0.93483666],\n",
       "       [0.92092305, 0.07907695],\n",
       "       [0.38738725, 0.61261275],\n",
       "       [0.9988335 , 0.0011665 ],\n",
       "       [0.863855  , 0.136145  ],\n",
       "       [0.99807057, 0.00192943],\n",
       "       [0.78728774, 0.21271226],\n",
       "       [0.85295196, 0.14704804],\n",
       "       [0.81763698, 0.18236302],\n",
       "       [0.81727758, 0.18272242],\n",
       "       [0.71157837, 0.28842163],\n",
       "       [0.67516463, 0.32483537],\n",
       "       [0.82995338, 0.17004662],\n",
       "       [0.99724344, 0.00275656],\n",
       "       [0.04357329, 0.95642671]])"
      ]
     },
     "execution_count": 14,
     "metadata": {},
     "output_type": "execute_result"
    }
   ],
   "source": [
    "s[0][:15]"
   ]
  },
  {
   "cell_type": "code",
   "execution_count": 15,
   "metadata": {},
   "outputs": [
    {
     "data": {
      "text/plain": [
       "1.0"
      ]
     },
     "execution_count": 15,
     "metadata": {},
     "output_type": "execute_result"
    }
   ],
   "source": [
    "s[0][0].sum()"
   ]
  },
  {
   "cell_type": "code",
   "execution_count": 16,
   "metadata": {},
   "outputs": [
    {
     "data": {
      "text/plain": [
       "Text(0.5, 1.0, 'Dirichlet Distribution')"
      ]
     },
     "execution_count": 16,
     "metadata": {},
     "output_type": "execute_result"
    },
    {
     "data": {
      "image/png": "[encoded data removed]",
      "text/plain": [
       "<Figure size 432x288 with 1 Axes>"
      ]
     },
     "metadata": {
      "needs_background": "light"
     },
     "output_type": "display_data"
    }
   ],
   "source": [
    "sT = s[0][:20].transpose()\n",
    "\n",
    "plt.barh(range(20), sT[0])\n",
    "plt.barh(range(20), sT[1], left=sT[0], color='g')\n",
    "plt.title(\"Dirichlet Distribution\")"
   ]
  },
  {
   "cell_type": "code",
   "execution_count": 17,
   "metadata": {},
   "outputs": [
    {
     "name": "stdout",
     "output_type": "stream",
     "text": [
      "percentage to like and dislike:  [0.06516334 0.93483666]\n",
      "sum of percentages:  1.0\n",
      "how many categories and comments was voted:  (4, 100, 2)\n"
     ]
    }
   ],
   "source": [
    "print('percentage to like and dislike: ', s[0][0])\n",
    "print('sum of percentages: ', s[0][0].sum())\n",
    "print('how many categories and comments was voted: ', s.shape)"
   ]
  },
  {
   "cell_type": "code",
   "execution_count": 18,
   "metadata": {},
   "outputs": [],
   "source": [
    "votes1 = np.random.random(size=(100, comments)) < c1\n",
    "votes2 = np.random.random(size=(70, comments)) < c2\n",
    "votes3 = np.random.random(size=(120, comments)) < c3\n",
    "votes4 = np.random.random(size=(90, comments)) < c4"
   ]
  },
  {
   "cell_type": "code",
   "execution_count": 19,
   "metadata": {},
   "outputs": [
    {
     "data": {
      "text/plain": [
       "array([False,  True,  True,  True,  True])"
      ]
     },
     "execution_count": 19,
     "metadata": {},
     "output_type": "execute_result"
    }
   ],
   "source": [
    "# Like and dislike\n",
    "votes1[1,:5]"
   ]
  },
  {
   "cell_type": "code",
   "execution_count": 20,
   "metadata": {},
   "outputs": [],
   "source": [
    "votes = np.vstack([votes1,votes2,votes3,votes4])"
   ]
  },
  {
   "cell_type": "code",
   "execution_count": 21,
   "metadata": {},
   "outputs": [
    {
     "data": {
      "text/plain": [
       "(380, 100)"
      ]
     },
     "execution_count": 21,
     "metadata": {},
     "output_type": "execute_result"
    }
   ],
   "source": [
    "votes.shape"
   ]
  },
  {
   "cell_type": "code",
   "execution_count": 22,
   "metadata": {},
   "outputs": [],
   "source": [
    "pca = PCA(n_components=2).fit_transform(votes)"
   ]
  },
  {
   "cell_type": "code",
   "execution_count": 23,
   "metadata": {},
   "outputs": [
    {
     "data": {
      "text/plain": [
       "(380, 2)"
      ]
     },
     "execution_count": 23,
     "metadata": {},
     "output_type": "execute_result"
    }
   ],
   "source": [
    "pca.shape"
   ]
  },
  {
   "cell_type": "code",
   "execution_count": 24,
   "metadata": {},
   "outputs": [
    {
     "data": {
      "text/plain": [
       "array([[-0.4019336 ,  2.28310759],\n",
       "       [-0.26668608,  2.4805588 ],\n",
       "       [ 0.03873165,  2.39973055],\n",
       "       [-0.93594062,  2.44612276],\n",
       "       [-0.54213557,  2.47005289]])"
      ]
     },
     "execution_count": 24,
     "metadata": {},
     "output_type": "execute_result"
    }
   ],
   "source": [
    "pca[:5]"
   ]
  },
  {
   "cell_type": "code",
   "execution_count": 25,
   "metadata": {},
   "outputs": [],
   "source": [
    "df = pd.DataFrame(pca)"
   ]
  },
  {
   "cell_type": "markdown",
   "metadata": {},
   "source": [
    "#### - Plot with different color for each category"
   ]
  },
  {
   "cell_type": "code",
   "execution_count": 26,
   "metadata": {},
   "outputs": [],
   "source": [
    "def deflabels(category, cat):\n",
    "    for c in category:\n",
    "        labels.append(cat)"
   ]
  },
  {
   "cell_type": "code",
   "execution_count": 27,
   "metadata": {},
   "outputs": [],
   "source": [
    "labels = []"
   ]
  },
  {
   "cell_type": "code",
   "execution_count": 28,
   "metadata": {},
   "outputs": [],
   "source": [
    "deflabels(votes1,'A')\n",
    "deflabels(votes2,'B')\n",
    "deflabels(votes3,'C')\n",
    "deflabels(votes4,'D')"
   ]
  },
  {
   "cell_type": "code",
   "execution_count": 29,
   "metadata": {},
   "outputs": [
    {
     "data": {
      "text/plain": [
       "(380, 380)"
      ]
     },
     "execution_count": 29,
     "metadata": {},
     "output_type": "execute_result"
    }
   ],
   "source": [
    "len(labels), len(votes)"
   ]
  },
  {
   "cell_type": "code",
   "execution_count": 30,
   "metadata": {},
   "outputs": [],
   "source": [
    "label_color_dict = {'A':'red','B':'green','C':'blue','D':'magenta'}"
   ]
  },
  {
   "cell_type": "code",
   "execution_count": 31,
   "metadata": {},
   "outputs": [],
   "source": [
    "color_votes = [label_color_dict[label] for label in labels]"
   ]
  },
  {
   "cell_type": "code",
   "execution_count": 32,
   "metadata": {},
   "outputs": [
    {
     "data": {
      "text/plain": [
       "<matplotlib.collections.PathCollection at 0x7fb535c27198>"
      ]
     },
     "execution_count": 32,
     "metadata": {},
     "output_type": "execute_result"
    },
    {
     "data": {
      "image/png": "[encoded data removed]",
      "text/plain": [
       "<Figure size 432x288 with 1 Axes>"
      ]
     },
     "metadata": {
      "needs_background": "light"
     },
     "output_type": "display_data"
    }
   ],
   "source": [
    "# plt.scatter(*pca.T)\n",
    "plt.scatter(x=df[0], y=df[1], c=color_votes, edgecolor='', alpha=0.5) "
   ]
  },
  {
   "cell_type": "markdown",
   "metadata": {},
   "source": [
    "#### - Analyse votes statistics "
   ]
  },
  {
   "cell_type": "code",
   "execution_count": 37,
   "metadata": {},
   "outputs": [],
   "source": [
    "raw_data = df_raw_data(votes1, votes2, votes3, votes)\n",
    "df_votes_math = pd.DataFrame(raw_data, columns = ['votes', 'std', 'mean', 'var'])"
   ]
  },
  {
   "cell_type": "code",
   "execution_count": 38,
   "metadata": {},
   "outputs": [
    {
     "data": {
      "image/png": "[encoded data removed]",
      "text/plain": [
       "<Figure size 720x360 with 1 Axes>"
      ]
     },
     "metadata": {
      "needs_background": "light"
     },
     "output_type": "display_data"
    }
   ],
   "source": [
    "plot_compare_votes_group(df_votes_math)"
   ]
  },
  {
   "cell_type": "markdown",
   "metadata": {},
   "source": [
    "### Change value from samples votes"
   ]
  },
  {
   "cell_type": "code",
   "execution_count": 39,
   "metadata": {},
   "outputs": [],
   "source": [
    "categories = 4\n",
    "comments = 100\n",
    "alpha = 0.520\n",
    "s = np.random.dirichlet((3 * alpha, alpha), (categories, comments))\n",
    "c1, c2, c3, c4 = s[:, :, 0]"
   ]
  },
  {
   "cell_type": "code",
   "execution_count": 40,
   "metadata": {},
   "outputs": [
    {
     "data": {
      "text/plain": [
       "1.0"
      ]
     },
     "execution_count": 40,
     "metadata": {},
     "output_type": "execute_result"
    }
   ],
   "source": [
    "s[0][0].sum()"
   ]
  },
  {
   "cell_type": "code",
   "execution_count": 41,
   "metadata": {},
   "outputs": [
    {
     "data": {
      "text/plain": [
       "(100,)"
      ]
     },
     "execution_count": 41,
     "metadata": {},
     "output_type": "execute_result"
    }
   ],
   "source": [
    "c3.shape"
   ]
  },
  {
   "cell_type": "code",
   "execution_count": 42,
   "metadata": {},
   "outputs": [
    {
     "data": {
      "text/plain": [
       "array([[[3.58478025e-01, 6.41521975e-01],\n",
       "        [9.32157603e-01, 6.78423972e-02],\n",
       "        [5.02382986e-01, 4.97617014e-01],\n",
       "        [1.17159461e-01, 8.82840539e-01],\n",
       "        [9.74076019e-01, 2.59239805e-02],\n",
       "        [9.17795827e-01, 8.22041725e-02],\n",
       "        [8.17889978e-01, 1.82110022e-01],\n",
       "        [9.02607737e-01, 9.73922626e-02],\n",
       "        [8.30477631e-01, 1.69522369e-01],\n",
       "        [5.14122393e-01, 4.85877607e-01],\n",
       "        [5.55087034e-01, 4.44912966e-01],\n",
       "        [8.94530460e-01, 1.05469540e-01],\n",
       "        [8.50216536e-01, 1.49783464e-01],\n",
       "        [3.98603001e-01, 6.01396999e-01],\n",
       "        [9.70381519e-01, 2.96184808e-02],\n",
       "        [8.75067870e-01, 1.24932130e-01],\n",
       "        [9.52766929e-01, 4.72330709e-02],\n",
       "        [1.86087852e-01, 8.13912148e-01],\n",
       "        [2.14280161e-01, 7.85719839e-01],\n",
       "        [9.98926504e-01, 1.07349635e-03],\n",
       "        [6.70190911e-01, 3.29809089e-01],\n",
       "        [9.99321731e-01, 6.78269071e-04],\n",
       "        [5.64861763e-01, 4.35138237e-01],\n",
       "        [1.66175993e-01, 8.33824007e-01],\n",
       "        [7.39433458e-01, 2.60566542e-01],\n",
       "        [7.54502452e-01, 2.45497548e-01],\n",
       "        [3.35110008e-01, 6.64889992e-01],\n",
       "        [8.87817327e-01, 1.12182673e-01],\n",
       "        [7.77057205e-01, 2.22942795e-01],\n",
       "        [9.96906963e-01, 3.09303672e-03],\n",
       "        [9.01688659e-01, 9.83113411e-02],\n",
       "        [7.01991235e-01, 2.98008765e-01],\n",
       "        [9.54541098e-01, 4.54589023e-02],\n",
       "        [9.22617542e-01, 7.73824575e-02],\n",
       "        [9.97422398e-01, 2.57760165e-03],\n",
       "        [9.99170235e-01, 8.29765039e-04],\n",
       "        [3.26166789e-01, 6.73833211e-01],\n",
       "        [3.57016059e-01, 6.42983941e-01],\n",
       "        [7.16506895e-01, 2.83493105e-01],\n",
       "        [4.12058089e-01, 5.87941911e-01],\n",
       "        [7.66099674e-01, 2.33900326e-01],\n",
       "        [8.97744588e-01, 1.02255412e-01],\n",
       "        [9.90467297e-01, 9.53270292e-03],\n",
       "        [8.79642107e-01, 1.20357893e-01],\n",
       "        [7.93721787e-01, 2.06278213e-01],\n",
       "        [8.67533533e-01, 1.32466467e-01],\n",
       "        [7.33680274e-01, 2.66319726e-01],\n",
       "        [2.58003058e-01, 7.41996942e-01],\n",
       "        [9.15889176e-01, 8.41108244e-02],\n",
       "        [3.85054371e-01, 6.14945629e-01],\n",
       "        [9.83612886e-01, 1.63871145e-02],\n",
       "        [3.34656071e-01, 6.65343929e-01],\n",
       "        [6.49553177e-01, 3.50446823e-01],\n",
       "        [4.74978556e-01, 5.25021444e-01],\n",
       "        [3.83182528e-01, 6.16817472e-01],\n",
       "        [6.68521749e-01, 3.31478251e-01],\n",
       "        [9.09594881e-01, 9.04051186e-02],\n",
       "        [8.11667867e-01, 1.88332133e-01],\n",
       "        [9.58463962e-01, 4.15360381e-02],\n",
       "        [8.91666464e-01, 1.08333536e-01],\n",
       "        [9.96985998e-01, 3.01400161e-03],\n",
       "        [7.50763340e-01, 2.49236660e-01],\n",
       "        [7.87904206e-01, 2.12095794e-01],\n",
       "        [2.82606573e-01, 7.17393427e-01],\n",
       "        [3.51865029e-01, 6.48134971e-01],\n",
       "        [9.98451626e-01, 1.54837372e-03],\n",
       "        [6.17457010e-01, 3.82542990e-01],\n",
       "        [6.97034407e-01, 3.02965593e-01],\n",
       "        [9.85864186e-01, 1.41358141e-02],\n",
       "        [7.96260970e-01, 2.03739030e-01],\n",
       "        [9.85713978e-01, 1.42860224e-02],\n",
       "        [9.21430163e-01, 7.85698366e-02],\n",
       "        [6.61164171e-01, 3.38835829e-01],\n",
       "        [8.56783978e-01, 1.43216022e-01],\n",
       "        [9.97750680e-01, 2.24932017e-03],\n",
       "        [8.13380876e-01, 1.86619124e-01],\n",
       "        [8.60113515e-01, 1.39886485e-01],\n",
       "        [4.94455146e-02, 9.50554485e-01],\n",
       "        [7.53492942e-01, 2.46507058e-01],\n",
       "        [4.08541646e-01, 5.91458354e-01],\n",
       "        [8.02935759e-02, 9.19706424e-01],\n",
       "        [9.11239302e-01, 8.87606979e-02],\n",
       "        [3.65939957e-01, 6.34060043e-01],\n",
       "        [9.45535000e-01, 5.44650000e-02],\n",
       "        [9.62280476e-01, 3.77195235e-02],\n",
       "        [7.55374110e-01, 2.44625890e-01],\n",
       "        [7.73505041e-01, 2.26494959e-01],\n",
       "        [3.66987530e-01, 6.33012470e-01],\n",
       "        [6.70440471e-01, 3.29559529e-01],\n",
       "        [9.93173133e-01, 6.82686668e-03],\n",
       "        [6.12277827e-02, 9.38772217e-01],\n",
       "        [9.73993031e-01, 2.60069689e-02],\n",
       "        [7.77223161e-01, 2.22776839e-01],\n",
       "        [9.86097672e-01, 1.39023275e-02],\n",
       "        [8.98911286e-01, 1.01088714e-01],\n",
       "        [9.77603411e-01, 2.23965892e-02],\n",
       "        [4.86792609e-01, 5.13207391e-01],\n",
       "        [3.50231982e-01, 6.49768018e-01],\n",
       "        [9.49709908e-01, 5.02900917e-02],\n",
       "        [9.50342879e-01, 4.96571210e-02]],\n",
       "\n",
       "       [[7.14358756e-01, 2.85641244e-01],\n",
       "        [9.95642836e-01, 4.35716359e-03],\n",
       "        [3.08882253e-01, 6.91117747e-01],\n",
       "        [8.33605275e-01, 1.66394725e-01],\n",
       "        [1.32236261e-01, 8.67763739e-01],\n",
       "        [4.31125334e-01, 5.68874666e-01],\n",
       "        [2.41877247e-01, 7.58122753e-01],\n",
       "        [8.91315211e-01, 1.08684789e-01],\n",
       "        [3.04447193e-01, 6.95552807e-01],\n",
       "        [9.50656904e-01, 4.93430963e-02],\n",
       "        [9.97133911e-01, 2.86608899e-03],\n",
       "        [9.74725054e-01, 2.52749456e-02],\n",
       "        [4.97350244e-01, 5.02649756e-01],\n",
       "        [9.46429277e-01, 5.35707230e-02],\n",
       "        [7.63192238e-01, 2.36807762e-01],\n",
       "        [6.44271600e-01, 3.55728400e-01],\n",
       "        [8.63475123e-01, 1.36524877e-01],\n",
       "        [9.97988576e-01, 2.01142361e-03],\n",
       "        [9.98901497e-01, 1.09850344e-03],\n",
       "        [5.83093613e-01, 4.16906387e-01],\n",
       "        [7.35083772e-01, 2.64916228e-01],\n",
       "        [8.43964039e-01, 1.56035961e-01],\n",
       "        [6.71065599e-01, 3.28934401e-01],\n",
       "        [9.32624390e-01, 6.73756100e-02],\n",
       "        [9.98113357e-01, 1.88664311e-03],\n",
       "        [9.68411921e-01, 3.15880791e-02],\n",
       "        [9.36411998e-01, 6.35880023e-02],\n",
       "        [7.62774393e-01, 2.37225607e-01],\n",
       "        [9.89337447e-01, 1.06625533e-02],\n",
       "        [9.88596623e-01, 1.14033775e-02],\n",
       "        [8.32377241e-01, 1.67622759e-01],\n",
       "        [3.81894024e-01, 6.18105976e-01],\n",
       "        [8.85249695e-01, 1.14750305e-01],\n",
       "        [9.50817987e-01, 4.91820130e-02],\n",
       "        [3.69684921e-01, 6.30315079e-01],\n",
       "        [7.10330408e-01, 2.89669592e-01],\n",
       "        [7.45592247e-01, 2.54407753e-01],\n",
       "        [5.16650288e-01, 4.83349712e-01],\n",
       "        [8.79341678e-01, 1.20658322e-01],\n",
       "        [8.86541160e-01, 1.13458840e-01],\n",
       "        [4.55334817e-01, 5.44665183e-01],\n",
       "        [9.45114953e-01, 5.48850469e-02],\n",
       "        [9.83539391e-01, 1.64606091e-02],\n",
       "        [3.92337798e-01, 6.07662202e-01],\n",
       "        [5.27339005e-01, 4.72660995e-01],\n",
       "        [9.32169862e-01, 6.78301377e-02],\n",
       "        [8.98110868e-01, 1.01889132e-01],\n",
       "        [8.32428966e-01, 1.67571034e-01],\n",
       "        [3.01330586e-01, 6.98669414e-01],\n",
       "        [9.43966166e-01, 5.60338338e-02],\n",
       "        [9.96079044e-01, 3.92095612e-03],\n",
       "        [9.57957321e-01, 4.20426790e-02],\n",
       "        [6.25958429e-01, 3.74041571e-01],\n",
       "        [9.71580844e-01, 2.84191565e-02],\n",
       "        [8.74139365e-01, 1.25860635e-01],\n",
       "        [8.24673776e-01, 1.75326224e-01],\n",
       "        [9.87660806e-01, 1.23391939e-02],\n",
       "        [9.62766595e-01, 3.72334054e-02],\n",
       "        [9.31373589e-01, 6.86264108e-02],\n",
       "        [3.09557779e-01, 6.90442221e-01],\n",
       "        [8.39441754e-01, 1.60558246e-01],\n",
       "        [8.29335357e-01, 1.70664643e-01],\n",
       "        [9.77128417e-01, 2.28715828e-02],\n",
       "        [4.05564174e-01, 5.94435826e-01],\n",
       "        [9.77677041e-01, 2.23229589e-02],\n",
       "        [9.91309447e-01, 8.69055326e-03],\n",
       "        [9.21570027e-01, 7.84299725e-02],\n",
       "        [6.68940265e-01, 3.31059735e-01],\n",
       "        [6.32139088e-01, 3.67860912e-01],\n",
       "        [1.77011980e-01, 8.22988020e-01],\n",
       "        [5.44181095e-01, 4.55818905e-01],\n",
       "        [9.16347195e-01, 8.36528046e-02],\n",
       "        [6.24234123e-01, 3.75765877e-01],\n",
       "        [7.70791046e-01, 2.29208954e-01],\n",
       "        [4.33630920e-01, 5.66369080e-01],\n",
       "        [9.93137370e-01, 6.86263021e-03],\n",
       "        [5.71381628e-01, 4.28618372e-01],\n",
       "        [7.11756531e-01, 2.88243469e-01],\n",
       "        [6.44803651e-01, 3.55196349e-01],\n",
       "        [8.34568066e-01, 1.65431934e-01],\n",
       "        [6.08845223e-01, 3.91154777e-01],\n",
       "        [4.68487515e-01, 5.31512485e-01],\n",
       "        [7.35691328e-01, 2.64308672e-01],\n",
       "        [9.78152485e-01, 2.18475150e-02],\n",
       "        [5.70728536e-01, 4.29271464e-01],\n",
       "        [9.02330671e-01, 9.76693286e-02],\n",
       "        [6.05342352e-01, 3.94657648e-01],\n",
       "        [7.81642678e-01, 2.18357322e-01],\n",
       "        [7.88669866e-01, 2.11330134e-01],\n",
       "        [9.65318820e-01, 3.46811799e-02],\n",
       "        [5.83322098e-01, 4.16677902e-01],\n",
       "        [9.60252290e-01, 3.97477096e-02],\n",
       "        [9.04339037e-01, 9.56609627e-02],\n",
       "        [3.45403083e-01, 6.54596917e-01],\n",
       "        [8.73012017e-01, 1.26987983e-01],\n",
       "        [4.83365135e-01, 5.16634865e-01],\n",
       "        [4.89479909e-01, 5.10520091e-01],\n",
       "        [4.93235918e-01, 5.06764082e-01],\n",
       "        [7.09390315e-01, 2.90609685e-01],\n",
       "        [7.28660433e-01, 2.71339567e-01]],\n",
       "\n",
       "       [[9.87669653e-01, 1.23303470e-02],\n",
       "        [9.90623866e-01, 9.37613392e-03],\n",
       "        [7.53656402e-01, 2.46343598e-01],\n",
       "        [9.98745699e-01, 1.25430118e-03],\n",
       "        [9.97355549e-01, 2.64445068e-03],\n",
       "        [7.63284442e-01, 2.36715558e-01],\n",
       "        [8.96709616e-01, 1.03290384e-01],\n",
       "        [8.49711089e-01, 1.50288911e-01],\n",
       "        [7.65138780e-01, 2.34861220e-01],\n",
       "        [3.76257147e-01, 6.23742853e-01],\n",
       "        [9.97322525e-01, 2.67747479e-03],\n",
       "        [7.80392220e-01, 2.19607780e-01],\n",
       "        [4.97005786e-01, 5.02994214e-01],\n",
       "        [6.48173421e-01, 3.51826579e-01],\n",
       "        [9.90349063e-01, 9.65093665e-03],\n",
       "        [6.82801746e-01, 3.17198254e-01],\n",
       "        [3.79601482e-01, 6.20398518e-01],\n",
       "        [8.98350826e-01, 1.01649174e-01],\n",
       "        [8.78389970e-01, 1.21610030e-01],\n",
       "        [9.18292702e-01, 8.17072981e-02],\n",
       "        [5.51549304e-01, 4.48450696e-01],\n",
       "        [7.69329512e-01, 2.30670488e-01],\n",
       "        [8.60323712e-01, 1.39676288e-01],\n",
       "        [9.87708542e-01, 1.22914583e-02],\n",
       "        [5.01912522e-01, 4.98087478e-01],\n",
       "        [9.15430285e-01, 8.45697148e-02],\n",
       "        [6.37498180e-01, 3.62501820e-01],\n",
       "        [7.49667421e-01, 2.50332579e-01],\n",
       "        [9.79607781e-01, 2.03922187e-02],\n",
       "        [7.47274827e-01, 2.52725173e-01],\n",
       "        [7.63585916e-01, 2.36414084e-01],\n",
       "        [8.62024167e-01, 1.37975833e-01],\n",
       "        [5.91221752e-01, 4.08778248e-01],\n",
       "        [4.16386849e-01, 5.83613151e-01],\n",
       "        [9.02041904e-01, 9.79580965e-02],\n",
       "        [9.72022765e-01, 2.79772355e-02],\n",
       "        [9.74684651e-01, 2.53153487e-02],\n",
       "        [3.42164928e-01, 6.57835072e-01],\n",
       "        [9.90775391e-01, 9.22460930e-03],\n",
       "        [6.44856467e-01, 3.55143533e-01],\n",
       "        [9.80964787e-01, 1.90352132e-02],\n",
       "        [5.57507668e-01, 4.42492332e-01],\n",
       "        [9.53824090e-01, 4.61759100e-02],\n",
       "        [6.37735697e-01, 3.62264303e-01],\n",
       "        [4.82817810e-01, 5.17182190e-01],\n",
       "        [2.39911535e-01, 7.60088465e-01],\n",
       "        [9.98732081e-01, 1.26791906e-03],\n",
       "        [9.04587894e-01, 9.54121062e-02],\n",
       "        [9.71402735e-01, 2.85972654e-02],\n",
       "        [1.13104521e-01, 8.86895479e-01],\n",
       "        [9.82580692e-01, 1.74193082e-02],\n",
       "        [4.87096065e-01, 5.12903935e-01],\n",
       "        [6.94711468e-01, 3.05288532e-01],\n",
       "        [8.27853427e-01, 1.72146573e-01],\n",
       "        [8.71836804e-01, 1.28163196e-01],\n",
       "        [5.36964168e-01, 4.63035832e-01],\n",
       "        [4.90895704e-01, 5.09104296e-01],\n",
       "        [7.11885634e-01, 2.88114366e-01],\n",
       "        [9.78233915e-01, 2.17660848e-02],\n",
       "        [9.59059071e-01, 4.09409294e-02],\n",
       "        [8.94901661e-01, 1.05098339e-01],\n",
       "        [9.97337825e-01, 2.66217459e-03],\n",
       "        [8.25907009e-01, 1.74092991e-01],\n",
       "        [9.59870964e-01, 4.01290357e-02],\n",
       "        [9.80743003e-01, 1.92569973e-02],\n",
       "        [4.46138910e-01, 5.53861090e-01],\n",
       "        [5.89197426e-01, 4.10802574e-01],\n",
       "        [9.02820025e-01, 9.71799748e-02],\n",
       "        [8.65353345e-01, 1.34646655e-01],\n",
       "        [7.01732809e-01, 2.98267191e-01],\n",
       "        [5.26447076e-01, 4.73552924e-01],\n",
       "        [3.94041220e-01, 6.05958780e-01],\n",
       "        [7.28460373e-01, 2.71539627e-01],\n",
       "        [7.73201981e-01, 2.26798019e-01],\n",
       "        [9.36211630e-01, 6.37883700e-02],\n",
       "        [7.28063765e-01, 2.71936235e-01],\n",
       "        [9.11040344e-01, 8.89596559e-02],\n",
       "        [9.59764457e-02, 9.04023554e-01],\n",
       "        [6.19931550e-01, 3.80068450e-01],\n",
       "        [6.65253184e-01, 3.34746816e-01],\n",
       "        [7.21083266e-01, 2.78916734e-01],\n",
       "        [9.98214179e-01, 1.78582109e-03],\n",
       "        [6.03575003e-01, 3.96424997e-01],\n",
       "        [2.08465081e-01, 7.91534919e-01],\n",
       "        [9.67055312e-01, 3.29446884e-02],\n",
       "        [7.72627721e-01, 2.27372279e-01],\n",
       "        [8.90213188e-01, 1.09786812e-01],\n",
       "        [8.28366810e-01, 1.71633190e-01],\n",
       "        [5.40792610e-01, 4.59207390e-01],\n",
       "        [9.26841173e-01, 7.31588266e-02],\n",
       "        [7.45364600e-01, 2.54635400e-01],\n",
       "        [9.99931383e-01, 6.86170100e-05],\n",
       "        [9.19091506e-01, 8.09084939e-02],\n",
       "        [9.92645909e-01, 7.35409057e-03],\n",
       "        [8.33269990e-01, 1.66730010e-01],\n",
       "        [8.51444248e-01, 1.48555752e-01],\n",
       "        [6.73081096e-01, 3.26918904e-01],\n",
       "        [9.97308233e-01, 2.69176679e-03],\n",
       "        [1.93884671e-01, 8.06115329e-01],\n",
       "        [9.87033465e-01, 1.29665345e-02]],\n",
       "\n",
       "       [[9.83839013e-01, 1.61609868e-02],\n",
       "        [8.68849405e-01, 1.31150595e-01],\n",
       "        [8.68642516e-01, 1.31357484e-01],\n",
       "        [5.62439210e-01, 4.37560790e-01],\n",
       "        [9.63646726e-01, 3.63532735e-02],\n",
       "        [5.88580196e-01, 4.11419804e-01],\n",
       "        [6.65635839e-01, 3.34364161e-01],\n",
       "        [6.56082470e-01, 3.43917530e-01],\n",
       "        [5.13195637e-01, 4.86804363e-01],\n",
       "        [8.03011713e-01, 1.96988287e-01],\n",
       "        [9.08786419e-01, 9.12135808e-02],\n",
       "        [5.69542425e-01, 4.30457575e-01],\n",
       "        [9.95516241e-01, 4.48375941e-03],\n",
       "        [6.76650174e-01, 3.23349826e-01],\n",
       "        [7.12734229e-01, 2.87265771e-01],\n",
       "        [6.80927037e-01, 3.19072963e-01],\n",
       "        [8.39990761e-01, 1.60009239e-01],\n",
       "        [8.70846618e-01, 1.29153382e-01],\n",
       "        [6.75634225e-01, 3.24365775e-01],\n",
       "        [9.78511607e-01, 2.14883935e-02],\n",
       "        [3.89685741e-01, 6.10314259e-01],\n",
       "        [3.80573163e-01, 6.19426837e-01],\n",
       "        [9.95334339e-01, 4.66566098e-03],\n",
       "        [8.50156289e-01, 1.49843711e-01],\n",
       "        [7.82152686e-01, 2.17847314e-01],\n",
       "        [4.34534513e-01, 5.65465487e-01],\n",
       "        [7.96377409e-01, 2.03622591e-01],\n",
       "        [9.46095664e-01, 5.39043360e-02],\n",
       "        [9.90098168e-01, 9.90183206e-03],\n",
       "        [8.69403210e-01, 1.30596790e-01],\n",
       "        [5.31467386e-01, 4.68532614e-01],\n",
       "        [9.99847436e-01, 1.52563925e-04],\n",
       "        [7.22342249e-01, 2.77657751e-01],\n",
       "        [8.97843697e-01, 1.02156303e-01],\n",
       "        [9.65853461e-01, 3.41465387e-02],\n",
       "        [9.97026578e-01, 2.97342247e-03],\n",
       "        [3.41752355e-01, 6.58247645e-01],\n",
       "        [6.73248989e-01, 3.26751011e-01],\n",
       "        [6.26245769e-01, 3.73754231e-01],\n",
       "        [9.74753956e-01, 2.52460436e-02],\n",
       "        [9.12980411e-01, 8.70195889e-02],\n",
       "        [8.11877910e-01, 1.88122090e-01],\n",
       "        [8.68638166e-01, 1.31361834e-01],\n",
       "        [1.47193657e-01, 8.52806343e-01],\n",
       "        [7.52401974e-01, 2.47598026e-01],\n",
       "        [8.95896027e-01, 1.04103973e-01],\n",
       "        [7.59606931e-01, 2.40393069e-01],\n",
       "        [4.92646247e-01, 5.07353753e-01],\n",
       "        [9.35003006e-01, 6.49969941e-02],\n",
       "        [5.31659125e-01, 4.68340875e-01],\n",
       "        [6.10905802e-01, 3.89094198e-01],\n",
       "        [9.99251758e-01, 7.48242130e-04],\n",
       "        [9.98589967e-01, 1.41003340e-03],\n",
       "        [6.89326024e-03, 9.93106740e-01],\n",
       "        [9.90012846e-01, 9.98715430e-03],\n",
       "        [3.50395096e-01, 6.49604904e-01],\n",
       "        [9.29004775e-01, 7.09952245e-02],\n",
       "        [9.26555397e-01, 7.34446032e-02],\n",
       "        [9.92740271e-01, 7.25972949e-03],\n",
       "        [7.03369755e-01, 2.96630245e-01],\n",
       "        [9.91740615e-01, 8.25938510e-03],\n",
       "        [7.94124238e-01, 2.05875762e-01],\n",
       "        [9.62585535e-02, 9.03741446e-01],\n",
       "        [9.07994151e-01, 9.20058490e-02],\n",
       "        [7.12369202e-01, 2.87630798e-01],\n",
       "        [3.76818083e-01, 6.23181917e-01],\n",
       "        [2.10698395e-01, 7.89301605e-01],\n",
       "        [9.29370098e-01, 7.06299021e-02],\n",
       "        [9.58800095e-01, 4.11999049e-02],\n",
       "        [9.38592714e-01, 6.14072860e-02],\n",
       "        [8.52008095e-01, 1.47991905e-01],\n",
       "        [8.50315480e-01, 1.49684520e-01],\n",
       "        [2.69206394e-01, 7.30793606e-01],\n",
       "        [9.16285811e-01, 8.37141890e-02],\n",
       "        [9.45272760e-01, 5.47272404e-02],\n",
       "        [2.82258319e-01, 7.17741681e-01],\n",
       "        [9.50586874e-01, 4.94131259e-02],\n",
       "        [9.71351243e-02, 9.02864876e-01],\n",
       "        [9.51603467e-01, 4.83965328e-02],\n",
       "        [8.52523545e-01, 1.47476455e-01],\n",
       "        [9.35356460e-01, 6.46435400e-02],\n",
       "        [9.33372747e-01, 6.66272526e-02],\n",
       "        [9.99989627e-01, 1.03733566e-05],\n",
       "        [9.87510503e-01, 1.24894968e-02],\n",
       "        [9.85840412e-01, 1.41595882e-02],\n",
       "        [9.96425635e-01, 3.57436547e-03],\n",
       "        [8.76038913e-01, 1.23961087e-01],\n",
       "        [6.44949500e-01, 3.55050500e-01],\n",
       "        [6.99759315e-01, 3.00240685e-01],\n",
       "        [8.90154336e-01, 1.09845664e-01],\n",
       "        [5.26792018e-01, 4.73207982e-01],\n",
       "        [9.79707736e-01, 2.02922638e-02],\n",
       "        [9.56336878e-01, 4.36631219e-02],\n",
       "        [9.45418680e-01, 5.45813195e-02],\n",
       "        [8.76630263e-01, 1.23369737e-01],\n",
       "        [5.62594106e-01, 4.37405894e-01],\n",
       "        [7.45720935e-01, 2.54279065e-01],\n",
       "        [3.15039725e-01, 6.84960275e-01],\n",
       "        [9.85813072e-01, 1.41869281e-02],\n",
       "        [5.55525415e-01, 4.44474585e-01]]])"
      ]
     },
     "execution_count": 42,
     "metadata": {},
     "output_type": "execute_result"
    }
   ],
   "source": [
    "s"
   ]
  },
  {
   "cell_type": "code",
   "execution_count": 43,
   "metadata": {},
   "outputs": [
    {
     "data": {
      "text/plain": [
       "Text(0.5, 1.0, 'Dirichlet Distribution')"
      ]
     },
     "execution_count": 43,
     "metadata": {},
     "output_type": "execute_result"
    },
    {
     "data": {
      "image/png": "[encoded data removed]",
      "text/plain": [
       "<Figure size 432x288 with 1 Axes>"
      ]
     },
     "metadata": {
      "needs_background": "light"
     },
     "output_type": "display_data"
    }
   ],
   "source": [
    "sT = s[0][:20].transpose()\n",
    "\n",
    "plt.barh(range(20), sT[0])\n",
    "plt.barh(range(20), sT[1], left=sT[0], color='g')\n",
    "plt.title(\"Dirichlet Distribution\")"
   ]
  },
  {
   "cell_type": "code",
   "execution_count": 44,
   "metadata": {},
   "outputs": [
    {
     "name": "stdout",
     "output_type": "stream",
     "text": [
      "percentage to like and dislike:  [0.35847802 0.64152198]\n",
      "sum of percentages:  1.0\n",
      "how many categories and comments was voted:  (4, 100, 2)\n"
     ]
    }
   ],
   "source": [
    "print('percentage to like and dislike: ', s[0][0])\n",
    "print('sum of percentages: ', s[0][0].sum())\n",
    "print('how many categories and comments was voted: ', s.shape)"
   ]
  },
  {
   "cell_type": "code",
   "execution_count": 45,
   "metadata": {},
   "outputs": [],
   "source": [
    "votes1_num = np.random.random(size=(100, comments))\n",
    "votes1 = votes1_num < c1\n",
    "votes2_num = np.random.random(size=(70, comments))\n",
    "votes2 = votes2_num < c2\n",
    "votes3_num = np.random.random(size=(120, comments))\n",
    "votes3 = votes3_num < c3\n",
    "votes4_num = np.random.random(size=(90, comments))\n",
    "votes4 = votes4_num < c4"
   ]
  },
  {
   "cell_type": "code",
   "execution_count": 46,
   "metadata": {},
   "outputs": [],
   "source": [
    "votes_num = np.vstack([votes1_num,votes2_num,votes3_num,votes4_num])\n",
    "votes = np.vstack([votes1,votes2,votes3,votes4])"
   ]
  },
  {
   "cell_type": "code",
   "execution_count": 47,
   "metadata": {},
   "outputs": [
    {
     "data": {
      "text/plain": [
       "(380, 100)"
      ]
     },
     "execution_count": 47,
     "metadata": {},
     "output_type": "execute_result"
    }
   ],
   "source": [
    "votes.shape"
   ]
  },
  {
   "cell_type": "code",
   "execution_count": 48,
   "metadata": {},
   "outputs": [],
   "source": [
    "pca = PCA(n_components=2).fit_transform(votes)"
   ]
  },
  {
   "cell_type": "code",
   "execution_count": 49,
   "metadata": {},
   "outputs": [],
   "source": [
    "labels = []"
   ]
  },
  {
   "cell_type": "code",
   "execution_count": 50,
   "metadata": {},
   "outputs": [],
   "source": [
    "deflabels(votes1,'A')\n",
    "deflabels(votes2,'B')\n",
    "deflabels(votes3,'C')\n",
    "deflabels(votes4,'D')"
   ]
  },
  {
   "cell_type": "code",
   "execution_count": 51,
   "metadata": {},
   "outputs": [],
   "source": [
    "color_votes = [label_color_dict[label] for label in labels]"
   ]
  },
  {
   "cell_type": "code",
   "execution_count": 52,
   "metadata": {},
   "outputs": [
    {
     "data": {
      "text/plain": [
       "<matplotlib.collections.PathCollection at 0x7fb53597f048>"
      ]
     },
     "execution_count": 52,
     "metadata": {},
     "output_type": "execute_result"
    },
    {
     "data": {
      "image/png": "[encoded data removed]",
      "text/plain": [
       "<Figure size 432x288 with 1 Axes>"
      ]
     },
     "metadata": {
      "needs_background": "light"
     },
     "output_type": "display_data"
    }
   ],
   "source": [
    "plt.scatter(*pca.T, c=color_votes, edgecolor='', alpha=0.5) "
   ]
  },
  {
   "cell_type": "code",
   "execution_count": 59,
   "metadata": {},
   "outputs": [
    {
     "data": {
      "text/html": [
       "<div>\n",
       "<style scoped>\n",
       "    .dataframe tbody tr th:only-of-type {\n",
       "        vertical-align: middle;\n",
       "    }\n",
       "\n",
       "    .dataframe tbody tr th {\n",
       "        vertical-align: top;\n",
       "    }\n",
       "\n",
       "    .dataframe thead th {\n",
       "        text-align: right;\n",
       "    }\n",
       "</style>\n",
       "<table border=\"1\" class=\"dataframe\">\n",
       "  <thead>\n",
       "    <tr style=\"text-align: right;\">\n",
       "      <th></th>\n",
       "      <th>votes</th>\n",
       "      <th>std</th>\n",
       "      <th>mean</th>\n",
       "      <th>var</th>\n",
       "    </tr>\n",
       "  </thead>\n",
       "  <tbody>\n",
       "    <tr>\n",
       "      <th>0</th>\n",
       "      <td>votes 1</td>\n",
       "      <td>0.455275</td>\n",
       "      <td>0.706700</td>\n",
       "      <td>0.207275</td>\n",
       "    </tr>\n",
       "    <tr>\n",
       "      <th>1</th>\n",
       "      <td>votes 2</td>\n",
       "      <td>0.437692</td>\n",
       "      <td>0.741714</td>\n",
       "      <td>0.191574</td>\n",
       "    </tr>\n",
       "    <tr>\n",
       "      <th>2</th>\n",
       "      <td>votes 3</td>\n",
       "      <td>0.425345</td>\n",
       "      <td>0.762833</td>\n",
       "      <td>0.180919</td>\n",
       "    </tr>\n",
       "    <tr>\n",
       "      <th>3</th>\n",
       "      <td>votes 4</td>\n",
       "      <td>0.432820</td>\n",
       "      <td>0.750333</td>\n",
       "      <td>0.187333</td>\n",
       "    </tr>\n",
       "    <tr>\n",
       "      <th>4</th>\n",
       "      <td>all votes</td>\n",
       "      <td>0.437970</td>\n",
       "      <td>0.741211</td>\n",
       "      <td>0.191817</td>\n",
       "    </tr>\n",
       "  </tbody>\n",
       "</table>\n",
       "</div>"
      ],
      "text/plain": [
       "       votes       std      mean       var\n",
       "0    votes 1  0.455275  0.706700  0.207275\n",
       "1    votes 2  0.437692  0.741714  0.191574\n",
       "2    votes 3  0.425345  0.762833  0.180919\n",
       "3    votes 4  0.432820  0.750333  0.187333\n",
       "4  all votes  0.437970  0.741211  0.191817"
      ]
     },
     "execution_count": 59,
     "metadata": {},
     "output_type": "execute_result"
    }
   ],
   "source": [
    "raw_data = df_raw_data(votes1, votes2, votes3, votes)\n",
    "pd.DataFrame(raw_data, columns = ['votes', 'std', 'mean', 'var'])"
   ]
  },
  {
   "cell_type": "code",
   "execution_count": 206,
   "metadata": {
    "scrolled": false
   },
   "outputs": [
    {
     "data": {
      "text/plain": [
       "array([[ 2.16827593, -1.00075957],\n",
       "       [ 1.22291799, -0.36698626],\n",
       "       [ 1.75838979, -0.53963428],\n",
       "       [ 1.411285  , -0.17433636],\n",
       "       [ 2.392251  , -0.93618504]])"
      ]
     },
     "execution_count": 206,
     "metadata": {},
     "output_type": "execute_result"
    }
   ],
   "source": [
    "pca[:5]"
   ]
  },
  {
   "cell_type": "code",
   "execution_count": null,
   "metadata": {},
   "outputs": [],
   "source": [
    "aX_train, X_test, y_train, y_test = train_test_split(df.iloc[:,-10:-1], df['category'], test_size = 0.2, random_state=17)"
   ]
  },
  {
   "cell_type": "code",
   "execution_count": null,
   "metadata": {},
   "outputs": [],
   "source": [
    "model = GaussianNB()\n",
    "model.fit(X_train, y_train)\n",
    "y_pred = model.predict(X_test)\n",
    "print(\"acc: \", accuracy_score(y_exp, y_pred))"
   ]
  },
  {
   "cell_type": "code",
   "execution_count": null,
   "metadata": {},
   "outputs": [],
   "source": []
  },
  {
   "cell_type": "code",
   "execution_count": null,
   "metadata": {},
   "outputs": [],
   "source": []
  },
  {
   "cell_type": "markdown",
   "metadata": {},
   "source": [
    "#### - Applying Naive Bayes to predict Agreed/Not comment"
   ]
  },
  {
   "cell_type": "code",
   "execution_count": 60,
   "metadata": {},
   "outputs": [
    {
     "data": {
      "text/plain": [
       "((4, 100, 2), (380, 100))"
      ]
     },
     "execution_count": 60,
     "metadata": {},
     "output_type": "execute_result"
    }
   ],
   "source": [
    "s.shape, votes.shape"
   ]
  },
  {
   "cell_type": "code",
   "execution_count": 61,
   "metadata": {},
   "outputs": [
    {
     "data": {
      "text/plain": [
       "(100, 100)"
      ]
     },
     "execution_count": 61,
     "metadata": {},
     "output_type": "execute_result"
    }
   ],
   "source": [
    "votes1_num.shape"
   ]
  },
  {
   "cell_type": "code",
   "execution_count": 62,
   "metadata": {},
   "outputs": [
    {
     "data": {
      "text/plain": [
       "(10, 100)"
      ]
     },
     "execution_count": 62,
     "metadata": {},
     "output_type": "execute_result"
    }
   ],
   "source": [
    "votes1_num[:10].shape"
   ]
  },
  {
   "cell_type": "code",
   "execution_count": 63,
   "metadata": {},
   "outputs": [],
   "source": [
    "df1 = pd.DataFrame(votes1)\n",
    "df1['category'] = 1"
   ]
  },
  {
   "cell_type": "code",
   "execution_count": 64,
   "metadata": {},
   "outputs": [],
   "source": [
    "df2 = pd.DataFrame(votes2)\n",
    "df2['category'] = 2"
   ]
  },
  {
   "cell_type": "code",
   "execution_count": 65,
   "metadata": {},
   "outputs": [],
   "source": [
    "df3 = pd.DataFrame(votes3)\n",
    "df3['category'] = 3"
   ]
  },
  {
   "cell_type": "code",
   "execution_count": 66,
   "metadata": {},
   "outputs": [],
   "source": [
    "df4 = pd.DataFrame(votes4)\n",
    "df4['category'] = 4"
   ]
  },
  {
   "cell_type": "code",
   "execution_count": 67,
   "metadata": {},
   "outputs": [],
   "source": [
    "frames = [df1, df2, df3, df4]"
   ]
  },
  {
   "cell_type": "code",
   "execution_count": 68,
   "metadata": {},
   "outputs": [],
   "source": [
    "df = pd.concat(frames)"
   ]
  },
  {
   "cell_type": "code",
   "execution_count": 140,
   "metadata": {},
   "outputs": [
    {
     "data": {
      "text/html": [
       "<div>\n",
       "<style scoped>\n",
       "    .dataframe tbody tr th:only-of-type {\n",
       "        vertical-align: middle;\n",
       "    }\n",
       "\n",
       "    .dataframe tbody tr th {\n",
       "        vertical-align: top;\n",
       "    }\n",
       "\n",
       "    .dataframe thead th {\n",
       "        text-align: right;\n",
       "    }\n",
       "</style>\n",
       "<table border=\"1\" class=\"dataframe\">\n",
       "  <thead>\n",
       "    <tr style=\"text-align: right;\">\n",
       "      <th></th>\n",
       "      <th>index</th>\n",
       "      <th>0</th>\n",
       "      <th>1</th>\n",
       "      <th>2</th>\n",
       "      <th>3</th>\n",
       "      <th>4</th>\n",
       "      <th>5</th>\n",
       "      <th>6</th>\n",
       "      <th>7</th>\n",
       "      <th>8</th>\n",
       "      <th>...</th>\n",
       "      <th>91</th>\n",
       "      <th>92</th>\n",
       "      <th>93</th>\n",
       "      <th>94</th>\n",
       "      <th>95</th>\n",
       "      <th>96</th>\n",
       "      <th>97</th>\n",
       "      <th>98</th>\n",
       "      <th>99</th>\n",
       "      <th>category</th>\n",
       "    </tr>\n",
       "  </thead>\n",
       "  <tbody>\n",
       "    <tr>\n",
       "      <th>0</th>\n",
       "      <td>0</td>\n",
       "      <td>0</td>\n",
       "      <td>1</td>\n",
       "      <td>1</td>\n",
       "      <td>0</td>\n",
       "      <td>1</td>\n",
       "      <td>1</td>\n",
       "      <td>1</td>\n",
       "      <td>1</td>\n",
       "      <td>1</td>\n",
       "      <td>...</td>\n",
       "      <td>1</td>\n",
       "      <td>1</td>\n",
       "      <td>1</td>\n",
       "      <td>1</td>\n",
       "      <td>1</td>\n",
       "      <td>0</td>\n",
       "      <td>0</td>\n",
       "      <td>1</td>\n",
       "      <td>1</td>\n",
       "      <td>1</td>\n",
       "    </tr>\n",
       "    <tr>\n",
       "      <th>1</th>\n",
       "      <td>1</td>\n",
       "      <td>0</td>\n",
       "      <td>1</td>\n",
       "      <td>1</td>\n",
       "      <td>0</td>\n",
       "      <td>1</td>\n",
       "      <td>1</td>\n",
       "      <td>1</td>\n",
       "      <td>1</td>\n",
       "      <td>0</td>\n",
       "      <td>...</td>\n",
       "      <td>1</td>\n",
       "      <td>1</td>\n",
       "      <td>1</td>\n",
       "      <td>1</td>\n",
       "      <td>1</td>\n",
       "      <td>1</td>\n",
       "      <td>0</td>\n",
       "      <td>1</td>\n",
       "      <td>1</td>\n",
       "      <td>1</td>\n",
       "    </tr>\n",
       "    <tr>\n",
       "      <th>2</th>\n",
       "      <td>2</td>\n",
       "      <td>0</td>\n",
       "      <td>1</td>\n",
       "      <td>1</td>\n",
       "      <td>1</td>\n",
       "      <td>1</td>\n",
       "      <td>1</td>\n",
       "      <td>1</td>\n",
       "      <td>1</td>\n",
       "      <td>1</td>\n",
       "      <td>...</td>\n",
       "      <td>1</td>\n",
       "      <td>1</td>\n",
       "      <td>1</td>\n",
       "      <td>1</td>\n",
       "      <td>1</td>\n",
       "      <td>1</td>\n",
       "      <td>1</td>\n",
       "      <td>1</td>\n",
       "      <td>1</td>\n",
       "      <td>1</td>\n",
       "    </tr>\n",
       "    <tr>\n",
       "      <th>3</th>\n",
       "      <td>3</td>\n",
       "      <td>1</td>\n",
       "      <td>1</td>\n",
       "      <td>1</td>\n",
       "      <td>0</td>\n",
       "      <td>1</td>\n",
       "      <td>1</td>\n",
       "      <td>1</td>\n",
       "      <td>1</td>\n",
       "      <td>1</td>\n",
       "      <td>...</td>\n",
       "      <td>1</td>\n",
       "      <td>1</td>\n",
       "      <td>1</td>\n",
       "      <td>1</td>\n",
       "      <td>1</td>\n",
       "      <td>1</td>\n",
       "      <td>0</td>\n",
       "      <td>1</td>\n",
       "      <td>0</td>\n",
       "      <td>1</td>\n",
       "    </tr>\n",
       "    <tr>\n",
       "      <th>4</th>\n",
       "      <td>4</td>\n",
       "      <td>0</td>\n",
       "      <td>1</td>\n",
       "      <td>0</td>\n",
       "      <td>0</td>\n",
       "      <td>1</td>\n",
       "      <td>1</td>\n",
       "      <td>1</td>\n",
       "      <td>1</td>\n",
       "      <td>1</td>\n",
       "      <td>...</td>\n",
       "      <td>1</td>\n",
       "      <td>0</td>\n",
       "      <td>1</td>\n",
       "      <td>1</td>\n",
       "      <td>1</td>\n",
       "      <td>0</td>\n",
       "      <td>0</td>\n",
       "      <td>1</td>\n",
       "      <td>1</td>\n",
       "      <td>1</td>\n",
       "    </tr>\n",
       "  </tbody>\n",
       "</table>\n",
       "<p>5 rows × 102 columns</p>\n",
       "</div>"
      ],
      "text/plain": [
       "   index  0  1  2  3  4  5  6  7  8  ...  91  92  93  94  95  96  97  98  99  \\\n",
       "0      0  0  1  1  0  1  1  1  1  1  ...   1   1   1   1   1   0   0   1   1   \n",
       "1      1  0  1  1  0  1  1  1  1  0  ...   1   1   1   1   1   1   0   1   1   \n",
       "2      2  0  1  1  1  1  1  1  1  1  ...   1   1   1   1   1   1   1   1   1   \n",
       "3      3  1  1  1  0  1  1  1  1  1  ...   1   1   1   1   1   1   0   1   0   \n",
       "4      4  0  1  0  0  1  1  1  1  1  ...   1   0   1   1   1   0   0   1   1   \n",
       "\n",
       "   category  \n",
       "0         1  \n",
       "1         1  \n",
       "2         1  \n",
       "3         1  \n",
       "4         1  \n",
       "\n",
       "[5 rows x 102 columns]"
      ]
     },
     "execution_count": 140,
     "metadata": {},
     "output_type": "execute_result"
    }
   ],
   "source": [
    "df.head()"
   ]
  },
  {
   "cell_type": "code",
   "execution_count": 70,
   "metadata": {},
   "outputs": [
    {
     "data": {
      "text/html": [
       "<div>\n",
       "<style scoped>\n",
       "    .dataframe tbody tr th:only-of-type {\n",
       "        vertical-align: middle;\n",
       "    }\n",
       "\n",
       "    .dataframe tbody tr th {\n",
       "        vertical-align: top;\n",
       "    }\n",
       "\n",
       "    .dataframe thead th {\n",
       "        text-align: right;\n",
       "    }\n",
       "</style>\n",
       "<table border=\"1\" class=\"dataframe\">\n",
       "  <thead>\n",
       "    <tr style=\"text-align: right;\">\n",
       "      <th></th>\n",
       "      <th>0</th>\n",
       "      <th>1</th>\n",
       "      <th>2</th>\n",
       "      <th>3</th>\n",
       "      <th>4</th>\n",
       "      <th>5</th>\n",
       "      <th>6</th>\n",
       "      <th>7</th>\n",
       "      <th>8</th>\n",
       "      <th>9</th>\n",
       "      <th>...</th>\n",
       "      <th>91</th>\n",
       "      <th>92</th>\n",
       "      <th>93</th>\n",
       "      <th>94</th>\n",
       "      <th>95</th>\n",
       "      <th>96</th>\n",
       "      <th>97</th>\n",
       "      <th>98</th>\n",
       "      <th>99</th>\n",
       "      <th>category</th>\n",
       "    </tr>\n",
       "  </thead>\n",
       "  <tbody>\n",
       "    <tr>\n",
       "      <th>0</th>\n",
       "      <td>False</td>\n",
       "      <td>True</td>\n",
       "      <td>True</td>\n",
       "      <td>False</td>\n",
       "      <td>True</td>\n",
       "      <td>True</td>\n",
       "      <td>True</td>\n",
       "      <td>True</td>\n",
       "      <td>True</td>\n",
       "      <td>False</td>\n",
       "      <td>...</td>\n",
       "      <td>True</td>\n",
       "      <td>True</td>\n",
       "      <td>True</td>\n",
       "      <td>True</td>\n",
       "      <td>True</td>\n",
       "      <td>False</td>\n",
       "      <td>False</td>\n",
       "      <td>True</td>\n",
       "      <td>True</td>\n",
       "      <td>1</td>\n",
       "    </tr>\n",
       "  </tbody>\n",
       "</table>\n",
       "<p>1 rows × 101 columns</p>\n",
       "</div>"
      ],
      "text/plain": [
       "       0     1     2      3     4     5     6     7     8      9  ...    91  \\\n",
       "0  False  True  True  False  True  True  True  True  True  False  ...  True   \n",
       "\n",
       "     92    93    94    95     96     97    98    99  category  \n",
       "0  True  True  True  True  False  False  True  True         1  \n",
       "\n",
       "[1 rows x 101 columns]"
      ]
     },
     "execution_count": 70,
     "metadata": {},
     "output_type": "execute_result"
    }
   ],
   "source": [
    "df[0:1]"
   ]
  },
  {
   "cell_type": "code",
   "execution_count": 71,
   "metadata": {},
   "outputs": [],
   "source": [
    "df = df.reset_index()"
   ]
  },
  {
   "cell_type": "code",
   "execution_count": 72,
   "metadata": {},
   "outputs": [
    {
     "data": {
      "text/plain": [
       "False"
      ]
     },
     "execution_count": 72,
     "metadata": {},
     "output_type": "execute_result"
    }
   ],
   "source": [
    "df[0][1]"
   ]
  },
  {
   "cell_type": "code",
   "execution_count": 73,
   "metadata": {},
   "outputs": [],
   "source": [
    "d = {False:0,True:1}\n",
    "df = df.replace(d)"
   ]
  },
  {
   "cell_type": "code",
   "execution_count": 74,
   "metadata": {},
   "outputs": [
    {
     "data": {
      "text/html": [
       "<div>\n",
       "<style scoped>\n",
       "    .dataframe tbody tr th:only-of-type {\n",
       "        vertical-align: middle;\n",
       "    }\n",
       "\n",
       "    .dataframe tbody tr th {\n",
       "        vertical-align: top;\n",
       "    }\n",
       "\n",
       "    .dataframe thead th {\n",
       "        text-align: right;\n",
       "    }\n",
       "</style>\n",
       "<table border=\"1\" class=\"dataframe\">\n",
       "  <thead>\n",
       "    <tr style=\"text-align: right;\">\n",
       "      <th></th>\n",
       "      <th>index</th>\n",
       "      <th>0</th>\n",
       "      <th>1</th>\n",
       "      <th>2</th>\n",
       "      <th>3</th>\n",
       "      <th>4</th>\n",
       "      <th>5</th>\n",
       "      <th>6</th>\n",
       "      <th>7</th>\n",
       "      <th>8</th>\n",
       "      <th>...</th>\n",
       "      <th>91</th>\n",
       "      <th>92</th>\n",
       "      <th>93</th>\n",
       "      <th>94</th>\n",
       "      <th>95</th>\n",
       "      <th>96</th>\n",
       "      <th>97</th>\n",
       "      <th>98</th>\n",
       "      <th>99</th>\n",
       "      <th>category</th>\n",
       "    </tr>\n",
       "  </thead>\n",
       "  <tbody>\n",
       "    <tr>\n",
       "      <th>0</th>\n",
       "      <td>0</td>\n",
       "      <td>0</td>\n",
       "      <td>1</td>\n",
       "      <td>1</td>\n",
       "      <td>0</td>\n",
       "      <td>1</td>\n",
       "      <td>1</td>\n",
       "      <td>1</td>\n",
       "      <td>1</td>\n",
       "      <td>1</td>\n",
       "      <td>...</td>\n",
       "      <td>1</td>\n",
       "      <td>1</td>\n",
       "      <td>1</td>\n",
       "      <td>1</td>\n",
       "      <td>1</td>\n",
       "      <td>0</td>\n",
       "      <td>0</td>\n",
       "      <td>1</td>\n",
       "      <td>1</td>\n",
       "      <td>1</td>\n",
       "    </tr>\n",
       "    <tr>\n",
       "      <th>1</th>\n",
       "      <td>1</td>\n",
       "      <td>0</td>\n",
       "      <td>1</td>\n",
       "      <td>1</td>\n",
       "      <td>0</td>\n",
       "      <td>1</td>\n",
       "      <td>1</td>\n",
       "      <td>1</td>\n",
       "      <td>1</td>\n",
       "      <td>0</td>\n",
       "      <td>...</td>\n",
       "      <td>1</td>\n",
       "      <td>1</td>\n",
       "      <td>1</td>\n",
       "      <td>1</td>\n",
       "      <td>1</td>\n",
       "      <td>1</td>\n",
       "      <td>0</td>\n",
       "      <td>1</td>\n",
       "      <td>1</td>\n",
       "      <td>1</td>\n",
       "    </tr>\n",
       "    <tr>\n",
       "      <th>2</th>\n",
       "      <td>2</td>\n",
       "      <td>0</td>\n",
       "      <td>1</td>\n",
       "      <td>1</td>\n",
       "      <td>1</td>\n",
       "      <td>1</td>\n",
       "      <td>1</td>\n",
       "      <td>1</td>\n",
       "      <td>1</td>\n",
       "      <td>1</td>\n",
       "      <td>...</td>\n",
       "      <td>1</td>\n",
       "      <td>1</td>\n",
       "      <td>1</td>\n",
       "      <td>1</td>\n",
       "      <td>1</td>\n",
       "      <td>1</td>\n",
       "      <td>1</td>\n",
       "      <td>1</td>\n",
       "      <td>1</td>\n",
       "      <td>1</td>\n",
       "    </tr>\n",
       "    <tr>\n",
       "      <th>3</th>\n",
       "      <td>3</td>\n",
       "      <td>1</td>\n",
       "      <td>1</td>\n",
       "      <td>1</td>\n",
       "      <td>0</td>\n",
       "      <td>1</td>\n",
       "      <td>1</td>\n",
       "      <td>1</td>\n",
       "      <td>1</td>\n",
       "      <td>1</td>\n",
       "      <td>...</td>\n",
       "      <td>1</td>\n",
       "      <td>1</td>\n",
       "      <td>1</td>\n",
       "      <td>1</td>\n",
       "      <td>1</td>\n",
       "      <td>1</td>\n",
       "      <td>0</td>\n",
       "      <td>1</td>\n",
       "      <td>0</td>\n",
       "      <td>1</td>\n",
       "    </tr>\n",
       "    <tr>\n",
       "      <th>4</th>\n",
       "      <td>4</td>\n",
       "      <td>0</td>\n",
       "      <td>1</td>\n",
       "      <td>0</td>\n",
       "      <td>0</td>\n",
       "      <td>1</td>\n",
       "      <td>1</td>\n",
       "      <td>1</td>\n",
       "      <td>1</td>\n",
       "      <td>1</td>\n",
       "      <td>...</td>\n",
       "      <td>1</td>\n",
       "      <td>0</td>\n",
       "      <td>1</td>\n",
       "      <td>1</td>\n",
       "      <td>1</td>\n",
       "      <td>0</td>\n",
       "      <td>0</td>\n",
       "      <td>1</td>\n",
       "      <td>1</td>\n",
       "      <td>1</td>\n",
       "    </tr>\n",
       "  </tbody>\n",
       "</table>\n",
       "<p>5 rows × 102 columns</p>\n",
       "</div>"
      ],
      "text/plain": [
       "   index  0  1  2  3  4  5  6  7  8  ...  91  92  93  94  95  96  97  98  99  \\\n",
       "0      0  0  1  1  0  1  1  1  1  1  ...   1   1   1   1   1   0   0   1   1   \n",
       "1      1  0  1  1  0  1  1  1  1  0  ...   1   1   1   1   1   1   0   1   1   \n",
       "2      2  0  1  1  1  1  1  1  1  1  ...   1   1   1   1   1   1   1   1   1   \n",
       "3      3  1  1  1  0  1  1  1  1  1  ...   1   1   1   1   1   1   0   1   0   \n",
       "4      4  0  1  0  0  1  1  1  1  1  ...   1   0   1   1   1   0   0   1   1   \n",
       "\n",
       "   category  \n",
       "0         1  \n",
       "1         1  \n",
       "2         1  \n",
       "3         1  \n",
       "4         1  \n",
       "\n",
       "[5 rows x 102 columns]"
      ]
     },
     "execution_count": 74,
     "metadata": {},
     "output_type": "execute_result"
    }
   ],
   "source": [
    "df.head()"
   ]
  },
  {
   "cell_type": "code",
   "execution_count": 105,
   "metadata": {},
   "outputs": [],
   "source": [
    "# without first and category column\n",
    "df_teste = df.iloc[:, 2:-1]"
   ]
  },
  {
   "cell_type": "code",
   "execution_count": 106,
   "metadata": {},
   "outputs": [
    {
     "data": {
      "text/html": [
       "<div>\n",
       "<style scoped>\n",
       "    .dataframe tbody tr th:only-of-type {\n",
       "        vertical-align: middle;\n",
       "    }\n",
       "\n",
       "    .dataframe tbody tr th {\n",
       "        vertical-align: top;\n",
       "    }\n",
       "\n",
       "    .dataframe thead th {\n",
       "        text-align: right;\n",
       "    }\n",
       "</style>\n",
       "<table border=\"1\" class=\"dataframe\">\n",
       "  <thead>\n",
       "    <tr style=\"text-align: right;\">\n",
       "      <th></th>\n",
       "      <th>1</th>\n",
       "      <th>2</th>\n",
       "      <th>3</th>\n",
       "      <th>4</th>\n",
       "      <th>5</th>\n",
       "      <th>6</th>\n",
       "      <th>7</th>\n",
       "      <th>8</th>\n",
       "      <th>9</th>\n",
       "      <th>10</th>\n",
       "      <th>...</th>\n",
       "      <th>90</th>\n",
       "      <th>91</th>\n",
       "      <th>92</th>\n",
       "      <th>93</th>\n",
       "      <th>94</th>\n",
       "      <th>95</th>\n",
       "      <th>96</th>\n",
       "      <th>97</th>\n",
       "      <th>98</th>\n",
       "      <th>99</th>\n",
       "    </tr>\n",
       "  </thead>\n",
       "  <tbody>\n",
       "    <tr>\n",
       "      <th>0</th>\n",
       "      <td>1</td>\n",
       "      <td>1</td>\n",
       "      <td>0</td>\n",
       "      <td>1</td>\n",
       "      <td>1</td>\n",
       "      <td>1</td>\n",
       "      <td>1</td>\n",
       "      <td>1</td>\n",
       "      <td>0</td>\n",
       "      <td>1</td>\n",
       "      <td>...</td>\n",
       "      <td>0</td>\n",
       "      <td>1</td>\n",
       "      <td>1</td>\n",
       "      <td>1</td>\n",
       "      <td>1</td>\n",
       "      <td>1</td>\n",
       "      <td>0</td>\n",
       "      <td>0</td>\n",
       "      <td>1</td>\n",
       "      <td>1</td>\n",
       "    </tr>\n",
       "    <tr>\n",
       "      <th>1</th>\n",
       "      <td>1</td>\n",
       "      <td>1</td>\n",
       "      <td>0</td>\n",
       "      <td>1</td>\n",
       "      <td>1</td>\n",
       "      <td>1</td>\n",
       "      <td>1</td>\n",
       "      <td>0</td>\n",
       "      <td>0</td>\n",
       "      <td>1</td>\n",
       "      <td>...</td>\n",
       "      <td>0</td>\n",
       "      <td>1</td>\n",
       "      <td>1</td>\n",
       "      <td>1</td>\n",
       "      <td>1</td>\n",
       "      <td>1</td>\n",
       "      <td>1</td>\n",
       "      <td>0</td>\n",
       "      <td>1</td>\n",
       "      <td>1</td>\n",
       "    </tr>\n",
       "    <tr>\n",
       "      <th>2</th>\n",
       "      <td>1</td>\n",
       "      <td>1</td>\n",
       "      <td>1</td>\n",
       "      <td>1</td>\n",
       "      <td>1</td>\n",
       "      <td>1</td>\n",
       "      <td>1</td>\n",
       "      <td>1</td>\n",
       "      <td>1</td>\n",
       "      <td>0</td>\n",
       "      <td>...</td>\n",
       "      <td>0</td>\n",
       "      <td>1</td>\n",
       "      <td>1</td>\n",
       "      <td>1</td>\n",
       "      <td>1</td>\n",
       "      <td>1</td>\n",
       "      <td>1</td>\n",
       "      <td>1</td>\n",
       "      <td>1</td>\n",
       "      <td>1</td>\n",
       "    </tr>\n",
       "    <tr>\n",
       "      <th>3</th>\n",
       "      <td>1</td>\n",
       "      <td>1</td>\n",
       "      <td>0</td>\n",
       "      <td>1</td>\n",
       "      <td>1</td>\n",
       "      <td>1</td>\n",
       "      <td>1</td>\n",
       "      <td>1</td>\n",
       "      <td>0</td>\n",
       "      <td>1</td>\n",
       "      <td>...</td>\n",
       "      <td>0</td>\n",
       "      <td>1</td>\n",
       "      <td>1</td>\n",
       "      <td>1</td>\n",
       "      <td>1</td>\n",
       "      <td>1</td>\n",
       "      <td>1</td>\n",
       "      <td>0</td>\n",
       "      <td>1</td>\n",
       "      <td>0</td>\n",
       "    </tr>\n",
       "    <tr>\n",
       "      <th>4</th>\n",
       "      <td>1</td>\n",
       "      <td>0</td>\n",
       "      <td>0</td>\n",
       "      <td>1</td>\n",
       "      <td>1</td>\n",
       "      <td>1</td>\n",
       "      <td>1</td>\n",
       "      <td>1</td>\n",
       "      <td>0</td>\n",
       "      <td>0</td>\n",
       "      <td>...</td>\n",
       "      <td>0</td>\n",
       "      <td>1</td>\n",
       "      <td>0</td>\n",
       "      <td>1</td>\n",
       "      <td>1</td>\n",
       "      <td>1</td>\n",
       "      <td>0</td>\n",
       "      <td>0</td>\n",
       "      <td>1</td>\n",
       "      <td>1</td>\n",
       "    </tr>\n",
       "  </tbody>\n",
       "</table>\n",
       "<p>5 rows × 99 columns</p>\n",
       "</div>"
      ],
      "text/plain": [
       "   1   2   3   4   5   6   7   8   9   10  ...  90  91  92  93  94  95  96  \\\n",
       "0   1   1   0   1   1   1   1   1   0   1  ...   0   1   1   1   1   1   0   \n",
       "1   1   1   0   1   1   1   1   0   0   1  ...   0   1   1   1   1   1   1   \n",
       "2   1   1   1   1   1   1   1   1   1   0  ...   0   1   1   1   1   1   1   \n",
       "3   1   1   0   1   1   1   1   1   0   1  ...   0   1   1   1   1   1   1   \n",
       "4   1   0   0   1   1   1   1   1   0   0  ...   0   1   0   1   1   1   0   \n",
       "\n",
       "   97  98  99  \n",
       "0   0   1   1  \n",
       "1   0   1   1  \n",
       "2   1   1   1  \n",
       "3   0   1   0  \n",
       "4   0   1   1  \n",
       "\n",
       "[5 rows x 99 columns]"
      ]
     },
     "execution_count": 106,
     "metadata": {},
     "output_type": "execute_result"
    }
   ],
   "source": [
    "df_teste.head()"
   ]
  },
  {
   "cell_type": "code",
   "execution_count": 107,
   "metadata": {},
   "outputs": [
    {
     "data": {
      "text/plain": [
       "(380, 99)"
      ]
     },
     "execution_count": 107,
     "metadata": {},
     "output_type": "execute_result"
    }
   ],
   "source": [
    "df_teste.shape"
   ]
  },
  {
   "cell_type": "code",
   "execution_count": 113,
   "metadata": {},
   "outputs": [
    {
     "data": {
      "text/html": [
       "<div>\n",
       "<style scoped>\n",
       "    .dataframe tbody tr th:only-of-type {\n",
       "        vertical-align: middle;\n",
       "    }\n",
       "\n",
       "    .dataframe tbody tr th {\n",
       "        vertical-align: top;\n",
       "    }\n",
       "\n",
       "    .dataframe thead th {\n",
       "        text-align: right;\n",
       "    }\n",
       "</style>\n",
       "<table border=\"1\" class=\"dataframe\">\n",
       "  <thead>\n",
       "    <tr style=\"text-align: right;\">\n",
       "      <th></th>\n",
       "      <th>0</th>\n",
       "      <th>1</th>\n",
       "      <th>2</th>\n",
       "      <th>3</th>\n",
       "      <th>4</th>\n",
       "      <th>5</th>\n",
       "      <th>6</th>\n",
       "      <th>7</th>\n",
       "      <th>8</th>\n",
       "      <th>9</th>\n",
       "      <th>...</th>\n",
       "      <th>90</th>\n",
       "      <th>91</th>\n",
       "      <th>92</th>\n",
       "      <th>93</th>\n",
       "      <th>94</th>\n",
       "      <th>95</th>\n",
       "      <th>96</th>\n",
       "      <th>97</th>\n",
       "      <th>98</th>\n",
       "      <th>99</th>\n",
       "    </tr>\n",
       "  </thead>\n",
       "  <tbody>\n",
       "    <tr>\n",
       "      <th>0</th>\n",
       "      <td>0</td>\n",
       "      <td>1</td>\n",
       "      <td>1</td>\n",
       "      <td>0</td>\n",
       "      <td>1</td>\n",
       "      <td>1</td>\n",
       "      <td>1</td>\n",
       "      <td>1</td>\n",
       "      <td>1</td>\n",
       "      <td>0</td>\n",
       "      <td>...</td>\n",
       "      <td>0</td>\n",
       "      <td>1</td>\n",
       "      <td>1</td>\n",
       "      <td>1</td>\n",
       "      <td>1</td>\n",
       "      <td>1</td>\n",
       "      <td>0</td>\n",
       "      <td>0</td>\n",
       "      <td>1</td>\n",
       "      <td>1</td>\n",
       "    </tr>\n",
       "    <tr>\n",
       "      <th>1</th>\n",
       "      <td>0</td>\n",
       "      <td>1</td>\n",
       "      <td>1</td>\n",
       "      <td>0</td>\n",
       "      <td>1</td>\n",
       "      <td>1</td>\n",
       "      <td>1</td>\n",
       "      <td>1</td>\n",
       "      <td>0</td>\n",
       "      <td>0</td>\n",
       "      <td>...</td>\n",
       "      <td>0</td>\n",
       "      <td>1</td>\n",
       "      <td>1</td>\n",
       "      <td>1</td>\n",
       "      <td>1</td>\n",
       "      <td>1</td>\n",
       "      <td>1</td>\n",
       "      <td>0</td>\n",
       "      <td>1</td>\n",
       "      <td>1</td>\n",
       "    </tr>\n",
       "    <tr>\n",
       "      <th>2</th>\n",
       "      <td>0</td>\n",
       "      <td>1</td>\n",
       "      <td>1</td>\n",
       "      <td>1</td>\n",
       "      <td>1</td>\n",
       "      <td>1</td>\n",
       "      <td>1</td>\n",
       "      <td>1</td>\n",
       "      <td>1</td>\n",
       "      <td>1</td>\n",
       "      <td>...</td>\n",
       "      <td>0</td>\n",
       "      <td>1</td>\n",
       "      <td>1</td>\n",
       "      <td>1</td>\n",
       "      <td>1</td>\n",
       "      <td>1</td>\n",
       "      <td>1</td>\n",
       "      <td>1</td>\n",
       "      <td>1</td>\n",
       "      <td>1</td>\n",
       "    </tr>\n",
       "    <tr>\n",
       "      <th>3</th>\n",
       "      <td>1</td>\n",
       "      <td>1</td>\n",
       "      <td>1</td>\n",
       "      <td>0</td>\n",
       "      <td>1</td>\n",
       "      <td>1</td>\n",
       "      <td>1</td>\n",
       "      <td>1</td>\n",
       "      <td>1</td>\n",
       "      <td>0</td>\n",
       "      <td>...</td>\n",
       "      <td>0</td>\n",
       "      <td>1</td>\n",
       "      <td>1</td>\n",
       "      <td>1</td>\n",
       "      <td>1</td>\n",
       "      <td>1</td>\n",
       "      <td>1</td>\n",
       "      <td>0</td>\n",
       "      <td>1</td>\n",
       "      <td>0</td>\n",
       "    </tr>\n",
       "    <tr>\n",
       "      <th>4</th>\n",
       "      <td>0</td>\n",
       "      <td>1</td>\n",
       "      <td>0</td>\n",
       "      <td>0</td>\n",
       "      <td>1</td>\n",
       "      <td>1</td>\n",
       "      <td>1</td>\n",
       "      <td>1</td>\n",
       "      <td>1</td>\n",
       "      <td>0</td>\n",
       "      <td>...</td>\n",
       "      <td>0</td>\n",
       "      <td>1</td>\n",
       "      <td>0</td>\n",
       "      <td>1</td>\n",
       "      <td>1</td>\n",
       "      <td>1</td>\n",
       "      <td>0</td>\n",
       "      <td>0</td>\n",
       "      <td>1</td>\n",
       "      <td>1</td>\n",
       "    </tr>\n",
       "  </tbody>\n",
       "</table>\n",
       "<p>5 rows × 100 columns</p>\n",
       "</div>"
      ],
      "text/plain": [
       "   0   1   2   3   4   5   6   7   8   9   ...  90  91  92  93  94  95  96  \\\n",
       "0   0   1   1   0   1   1   1   1   1   0  ...   0   1   1   1   1   1   0   \n",
       "1   0   1   1   0   1   1   1   1   0   0  ...   0   1   1   1   1   1   1   \n",
       "2   0   1   1   1   1   1   1   1   1   1  ...   0   1   1   1   1   1   1   \n",
       "3   1   1   1   0   1   1   1   1   1   0  ...   0   1   1   1   1   1   1   \n",
       "4   0   1   0   0   1   1   1   1   1   0  ...   0   1   0   1   1   1   0   \n",
       "\n",
       "   97  98  99  \n",
       "0   0   1   1  \n",
       "1   0   1   1  \n",
       "2   1   1   1  \n",
       "3   0   1   0  \n",
       "4   0   1   1  \n",
       "\n",
       "[5 rows x 100 columns]"
      ]
     },
     "execution_count": 113,
     "metadata": {},
     "output_type": "execute_result"
    }
   ],
   "source": [
    "df.iloc[:,1:-1].head()"
   ]
  },
  {
   "cell_type": "code",
   "execution_count": 108,
   "metadata": {},
   "outputs": [
    {
     "data": {
      "text/plain": [
       "(380, 102)"
      ]
     },
     "execution_count": 108,
     "metadata": {},
     "output_type": "execute_result"
    }
   ],
   "source": [
    "df[:][:].shape"
   ]
  },
  {
   "cell_type": "code",
   "execution_count": 229,
   "metadata": {},
   "outputs": [],
   "source": [
    "from sklearn import datasets\n",
    "from sklearn import metrics\n",
    "from sklearn.naive_bayes import GaussianNB\n",
    "from sklearn.naive_bayes import BernoulliNB\n",
    "from sklearn.model_selection import train_test_split\n",
    "from sklearn.metrics import accuracy_score"
   ]
  },
  {
   "cell_type": "code",
   "execution_count": 274,
   "metadata": {},
   "outputs": [],
   "source": [
    "accs = []"
   ]
  },
  {
   "cell_type": "code",
   "execution_count": 275,
   "metadata": {},
   "outputs": [],
   "source": [
    "ncols = df.iloc[:, 1:-1].shape[1]"
   ]
  },
  {
   "cell_type": "code",
   "execution_count": 282,
   "metadata": {},
   "outputs": [
    {
     "name": "stdout",
     "output_type": "stream",
     "text": [
      "I 2\n",
      "acc:  0.5657894736842105\n",
      "I 3\n",
      "acc:  0.5263157894736842\n",
      "I 4\n",
      "acc:  0.5\n",
      "I 5\n",
      "acc:  0.5921052631578947\n",
      "I 6\n",
      "acc:  0.8421052631578947\n",
      "I 7\n",
      "acc:  0.6842105263157895\n",
      "I 8\n",
      "acc:  0.6973684210526315\n",
      "I 9\n",
      "acc:  0.7631578947368421\n",
      "I 10\n",
      "acc:  0.8026315789473685\n",
      "I 11\n",
      "acc:  0.8157894736842105\n",
      "I 12\n",
      "acc:  0.7763157894736842\n",
      "I 13\n",
      "acc:  0.8026315789473685\n",
      "I 14\n",
      "acc:  0.8157894736842105\n",
      "I 15\n",
      "acc:  0.8157894736842105\n",
      "I 16\n",
      "acc:  0.8552631578947368\n",
      "I 17\n",
      "acc:  0.8947368421052632\n",
      "I 18\n",
      "acc:  0.9342105263157895\n",
      "I 19\n",
      "acc:  0.9342105263157895\n",
      "I 20\n",
      "acc:  0.9210526315789473\n",
      "I 21\n",
      "acc:  0.9342105263157895\n",
      "I 22\n",
      "acc:  0.9473684210526315\n",
      "I 23\n",
      "acc:  0.9078947368421053\n",
      "I 24\n",
      "acc:  0.9605263157894737\n",
      "I 25\n",
      "acc:  0.9868421052631579\n",
      "I 26\n",
      "acc:  0.9736842105263158\n",
      "I 27\n",
      "acc:  0.9868421052631579\n",
      "I 28\n",
      "acc:  1.0\n",
      "I 29\n",
      "acc:  0.9473684210526315\n",
      "I 30\n",
      "acc:  0.9868421052631579\n",
      "I 31\n",
      "acc:  0.9473684210526315\n",
      "I 32\n",
      "acc:  0.9868421052631579\n",
      "I 33\n",
      "acc:  0.9868421052631579\n",
      "I 34\n",
      "acc:  0.9736842105263158\n",
      "I 35\n",
      "acc:  0.9605263157894737\n",
      "I 36\n",
      "acc:  0.9868421052631579\n",
      "I 37\n",
      "acc:  1.0\n",
      "I 38\n",
      "acc:  1.0\n",
      "I 39\n",
      "acc:  1.0\n",
      "I 40\n",
      "acc:  1.0\n",
      "I 41\n",
      "acc:  0.9868421052631579\n",
      "I 42\n",
      "acc:  1.0\n",
      "I 43\n",
      "acc:  1.0\n",
      "I 44\n",
      "acc:  1.0\n",
      "I 45\n",
      "acc:  0.9868421052631579\n",
      "I 46\n",
      "acc:  0.9868421052631579\n",
      "I 47\n",
      "acc:  0.9868421052631579\n",
      "I 48\n",
      "acc:  0.9868421052631579\n",
      "I 49\n",
      "acc:  0.9868421052631579\n",
      "I 50\n",
      "acc:  1.0\n",
      "I 51\n",
      "acc:  0.9868421052631579\n",
      "I 52\n",
      "acc:  1.0\n",
      "I 53\n",
      "acc:  1.0\n",
      "I 54\n",
      "acc:  1.0\n",
      "I 55\n",
      "acc:  1.0\n",
      "I 56\n",
      "acc:  1.0\n",
      "I 57\n",
      "acc:  0.9868421052631579\n",
      "I 58\n",
      "acc:  1.0\n",
      "I 59\n",
      "acc:  1.0\n",
      "I 60\n",
      "acc:  1.0\n",
      "I 61\n",
      "acc:  0.9868421052631579\n",
      "I 62\n",
      "acc:  0.9868421052631579\n",
      "I 63\n",
      "acc:  1.0\n",
      "I 64\n",
      "acc:  1.0\n",
      "I 65\n",
      "acc:  1.0\n",
      "I 66\n",
      "acc:  1.0\n",
      "I 67\n",
      "acc:  1.0\n",
      "I 68\n",
      "acc:  1.0\n",
      "I 69\n",
      "acc:  1.0\n",
      "I 70\n",
      "acc:  1.0\n",
      "I 71\n",
      "acc:  1.0\n",
      "I 72\n",
      "acc:  0.9868421052631579\n",
      "I 73\n",
      "acc:  1.0\n",
      "I 74\n",
      "acc:  0.9868421052631579\n",
      "I 75\n",
      "acc:  1.0\n",
      "I 76\n",
      "acc:  1.0\n",
      "I 77\n",
      "acc:  1.0\n",
      "I 78\n",
      "acc:  1.0\n",
      "I 79\n",
      "acc:  1.0\n",
      "I 80\n",
      "acc:  1.0\n",
      "I 81\n",
      "acc:  1.0\n",
      "I 82\n",
      "acc:  1.0\n",
      "I 83\n",
      "acc:  1.0\n",
      "I 84\n",
      "acc:  1.0\n",
      "I 85\n",
      "acc:  1.0\n",
      "I 86\n",
      "acc:  1.0\n",
      "I 87\n",
      "acc:  1.0\n",
      "I 88\n",
      "acc:  1.0\n",
      "I 89\n",
      "acc:  1.0\n",
      "I 90\n",
      "acc:  1.0\n",
      "I 91\n",
      "acc:  1.0\n",
      "I 92\n",
      "acc:  1.0\n",
      "I 93\n",
      "acc:  1.0\n",
      "I 94\n",
      "acc:  1.0\n",
      "I 95\n",
      "acc:  1.0\n",
      "I 96\n",
      "acc:  1.0\n",
      "I 97\n",
      "acc:  1.0\n",
      "I 98\n",
      "acc:  1.0\n",
      "I 99\n",
      "acc:  1.0\n"
     ]
    }
   ],
   "source": [
    "for i in range(2, ncols):\n",
    "    print('I', i)\n",
    "    X_train, X_test, y_train, y_test = train_test_split(df.iloc[:,1:i], df['category'], test_size = 0.2)#, random_state=17)\n",
    "    bern = BernoulliNB()\n",
    "    bern.fit(X_train, y_train)\n",
    "    y_exp = y_test\n",
    "    y_pred = bern.predict(X_test)\n",
    "    acc =  accuracy_score(y_exp, y_pred)\n",
    "    print(\"acc: \", acc)\n",
    "    accs.append({'acc': acc, 'qtd': i})"
   ]
  },
  {
   "cell_type": "code",
   "execution_count": 285,
   "metadata": {},
   "outputs": [],
   "source": [
    "df_accs = pd.DataFrame.from_dict(accs)"
   ]
  },
  {
   "cell_type": "code",
   "execution_count": 289,
   "metadata": {
    "scrolled": true
   },
   "outputs": [
    {
     "data": {
      "text/plain": [
       "<matplotlib.axes._subplots.AxesSubplot at 0x7fb5328b1c18>"
      ]
     },
     "execution_count": 289,
     "metadata": {},
     "output_type": "execute_result"
    },
    {
     "data": {
      "image/png": "[encoded data removed]",
      "text/plain": [
       "<Figure size 432x288 with 1 Axes>"
      ]
     },
     "metadata": {
      "needs_background": "light"
     },
     "output_type": "display_data"
    }
   ],
   "source": [
    "df_accs.plot.line(x='qtd', y='acc')"
   ]
  },
  {
   "cell_type": "code",
   "execution_count": 292,
   "metadata": {},
   "outputs": [],
   "source": [
    "#print(\"acc: \", accuracy_score(y_exp, y_pred))\n",
    "#print(metrics.classification_report(expected, predicted))\n",
    "#print(metrics.confusion_matrix(y_exp, y_pred))"
   ]
  },
  {
   "cell_type": "code",
   "execution_count": null,
   "metadata": {},
   "outputs": [],
   "source": []
  },
  {
   "cell_type": "code",
   "execution_count": null,
   "metadata": {},
   "outputs": [],
   "source": []
  },
  {
   "cell_type": "code",
   "execution_count": null,
   "metadata": {},
   "outputs": [],
   "source": []
  },
  {
   "cell_type": "code",
   "execution_count": null,
   "metadata": {},
   "outputs": [],
   "source": []
  }
 ],
 "metadata": {
  "kernelspec": {
   "display_name": "Python 3",
   "language": "python",
   "name": "python3"
  },
  "language_info": {
   "codemirror_mode": {
    "name": "ipython",
    "version": 3
   },
   "file_extension": ".py",
   "mimetype": "text/x-python",
   "name": "python",
   "nbconvert_exporter": "python",
   "pygments_lexer": "ipython3",
   "version": "3.5.2"
  }
 },
 "nbformat": 4,
 "nbformat_minor": 2
}
