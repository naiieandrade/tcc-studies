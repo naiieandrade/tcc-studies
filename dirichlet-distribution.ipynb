{
 "cells": [
  {
   "cell_type": "code",
   "execution_count": 1,
   "metadata": {},
   "outputs": [],
   "source": [
    "import pandas as pd\n",
    "import numpy as np\n",
    "import matplotlib.pyplot as plt"
   ]
  },
  {
   "cell_type": "markdown",
   "metadata": {},
   "source": [
    "#### - Understanding dirichlet distribution"
   ]
  },
  {
   "cell_type": "code",
   "execution_count": 2,
   "metadata": {},
   "outputs": [
    {
     "data": {
      "text/plain": [
       "array([[[0.92025129, 0.00198465, 0.07776407],\n",
       "        [0.82798056, 0.11767029, 0.05434915]],\n",
       "\n",
       "       [[0.21271415, 0.76805089, 0.01923496],\n",
       "        [0.60632136, 0.36828501, 0.02539363]],\n",
       "\n",
       "       [[0.8255588 , 0.08311764, 0.09132356],\n",
       "        [0.53463256, 0.20950244, 0.255865  ]],\n",
       "\n",
       "       [[0.79920275, 0.0240252 , 0.17677204],\n",
       "        [0.49513816, 0.0636923 , 0.44116954]]])"
      ]
     },
     "execution_count": 2,
     "metadata": {},
     "output_type": "execute_result"
    }
   ],
   "source": [
    "# alpha = Parameter of the distribution (k dimension for sample of dimension k). \n",
    "# <https://docs.scipy.org/doc/numpy/reference/generated/numpy.random.dirichlet.html>\n",
    "\n",
    "np.random.dirichlet((2, 1, 1), (4,2))"
   ]
  },
  {
   "cell_type": "code",
   "execution_count": 3,
   "metadata": {},
   "outputs": [
    {
     "data": {
      "text/plain": [
       "array([[0.28726229, 0.11656589, 0.59617181],\n",
       "       [0.23486929, 0.72642482, 0.03870588],\n",
       "       [0.29663924, 0.36892685, 0.33443391],\n",
       "       [0.33148938, 0.42505419, 0.24345643],\n",
       "       [0.1883356 , 0.09906746, 0.71259695],\n",
       "       [0.30534368, 0.55123811, 0.1434182 ],\n",
       "       [0.17932747, 0.1180816 , 0.70259093],\n",
       "       [0.1352453 , 0.48447475, 0.38027994],\n",
       "       [0.43323702, 0.37794508, 0.1888179 ],\n",
       "       [0.36881868, 0.36481531, 0.26636601]])"
      ]
     },
     "execution_count": 3,
     "metadata": {},
     "output_type": "execute_result"
    }
   ],
   "source": [
    "size = 10\n",
    "d1 = np.random.dirichlet((1, 1, 1), size)\n",
    "d1"
   ]
  },
  {
   "cell_type": "code",
   "execution_count": 4,
   "metadata": {},
   "outputs": [
    {
     "data": {
      "text/plain": [
       "Text(0.5, 1.0, 'Dirichlet distribution')"
      ]
     },
     "execution_count": 4,
     "metadata": {},
     "output_type": "execute_result"
    },
    {
     "data": {
      "image/png": "[encoded data removed]",
      "text/plain": [
       "<Figure size 432x288 with 1 Axes>"
      ]
     },
     "metadata": {
      "needs_background": "light"
     },
     "output_type": "display_data"
    }
   ],
   "source": [
    "d1_t = d1.transpose()\n",
    "\n",
    "plt.barh(range(size), d1_t[0])\n",
    "plt.barh(range(size), d1_t[1], left=d1_t[0], color='g')\n",
    "plt.barh(range(size), d1_t[2], left=d1_t[0]+d1_t[1], color='r')\n",
    "plt.title(\"Dirichlet distribution\")"
   ]
  },
  {
   "cell_type": "code",
   "execution_count": 5,
   "metadata": {},
   "outputs": [
    {
     "data": {
      "text/plain": [
       "array([[9.91985793e-01, 1.01634747e-03, 6.99785977e-03],\n",
       "       [9.87292191e-01, 6.45554891e-03, 6.25226045e-03],\n",
       "       [9.80121813e-01, 3.61004958e-03, 1.62681376e-02],\n",
       "       [9.84267427e-01, 1.37288696e-03, 1.43596863e-02],\n",
       "       [9.84028573e-01, 1.17984363e-02, 4.17299027e-03],\n",
       "       [9.88716845e-01, 9.61981189e-05, 1.11869565e-02],\n",
       "       [9.70884029e-01, 2.36702687e-02, 5.44570205e-03],\n",
       "       [9.41216082e-01, 5.62096737e-02, 2.57424440e-03],\n",
       "       [9.77253317e-01, 3.58052909e-03, 1.91661540e-02],\n",
       "       [9.84992507e-01, 1.09140277e-02, 4.09346524e-03]])"
      ]
     },
     "execution_count": 5,
     "metadata": {},
     "output_type": "execute_result"
    }
   ],
   "source": [
    "d2 = np.random.dirichlet((99, 1, 1), size)\n",
    "d2"
   ]
  },
  {
   "cell_type": "code",
   "execution_count": 6,
   "metadata": {},
   "outputs": [
    {
     "data": {
      "text/plain": [
       "Text(0.5, 1.0, 'Dirichlet Distribution')"
      ]
     },
     "execution_count": 6,
     "metadata": {},
     "output_type": "execute_result"
    },
    {
     "data": {
      "image/png": "[encoded data removed]",
      "text/plain": [
       "<Figure size 432x288 with 1 Axes>"
      ]
     },
     "metadata": {
      "needs_background": "light"
     },
     "output_type": "display_data"
    }
   ],
   "source": [
    "d2_t = d2.transpose()\n",
    "\n",
    "plt.barh(range(size), d2_t[0])\n",
    "plt.barh(range(size), d2_t[1], left=d2_t[0], color='g')\n",
    "plt.barh(range(size), d2_t[2], left=d2_t[0]+d2_t[1], color='r')\n",
    "plt.title(\"Dirichlet Distribution\")"
   ]
  },
  {
   "cell_type": "markdown",
   "metadata": {},
   "source": [
    "#### - Check variance, mean, median"
   ]
  },
  {
   "cell_type": "code",
   "execution_count": 7,
   "metadata": {},
   "outputs": [],
   "source": [
    "def calculate_median(df):\n",
    "    median = []\n",
    "    x=0\n",
    "    \n",
    "    for i in df:\n",
    "        median.append(df[x].median())\n",
    "        x = x+1\n",
    "        \n",
    "    return median"
   ]
  },
  {
   "cell_type": "code",
   "execution_count": 8,
   "metadata": {},
   "outputs": [],
   "source": [
    "df1 = pd.DataFrame(data = d1.T)"
   ]
  },
  {
   "cell_type": "code",
   "execution_count": 9,
   "metadata": {},
   "outputs": [
    {
     "data": {
      "text/html": [
       "<div>\n",
       "<style scoped>\n",
       "    .dataframe tbody tr th:only-of-type {\n",
       "        vertical-align: middle;\n",
       "    }\n",
       "\n",
       "    .dataframe tbody tr th {\n",
       "        vertical-align: top;\n",
       "    }\n",
       "\n",
       "    .dataframe thead th {\n",
       "        text-align: right;\n",
       "    }\n",
       "</style>\n",
       "<table border=\"1\" class=\"dataframe\">\n",
       "  <thead>\n",
       "    <tr style=\"text-align: right;\">\n",
       "      <th></th>\n",
       "      <th>0</th>\n",
       "      <th>1</th>\n",
       "      <th>2</th>\n",
       "      <th>3</th>\n",
       "      <th>4</th>\n",
       "      <th>5</th>\n",
       "      <th>6</th>\n",
       "      <th>7</th>\n",
       "      <th>8</th>\n",
       "      <th>9</th>\n",
       "    </tr>\n",
       "  </thead>\n",
       "  <tbody>\n",
       "    <tr>\n",
       "      <th>count</th>\n",
       "      <td>3.000000</td>\n",
       "      <td>3.000000</td>\n",
       "      <td>3.000000</td>\n",
       "      <td>3.000000</td>\n",
       "      <td>3.000000</td>\n",
       "      <td>3.000000</td>\n",
       "      <td>3.000000</td>\n",
       "      <td>3.000000</td>\n",
       "      <td>3.000000</td>\n",
       "      <td>3.000000</td>\n",
       "    </tr>\n",
       "    <tr>\n",
       "      <th>mean</th>\n",
       "      <td>0.333333</td>\n",
       "      <td>0.333333</td>\n",
       "      <td>0.333333</td>\n",
       "      <td>0.333333</td>\n",
       "      <td>0.333333</td>\n",
       "      <td>0.333333</td>\n",
       "      <td>0.333333</td>\n",
       "      <td>0.333333</td>\n",
       "      <td>0.333333</td>\n",
       "      <td>0.333333</td>\n",
       "    </tr>\n",
       "    <tr>\n",
       "      <th>std</th>\n",
       "      <td>0.243099</td>\n",
       "      <td>0.354275</td>\n",
       "      <td>0.036156</td>\n",
       "      <td>0.090813</td>\n",
       "      <td>0.331471</td>\n",
       "      <td>0.205346</td>\n",
       "      <td>0.321249</td>\n",
       "      <td>0.179285</td>\n",
       "      <td>0.128171</td>\n",
       "      <td>0.058030</td>\n",
       "    </tr>\n",
       "    <tr>\n",
       "      <th>min</th>\n",
       "      <td>0.116566</td>\n",
       "      <td>0.038706</td>\n",
       "      <td>0.296639</td>\n",
       "      <td>0.243456</td>\n",
       "      <td>0.099067</td>\n",
       "      <td>0.143418</td>\n",
       "      <td>0.118082</td>\n",
       "      <td>0.135245</td>\n",
       "      <td>0.188818</td>\n",
       "      <td>0.266366</td>\n",
       "    </tr>\n",
       "    <tr>\n",
       "      <th>25%</th>\n",
       "      <td>0.201914</td>\n",
       "      <td>0.136788</td>\n",
       "      <td>0.315537</td>\n",
       "      <td>0.287473</td>\n",
       "      <td>0.143702</td>\n",
       "      <td>0.224381</td>\n",
       "      <td>0.148705</td>\n",
       "      <td>0.257763</td>\n",
       "      <td>0.283381</td>\n",
       "      <td>0.315591</td>\n",
       "    </tr>\n",
       "    <tr>\n",
       "      <th>50%</th>\n",
       "      <td>0.287262</td>\n",
       "      <td>0.234869</td>\n",
       "      <td>0.334434</td>\n",
       "      <td>0.331489</td>\n",
       "      <td>0.188336</td>\n",
       "      <td>0.305344</td>\n",
       "      <td>0.179327</td>\n",
       "      <td>0.380280</td>\n",
       "      <td>0.377945</td>\n",
       "      <td>0.364815</td>\n",
       "    </tr>\n",
       "    <tr>\n",
       "      <th>75%</th>\n",
       "      <td>0.441717</td>\n",
       "      <td>0.480647</td>\n",
       "      <td>0.351680</td>\n",
       "      <td>0.378272</td>\n",
       "      <td>0.450466</td>\n",
       "      <td>0.428291</td>\n",
       "      <td>0.440959</td>\n",
       "      <td>0.432377</td>\n",
       "      <td>0.405591</td>\n",
       "      <td>0.366817</td>\n",
       "    </tr>\n",
       "    <tr>\n",
       "      <th>max</th>\n",
       "      <td>0.596172</td>\n",
       "      <td>0.726425</td>\n",
       "      <td>0.368927</td>\n",
       "      <td>0.425054</td>\n",
       "      <td>0.712597</td>\n",
       "      <td>0.551238</td>\n",
       "      <td>0.702591</td>\n",
       "      <td>0.484475</td>\n",
       "      <td>0.433237</td>\n",
       "      <td>0.368819</td>\n",
       "    </tr>\n",
       "  </tbody>\n",
       "</table>\n",
       "</div>"
      ],
      "text/plain": [
       "              0         1         2         3         4         5         6  \\\n",
       "count  3.000000  3.000000  3.000000  3.000000  3.000000  3.000000  3.000000   \n",
       "mean   0.333333  0.333333  0.333333  0.333333  0.333333  0.333333  0.333333   \n",
       "std    0.243099  0.354275  0.036156  0.090813  0.331471  0.205346  0.321249   \n",
       "min    0.116566  0.038706  0.296639  0.243456  0.099067  0.143418  0.118082   \n",
       "25%    0.201914  0.136788  0.315537  0.287473  0.143702  0.224381  0.148705   \n",
       "50%    0.287262  0.234869  0.334434  0.331489  0.188336  0.305344  0.179327   \n",
       "75%    0.441717  0.480647  0.351680  0.378272  0.450466  0.428291  0.440959   \n",
       "max    0.596172  0.726425  0.368927  0.425054  0.712597  0.551238  0.702591   \n",
       "\n",
       "              7         8         9  \n",
       "count  3.000000  3.000000  3.000000  \n",
       "mean   0.333333  0.333333  0.333333  \n",
       "std    0.179285  0.128171  0.058030  \n",
       "min    0.135245  0.188818  0.266366  \n",
       "25%    0.257763  0.283381  0.315591  \n",
       "50%    0.380280  0.377945  0.364815  \n",
       "75%    0.432377  0.405591  0.366817  \n",
       "max    0.484475  0.433237  0.368819  "
      ]
     },
     "execution_count": 9,
     "metadata": {},
     "output_type": "execute_result"
    }
   ],
   "source": [
    "df1.describe()"
   ]
  },
  {
   "cell_type": "code",
   "execution_count": 10,
   "metadata": {},
   "outputs": [
    {
     "data": {
      "text/plain": [
       "[0.28726229487300636,\n",
       " 0.23486929365082457,\n",
       " 0.3344339074898667,\n",
       " 0.3314893794577883,\n",
       " 0.18833559644583314,\n",
       " 0.30534368370823645,\n",
       " 0.17932747272772748,\n",
       " 0.38027994262138787,\n",
       " 0.37794507854161374,\n",
       " 0.36481531187359745]"
      ]
     },
     "execution_count": 10,
     "metadata": {},
     "output_type": "execute_result"
    }
   ],
   "source": [
    "calculate_median(df1)"
   ]
  },
  {
   "cell_type": "code",
   "execution_count": 116,
   "metadata": {
    "scrolled": true
   },
   "outputs": [
    {
     "data": {
      "text/html": [
       "<div>\n",
       "<style scoped>\n",
       "    .dataframe tbody tr th:only-of-type {\n",
       "        vertical-align: middle;\n",
       "    }\n",
       "\n",
       "    .dataframe tbody tr th {\n",
       "        vertical-align: top;\n",
       "    }\n",
       "\n",
       "    .dataframe thead th {\n",
       "        text-align: right;\n",
       "    }\n",
       "</style>\n",
       "<table border=\"1\" class=\"dataframe\">\n",
       "  <thead>\n",
       "    <tr style=\"text-align: right;\">\n",
       "      <th></th>\n",
       "      <th>0</th>\n",
       "      <th>1</th>\n",
       "      <th>2</th>\n",
       "      <th>3</th>\n",
       "      <th>4</th>\n",
       "      <th>5</th>\n",
       "      <th>6</th>\n",
       "      <th>7</th>\n",
       "      <th>8</th>\n",
       "      <th>9</th>\n",
       "    </tr>\n",
       "  </thead>\n",
       "  <tbody>\n",
       "    <tr>\n",
       "      <th>0</th>\n",
       "      <td>0.737828</td>\n",
       "      <td>0.401437</td>\n",
       "      <td>0.183208</td>\n",
       "      <td>0.093974</td>\n",
       "      <td>0.032222</td>\n",
       "      <td>0.191981</td>\n",
       "      <td>0.125804</td>\n",
       "      <td>0.314772</td>\n",
       "      <td>0.216035</td>\n",
       "      <td>0.282998</td>\n",
       "    </tr>\n",
       "    <tr>\n",
       "      <th>1</th>\n",
       "      <td>0.245231</td>\n",
       "      <td>0.219703</td>\n",
       "      <td>0.699913</td>\n",
       "      <td>0.378438</td>\n",
       "      <td>0.805390</td>\n",
       "      <td>0.060612</td>\n",
       "      <td>0.610757</td>\n",
       "      <td>0.480711</td>\n",
       "      <td>0.248582</td>\n",
       "      <td>0.263136</td>\n",
       "    </tr>\n",
       "    <tr>\n",
       "      <th>2</th>\n",
       "      <td>0.016941</td>\n",
       "      <td>0.378860</td>\n",
       "      <td>0.116879</td>\n",
       "      <td>0.527589</td>\n",
       "      <td>0.162387</td>\n",
       "      <td>0.747407</td>\n",
       "      <td>0.263439</td>\n",
       "      <td>0.204517</td>\n",
       "      <td>0.535383</td>\n",
       "      <td>0.453867</td>\n",
       "    </tr>\n",
       "  </tbody>\n",
       "</table>\n",
       "</div>"
      ],
      "text/plain": [
       "          0         1         2         3         4         5         6  \\\n",
       "0  0.737828  0.401437  0.183208  0.093974  0.032222  0.191981  0.125804   \n",
       "1  0.245231  0.219703  0.699913  0.378438  0.805390  0.060612  0.610757   \n",
       "2  0.016941  0.378860  0.116879  0.527589  0.162387  0.747407  0.263439   \n",
       "\n",
       "          7         8         9  \n",
       "0  0.314772  0.216035  0.282998  \n",
       "1  0.480711  0.248582  0.263136  \n",
       "2  0.204517  0.535383  0.453867  "
      ]
     },
     "execution_count": 116,
     "metadata": {},
     "output_type": "execute_result"
    }
   ],
   "source": [
    "df1"
   ]
  },
  {
   "cell_type": "code",
   "execution_count": 11,
   "metadata": {},
   "outputs": [
    {
     "data": {
      "text/html": [
       "<div>\n",
       "<style scoped>\n",
       "    .dataframe tbody tr th:only-of-type {\n",
       "        vertical-align: middle;\n",
       "    }\n",
       "\n",
       "    .dataframe tbody tr th {\n",
       "        vertical-align: top;\n",
       "    }\n",
       "\n",
       "    .dataframe thead th {\n",
       "        text-align: right;\n",
       "    }\n",
       "</style>\n",
       "<table border=\"1\" class=\"dataframe\">\n",
       "  <thead>\n",
       "    <tr style=\"text-align: right;\">\n",
       "      <th></th>\n",
       "      <th>0</th>\n",
       "      <th>1</th>\n",
       "      <th>2</th>\n",
       "      <th>3</th>\n",
       "      <th>4</th>\n",
       "      <th>5</th>\n",
       "      <th>6</th>\n",
       "      <th>7</th>\n",
       "      <th>8</th>\n",
       "      <th>9</th>\n",
       "    </tr>\n",
       "  </thead>\n",
       "  <tbody>\n",
       "    <tr>\n",
       "      <th>count</th>\n",
       "      <td>3.000000</td>\n",
       "      <td>3.000000</td>\n",
       "      <td>3.000000</td>\n",
       "      <td>3.000000</td>\n",
       "      <td>3.000000</td>\n",
       "      <td>3.000000</td>\n",
       "      <td>3.000000</td>\n",
       "      <td>3.000000</td>\n",
       "      <td>3.000000</td>\n",
       "      <td>3.000000</td>\n",
       "    </tr>\n",
       "    <tr>\n",
       "      <th>mean</th>\n",
       "      <td>0.333333</td>\n",
       "      <td>0.333333</td>\n",
       "      <td>0.333333</td>\n",
       "      <td>0.333333</td>\n",
       "      <td>0.333333</td>\n",
       "      <td>0.333333</td>\n",
       "      <td>0.333333</td>\n",
       "      <td>0.333333</td>\n",
       "      <td>0.333333</td>\n",
       "      <td>0.333333</td>\n",
       "    </tr>\n",
       "    <tr>\n",
       "      <th>std</th>\n",
       "      <td>0.570418</td>\n",
       "      <td>0.566345</td>\n",
       "      <td>0.560171</td>\n",
       "      <td>0.563763</td>\n",
       "      <td>0.563532</td>\n",
       "      <td>0.567606</td>\n",
       "      <td>0.552210</td>\n",
       "      <td>0.527125</td>\n",
       "      <td>0.557706</td>\n",
       "      <td>0.564364</td>\n",
       "    </tr>\n",
       "    <tr>\n",
       "      <th>min</th>\n",
       "      <td>0.001016</td>\n",
       "      <td>0.006252</td>\n",
       "      <td>0.003610</td>\n",
       "      <td>0.001373</td>\n",
       "      <td>0.004173</td>\n",
       "      <td>0.000096</td>\n",
       "      <td>0.005446</td>\n",
       "      <td>0.002574</td>\n",
       "      <td>0.003581</td>\n",
       "      <td>0.004093</td>\n",
       "    </tr>\n",
       "    <tr>\n",
       "      <th>25%</th>\n",
       "      <td>0.004007</td>\n",
       "      <td>0.006354</td>\n",
       "      <td>0.009939</td>\n",
       "      <td>0.007866</td>\n",
       "      <td>0.007986</td>\n",
       "      <td>0.005642</td>\n",
       "      <td>0.014558</td>\n",
       "      <td>0.029392</td>\n",
       "      <td>0.011373</td>\n",
       "      <td>0.007504</td>\n",
       "    </tr>\n",
       "    <tr>\n",
       "      <th>50%</th>\n",
       "      <td>0.006998</td>\n",
       "      <td>0.006456</td>\n",
       "      <td>0.016268</td>\n",
       "      <td>0.014360</td>\n",
       "      <td>0.011798</td>\n",
       "      <td>0.011187</td>\n",
       "      <td>0.023670</td>\n",
       "      <td>0.056210</td>\n",
       "      <td>0.019166</td>\n",
       "      <td>0.010914</td>\n",
       "    </tr>\n",
       "    <tr>\n",
       "      <th>75%</th>\n",
       "      <td>0.499492</td>\n",
       "      <td>0.496874</td>\n",
       "      <td>0.498195</td>\n",
       "      <td>0.499314</td>\n",
       "      <td>0.497914</td>\n",
       "      <td>0.499952</td>\n",
       "      <td>0.497277</td>\n",
       "      <td>0.498713</td>\n",
       "      <td>0.498210</td>\n",
       "      <td>0.497953</td>\n",
       "    </tr>\n",
       "    <tr>\n",
       "      <th>max</th>\n",
       "      <td>0.991986</td>\n",
       "      <td>0.987292</td>\n",
       "      <td>0.980122</td>\n",
       "      <td>0.984267</td>\n",
       "      <td>0.984029</td>\n",
       "      <td>0.988717</td>\n",
       "      <td>0.970884</td>\n",
       "      <td>0.941216</td>\n",
       "      <td>0.977253</td>\n",
       "      <td>0.984993</td>\n",
       "    </tr>\n",
       "  </tbody>\n",
       "</table>\n",
       "</div>"
      ],
      "text/plain": [
       "              0         1         2         3         4         5         6  \\\n",
       "count  3.000000  3.000000  3.000000  3.000000  3.000000  3.000000  3.000000   \n",
       "mean   0.333333  0.333333  0.333333  0.333333  0.333333  0.333333  0.333333   \n",
       "std    0.570418  0.566345  0.560171  0.563763  0.563532  0.567606  0.552210   \n",
       "min    0.001016  0.006252  0.003610  0.001373  0.004173  0.000096  0.005446   \n",
       "25%    0.004007  0.006354  0.009939  0.007866  0.007986  0.005642  0.014558   \n",
       "50%    0.006998  0.006456  0.016268  0.014360  0.011798  0.011187  0.023670   \n",
       "75%    0.499492  0.496874  0.498195  0.499314  0.497914  0.499952  0.497277   \n",
       "max    0.991986  0.987292  0.980122  0.984267  0.984029  0.988717  0.970884   \n",
       "\n",
       "              7         8         9  \n",
       "count  3.000000  3.000000  3.000000  \n",
       "mean   0.333333  0.333333  0.333333  \n",
       "std    0.527125  0.557706  0.564364  \n",
       "min    0.002574  0.003581  0.004093  \n",
       "25%    0.029392  0.011373  0.007504  \n",
       "50%    0.056210  0.019166  0.010914  \n",
       "75%    0.498713  0.498210  0.497953  \n",
       "max    0.941216  0.977253  0.984993  "
      ]
     },
     "execution_count": 11,
     "metadata": {},
     "output_type": "execute_result"
    }
   ],
   "source": [
    "df2 = pd.DataFrame(data = d2.T)\n",
    "df2.describe()"
   ]
  },
  {
   "cell_type": "code",
   "execution_count": 12,
   "metadata": {},
   "outputs": [
    {
     "data": {
      "text/plain": [
       "[0.0069978597693386435,\n",
       " 0.006455548912580374,\n",
       " 0.01626813762101715,\n",
       " 0.01435968631484885,\n",
       " 0.011798436261414441,\n",
       " 0.011186956489742049,\n",
       " 0.023670268661752054,\n",
       " 0.05620967369284547,\n",
       " 0.019166153982366763,\n",
       " 0.010914027673129746]"
      ]
     },
     "execution_count": 12,
     "metadata": {},
     "output_type": "execute_result"
    }
   ],
   "source": [
    "calculate_median(df2)"
   ]
  },
  {
   "cell_type": "code",
   "execution_count": 13,
   "metadata": {
    "scrolled": true
   },
   "outputs": [
    {
     "data": {
      "text/html": [
       "<div>\n",
       "<style scoped>\n",
       "    .dataframe tbody tr th:only-of-type {\n",
       "        vertical-align: middle;\n",
       "    }\n",
       "\n",
       "    .dataframe tbody tr th {\n",
       "        vertical-align: top;\n",
       "    }\n",
       "\n",
       "    .dataframe thead th {\n",
       "        text-align: right;\n",
       "    }\n",
       "</style>\n",
       "<table border=\"1\" class=\"dataframe\">\n",
       "  <thead>\n",
       "    <tr style=\"text-align: right;\">\n",
       "      <th></th>\n",
       "      <th>0</th>\n",
       "      <th>1</th>\n",
       "      <th>2</th>\n",
       "      <th>3</th>\n",
       "      <th>4</th>\n",
       "      <th>5</th>\n",
       "      <th>6</th>\n",
       "      <th>7</th>\n",
       "      <th>8</th>\n",
       "      <th>9</th>\n",
       "    </tr>\n",
       "  </thead>\n",
       "  <tbody>\n",
       "    <tr>\n",
       "      <th>0</th>\n",
       "      <td>0.991986</td>\n",
       "      <td>0.987292</td>\n",
       "      <td>0.980122</td>\n",
       "      <td>0.984267</td>\n",
       "      <td>0.984029</td>\n",
       "      <td>0.988717</td>\n",
       "      <td>0.970884</td>\n",
       "      <td>0.941216</td>\n",
       "      <td>0.977253</td>\n",
       "      <td>0.984993</td>\n",
       "    </tr>\n",
       "    <tr>\n",
       "      <th>1</th>\n",
       "      <td>0.001016</td>\n",
       "      <td>0.006456</td>\n",
       "      <td>0.003610</td>\n",
       "      <td>0.001373</td>\n",
       "      <td>0.011798</td>\n",
       "      <td>0.000096</td>\n",
       "      <td>0.023670</td>\n",
       "      <td>0.056210</td>\n",
       "      <td>0.003581</td>\n",
       "      <td>0.010914</td>\n",
       "    </tr>\n",
       "    <tr>\n",
       "      <th>2</th>\n",
       "      <td>0.006998</td>\n",
       "      <td>0.006252</td>\n",
       "      <td>0.016268</td>\n",
       "      <td>0.014360</td>\n",
       "      <td>0.004173</td>\n",
       "      <td>0.011187</td>\n",
       "      <td>0.005446</td>\n",
       "      <td>0.002574</td>\n",
       "      <td>0.019166</td>\n",
       "      <td>0.004093</td>\n",
       "    </tr>\n",
       "  </tbody>\n",
       "</table>\n",
       "</div>"
      ],
      "text/plain": [
       "          0         1         2         3         4         5         6  \\\n",
       "0  0.991986  0.987292  0.980122  0.984267  0.984029  0.988717  0.970884   \n",
       "1  0.001016  0.006456  0.003610  0.001373  0.011798  0.000096  0.023670   \n",
       "2  0.006998  0.006252  0.016268  0.014360  0.004173  0.011187  0.005446   \n",
       "\n",
       "          7         8         9  \n",
       "0  0.941216  0.977253  0.984993  \n",
       "1  0.056210  0.003581  0.010914  \n",
       "2  0.002574  0.019166  0.004093  "
      ]
     },
     "execution_count": 13,
     "metadata": {},
     "output_type": "execute_result"
    }
   ],
   "source": [
    "df2"
   ]
  },
  {
   "cell_type": "code",
   "execution_count": null,
   "metadata": {},
   "outputs": [],
   "source": []
  },
  {
   "cell_type": "code",
   "execution_count": null,
   "metadata": {},
   "outputs": [],
   "source": []
  },
  {
   "cell_type": "code",
   "execution_count": null,
   "metadata": {},
   "outputs": [],
   "source": []
  },
  {
   "cell_type": "code",
   "execution_count": null,
   "metadata": {},
   "outputs": [],
   "source": []
  },
  {
   "cell_type": "code",
   "execution_count": null,
   "metadata": {},
   "outputs": [],
   "source": []
  },
  {
   "cell_type": "code",
   "execution_count": null,
   "metadata": {},
   "outputs": [],
   "source": []
  },
  {
   "cell_type": "code",
   "execution_count": null,
   "metadata": {},
   "outputs": [],
   "source": []
  }
 ],
 "metadata": {
  "kernelspec": {
   "display_name": "Python 3",
   "language": "python",
   "name": "python3"
  },
  "language_info": {
   "codemirror_mode": {
    "name": "ipython",
    "version": 3
   },
   "file_extension": ".py",
   "mimetype": "text/x-python",
   "name": "python",
   "nbconvert_exporter": "python",
   "pygments_lexer": "ipython3",
   "version": "3.5.2"
  }
 },
 "nbformat": 4,
 "nbformat_minor": 2
}
