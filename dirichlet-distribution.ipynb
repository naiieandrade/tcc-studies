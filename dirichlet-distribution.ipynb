{
 "cells": [
  {
   "cell_type": "code",
   "execution_count": 15,
   "metadata": {},
   "outputs": [],
   "source": [
    "import pandas as pd\n",
    "import numpy as np\n",
    "import matplotlib.pyplot as plt"
   ]
  },
  {
   "cell_type": "markdown",
   "metadata": {},
   "source": [
    "#### - Understanding dirichlet distribution"
   ]
  },
  {
   "cell_type": "code",
   "execution_count": 8,
   "metadata": {},
   "outputs": [
    {
     "data": {
      "text/plain": [
       "array([[[0.49815034, 0.27918224, 0.22266741],\n",
       "        [0.48196348, 0.30127642, 0.2167601 ]],\n",
       "\n",
       "       [[0.56137125, 0.2354019 , 0.20322686],\n",
       "        [0.84624497, 0.0460532 , 0.10770183]],\n",
       "\n",
       "       [[0.6360719 , 0.12839709, 0.23553101],\n",
       "        [0.4918441 , 0.46265346, 0.04550243]],\n",
       "\n",
       "       [[0.60843632, 0.11460712, 0.27695656],\n",
       "        [0.37599009, 0.33119791, 0.292812  ]]])"
      ]
     },
     "execution_count": 8,
     "metadata": {},
     "output_type": "execute_result"
    }
   ],
   "source": [
    "# alpha = Parameter of the distribution (k dimension for sample of dimension k).\n",
    "np.random.dirichlet((2, 1, 1), (4,2))"
   ]
  },
  {
   "cell_type": "code",
   "execution_count": 28,
   "metadata": {},
   "outputs": [
    {
     "data": {
      "text/plain": [
       "array([[0.73782805, 0.24523066, 0.0169413 ],\n",
       "       [0.40143726, 0.21970276, 0.37885997],\n",
       "       [0.18320809, 0.69991337, 0.11687854],\n",
       "       [0.0939739 , 0.37843755, 0.52758854],\n",
       "       [0.03222222, 0.80539032, 0.16238746],\n",
       "       [0.19198127, 0.06061219, 0.74740654],\n",
       "       [0.12580361, 0.61075745, 0.26343894],\n",
       "       [0.31477215, 0.48071106, 0.20451678],\n",
       "       [0.21603454, 0.24858226, 0.5353832 ],\n",
       "       [0.28299755, 0.26313566, 0.45386678]])"
      ]
     },
     "execution_count": 28,
     "metadata": {},
     "output_type": "execute_result"
    }
   ],
   "source": [
    "size = 10\n",
    "d1 = np.random.dirichlet((1, 1, 1), size)\n",
    "d1"
   ]
  },
  {
   "cell_type": "code",
   "execution_count": 31,
   "metadata": {},
   "outputs": [
    {
     "data": {
      "text/plain": [
       "Text(0.5, 1.0, 'Dirichlet distribution')"
      ]
     },
     "execution_count": 31,
     "metadata": {},
     "output_type": "execute_result"
    },
    {
     "data": {
      "image/png": "[encoded data removed]",
      "text/plain": [
       "<Figure size 432x288 with 1 Axes>"
      ]
     },
     "metadata": {
      "needs_background": "light"
     },
     "output_type": "display_data"
    }
   ],
   "source": [
    "d1_t = d1.transpose()\n",
    "\n",
    "plt.barh(range(size), d1_t[0])\n",
    "plt.barh(range(size), d1_t[1], left=d1_t[0], color='g')\n",
    "plt.barh(range(size), d1_t[2], left=d1_t[0]+d1_t[1], color='r')\n",
    "plt.title(\"Dirichlet distribution\")"
   ]
  },
  {
   "cell_type": "code",
   "execution_count": 30,
   "metadata": {},
   "outputs": [
    {
     "data": {
      "text/plain": [
       "array([[0.96939234, 0.01050879, 0.02009886],\n",
       "       [0.93522981, 0.02961996, 0.03515022],\n",
       "       [0.9849432 , 0.01307705, 0.00197975],\n",
       "       [0.97584874, 0.01792496, 0.0062263 ],\n",
       "       [0.95261429, 0.03206037, 0.01532534],\n",
       "       [0.99140284, 0.00465194, 0.00394522],\n",
       "       [0.98517061, 0.01031049, 0.00451889],\n",
       "       [0.98737971, 0.0010791 , 0.01154119],\n",
       "       [0.93986504, 0.05666879, 0.00346617],\n",
       "       [0.99228244, 0.00144429, 0.00627327]])"
      ]
     },
     "execution_count": 30,
     "metadata": {},
     "output_type": "execute_result"
    }
   ],
   "source": [
    "d2 = np.random.dirichlet((99, 1, 1), size)\n",
    "d2"
   ]
  },
  {
   "cell_type": "code",
   "execution_count": 33,
   "metadata": {},
   "outputs": [
    {
     "data": {
      "text/plain": [
       "Text(0.5, 1.0, 'Dirichlet Distribution')"
      ]
     },
     "execution_count": 33,
     "metadata": {},
     "output_type": "execute_result"
    },
    {
     "data": {
      "image/png": "[encoded data removed]",
      "text/plain": [
       "<Figure size 432x288 with 1 Axes>"
      ]
     },
     "metadata": {
      "needs_background": "light"
     },
     "output_type": "display_data"
    }
   ],
   "source": [
    "d2_t = d2.transpose()\n",
    "\n",
    "plt.barh(range(size), d2_t[0])\n",
    "plt.barh(range(size), d2_t[1], left=d2_t[0], color='g')\n",
    "plt.barh(range(size), d2_t[2], left=d2_t[0]+d2_t[1], color='r')\n",
    "plt.title(\"Dirichlet Distribution\")"
   ]
  },
  {
   "cell_type": "code",
   "execution_count": null,
   "metadata": {},
   "outputs": [],
   "source": []
  }
 ],
 "metadata": {
  "kernelspec": {
   "display_name": "Python 3",
   "language": "python",
   "name": "python3"
  },
  "language_info": {
   "codemirror_mode": {
    "name": "ipython",
    "version": 3
   },
   "file_extension": ".py",
   "mimetype": "text/x-python",
   "name": "python",
   "nbconvert_exporter": "python",
   "pygments_lexer": "ipython3",
   "version": "3.5.2"
  }
 },
 "nbformat": 4,
 "nbformat_minor": 2
}
