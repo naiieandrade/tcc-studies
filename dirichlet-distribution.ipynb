{
 "cells": [
  {
   "cell_type": "code",
   "execution_count": 1,
   "metadata": {},
   "outputs": [],
   "source": [
    "import pandas as pd\n",
    "import numpy as np\n",
    "import matplotlib.pyplot as plt\n",
    "from sklearn.decomposition import PCA\n",
    "from matplotlib import pyplot as plt"
   ]
  },
  {
   "cell_type": "markdown",
   "metadata": {},
   "source": [
    "#### - Understanding dirichlet distribution"
   ]
  },
  {
   "cell_type": "code",
   "execution_count": 2,
   "metadata": {},
   "outputs": [
    {
     "data": {
      "text/plain": [
       "array([[[0.1910162 , 0.34036611, 0.46861769],\n",
       "        [0.13747866, 0.22990236, 0.63261898]],\n",
       "\n",
       "       [[0.43672648, 0.10071481, 0.46255872],\n",
       "        [0.89643506, 0.06390211, 0.03966283]],\n",
       "\n",
       "       [[0.39699385, 0.56995702, 0.03304913],\n",
       "        [0.38430193, 0.60835136, 0.00734671]],\n",
       "\n",
       "       [[0.51056697, 0.15031897, 0.33911405],\n",
       "        [0.74027714, 0.08982434, 0.16989852]]])"
      ]
     },
     "execution_count": 2,
     "metadata": {},
     "output_type": "execute_result"
    }
   ],
   "source": [
    "# alpha = Parameter of the distribution (k dimension for sample of dimension k). \n",
    "# <https://docs.scipy.org/doc/numpy/reference/generated/numpy.random.dirichlet.html>\n",
    "\n",
    "np.random.dirichlet((2, 1, 1), (4,2))"
   ]
  },
  {
   "cell_type": "code",
   "execution_count": 3,
   "metadata": {},
   "outputs": [
    {
     "data": {
      "text/plain": [
       "array([[0.13223504, 0.02880608, 0.83895888],\n",
       "       [0.14397657, 0.05084104, 0.80518239],\n",
       "       [0.17218268, 0.32464314, 0.50317418],\n",
       "       [0.31405376, 0.57323815, 0.11270809],\n",
       "       [0.41652926, 0.02852847, 0.55494227],\n",
       "       [0.42125602, 0.22070282, 0.35804116],\n",
       "       [0.26625638, 0.53364544, 0.20009818],\n",
       "       [0.5902676 , 0.21303666, 0.19669574],\n",
       "       [0.34893249, 0.38410913, 0.26695838],\n",
       "       [0.2642758 , 0.56742492, 0.16829928]])"
      ]
     },
     "execution_count": 3,
     "metadata": {},
     "output_type": "execute_result"
    }
   ],
   "source": [
    "size = 10\n",
    "d1 = np.random.dirichlet((1, 1, 1), size)\n",
    "d1"
   ]
  },
  {
   "cell_type": "code",
   "execution_count": 4,
   "metadata": {},
   "outputs": [
    {
     "data": {
      "text/plain": [
       "Text(0.5, 1.0, 'Dirichlet distribution')"
      ]
     },
     "execution_count": 4,
     "metadata": {},
     "output_type": "execute_result"
    },
    {
     "data": {
      "image/png": "[encoded data removed]",
      "text/plain": [
       "<Figure size 432x288 with 1 Axes>"
      ]
     },
     "metadata": {
      "needs_background": "light"
     },
     "output_type": "display_data"
    }
   ],
   "source": [
    "d1_t = d1.transpose()\n",
    "\n",
    "plt.barh(range(size), d1_t[0])\n",
    "plt.barh(range(size), d1_t[1], left=d1_t[0], color='g')\n",
    "plt.barh(range(size), d1_t[2], left=d1_t[0]+d1_t[1], color='r')\n",
    "plt.title(\"Dirichlet distribution\")"
   ]
  },
  {
   "cell_type": "code",
   "execution_count": 5,
   "metadata": {},
   "outputs": [
    {
     "data": {
      "text/plain": [
       "array([[9.80592380e-01, 3.18199664e-03, 1.62256229e-02],\n",
       "       [9.92525843e-01, 5.02003104e-03, 2.45412626e-03],\n",
       "       [9.95335688e-01, 3.66172364e-03, 1.00258876e-03],\n",
       "       [9.84050013e-01, 9.10530302e-03, 6.84468387e-03],\n",
       "       [9.93360414e-01, 6.17748534e-03, 4.62100666e-04],\n",
       "       [9.81919702e-01, 1.33929104e-03, 1.67410069e-02],\n",
       "       [9.82284900e-01, 1.38450562e-03, 1.63305942e-02],\n",
       "       [9.81589113e-01, 8.66617298e-03, 9.74471357e-03],\n",
       "       [9.73815060e-01, 1.06898757e-02, 1.54950642e-02],\n",
       "       [9.97860280e-01, 2.51891561e-04, 1.88782879e-03]])"
      ]
     },
     "execution_count": 5,
     "metadata": {},
     "output_type": "execute_result"
    }
   ],
   "source": [
    "d2 = np.random.dirichlet((99, 1, 1), size)\n",
    "d2"
   ]
  },
  {
   "cell_type": "code",
   "execution_count": 6,
   "metadata": {},
   "outputs": [
    {
     "data": {
      "text/plain": [
       "Text(0.5, 1.0, 'Dirichlet Distribution')"
      ]
     },
     "execution_count": 6,
     "metadata": {},
     "output_type": "execute_result"
    },
    {
     "data": {
      "image/png": "[encoded data removed]",
      "text/plain": [
       "<Figure size 432x288 with 1 Axes>"
      ]
     },
     "metadata": {
      "needs_background": "light"
     },
     "output_type": "display_data"
    }
   ],
   "source": [
    "d2_t = d2.transpose()\n",
    "\n",
    "plt.barh(range(size), d2_t[0])\n",
    "plt.barh(range(size), d2_t[1], left=d2_t[0], color='g')\n",
    "plt.barh(range(size), d2_t[2], left=d2_t[0]+d2_t[1], color='r')\n",
    "plt.title(\"Dirichlet Distribution\")"
   ]
  },
  {
   "cell_type": "markdown",
   "metadata": {},
   "source": [
    "#### - Check variance, mean, median"
   ]
  },
  {
   "cell_type": "code",
   "execution_count": 7,
   "metadata": {},
   "outputs": [],
   "source": [
    "def calculate_median(df):\n",
    "    median = []\n",
    "    x=0\n",
    "    \n",
    "    for i in df:\n",
    "        median.append(df[x].median())\n",
    "        x = x+1\n",
    "        \n",
    "    return median"
   ]
  },
  {
   "cell_type": "code",
   "execution_count": 8,
   "metadata": {},
   "outputs": [],
   "source": [
    "df1 = pd.DataFrame(data = d1.T)"
   ]
  },
  {
   "cell_type": "code",
   "execution_count": 9,
   "metadata": {},
   "outputs": [
    {
     "data": {
      "text/html": [
       "<div>\n",
       "<style scoped>\n",
       "    .dataframe tbody tr th:only-of-type {\n",
       "        vertical-align: middle;\n",
       "    }\n",
       "\n",
       "    .dataframe tbody tr th {\n",
       "        vertical-align: top;\n",
       "    }\n",
       "\n",
       "    .dataframe thead th {\n",
       "        text-align: right;\n",
       "    }\n",
       "</style>\n",
       "<table border=\"1\" class=\"dataframe\">\n",
       "  <thead>\n",
       "    <tr style=\"text-align: right;\">\n",
       "      <th></th>\n",
       "      <th>0</th>\n",
       "      <th>1</th>\n",
       "      <th>2</th>\n",
       "      <th>3</th>\n",
       "      <th>4</th>\n",
       "      <th>5</th>\n",
       "      <th>6</th>\n",
       "      <th>7</th>\n",
       "      <th>8</th>\n",
       "      <th>9</th>\n",
       "    </tr>\n",
       "  </thead>\n",
       "  <tbody>\n",
       "    <tr>\n",
       "      <th>count</th>\n",
       "      <td>3.000000</td>\n",
       "      <td>3.000000</td>\n",
       "      <td>3.000000</td>\n",
       "      <td>3.000000</td>\n",
       "      <td>3.000000</td>\n",
       "      <td>3.000000</td>\n",
       "      <td>3.000000</td>\n",
       "      <td>3.000000</td>\n",
       "      <td>3.000000</td>\n",
       "      <td>3.000000</td>\n",
       "    </tr>\n",
       "    <tr>\n",
       "      <th>mean</th>\n",
       "      <td>0.333333</td>\n",
       "      <td>0.333333</td>\n",
       "      <td>0.333333</td>\n",
       "      <td>0.333333</td>\n",
       "      <td>0.333333</td>\n",
       "      <td>0.333333</td>\n",
       "      <td>0.333333</td>\n",
       "      <td>0.333333</td>\n",
       "      <td>0.333333</td>\n",
       "      <td>0.333333</td>\n",
       "    </tr>\n",
       "    <tr>\n",
       "      <th>std</th>\n",
       "      <td>0.440928</td>\n",
       "      <td>0.411278</td>\n",
       "      <td>0.165667</td>\n",
       "      <td>0.230870</td>\n",
       "      <td>0.272890</td>\n",
       "      <td>0.102534</td>\n",
       "      <td>0.176601</td>\n",
       "      <td>0.222662</td>\n",
       "      <td>0.060113</td>\n",
       "      <td>0.208332</td>\n",
       "    </tr>\n",
       "    <tr>\n",
       "      <th>min</th>\n",
       "      <td>0.028806</td>\n",
       "      <td>0.050841</td>\n",
       "      <td>0.172183</td>\n",
       "      <td>0.112708</td>\n",
       "      <td>0.028528</td>\n",
       "      <td>0.220703</td>\n",
       "      <td>0.200098</td>\n",
       "      <td>0.196696</td>\n",
       "      <td>0.266958</td>\n",
       "      <td>0.168299</td>\n",
       "    </tr>\n",
       "    <tr>\n",
       "      <th>25%</th>\n",
       "      <td>0.080521</td>\n",
       "      <td>0.097409</td>\n",
       "      <td>0.248413</td>\n",
       "      <td>0.213381</td>\n",
       "      <td>0.222529</td>\n",
       "      <td>0.289372</td>\n",
       "      <td>0.233177</td>\n",
       "      <td>0.204866</td>\n",
       "      <td>0.307945</td>\n",
       "      <td>0.216288</td>\n",
       "    </tr>\n",
       "    <tr>\n",
       "      <th>50%</th>\n",
       "      <td>0.132235</td>\n",
       "      <td>0.143977</td>\n",
       "      <td>0.324643</td>\n",
       "      <td>0.314054</td>\n",
       "      <td>0.416529</td>\n",
       "      <td>0.358041</td>\n",
       "      <td>0.266256</td>\n",
       "      <td>0.213037</td>\n",
       "      <td>0.348932</td>\n",
       "      <td>0.264276</td>\n",
       "    </tr>\n",
       "    <tr>\n",
       "      <th>75%</th>\n",
       "      <td>0.485597</td>\n",
       "      <td>0.474579</td>\n",
       "      <td>0.413909</td>\n",
       "      <td>0.443646</td>\n",
       "      <td>0.485736</td>\n",
       "      <td>0.389649</td>\n",
       "      <td>0.399951</td>\n",
       "      <td>0.401652</td>\n",
       "      <td>0.366521</td>\n",
       "      <td>0.415850</td>\n",
       "    </tr>\n",
       "    <tr>\n",
       "      <th>max</th>\n",
       "      <td>0.838959</td>\n",
       "      <td>0.805182</td>\n",
       "      <td>0.503174</td>\n",
       "      <td>0.573238</td>\n",
       "      <td>0.554942</td>\n",
       "      <td>0.421256</td>\n",
       "      <td>0.533645</td>\n",
       "      <td>0.590268</td>\n",
       "      <td>0.384109</td>\n",
       "      <td>0.567425</td>\n",
       "    </tr>\n",
       "  </tbody>\n",
       "</table>\n",
       "</div>"
      ],
      "text/plain": [
       "              0         1         2         3         4         5         6  \\\n",
       "count  3.000000  3.000000  3.000000  3.000000  3.000000  3.000000  3.000000   \n",
       "mean   0.333333  0.333333  0.333333  0.333333  0.333333  0.333333  0.333333   \n",
       "std    0.440928  0.411278  0.165667  0.230870  0.272890  0.102534  0.176601   \n",
       "min    0.028806  0.050841  0.172183  0.112708  0.028528  0.220703  0.200098   \n",
       "25%    0.080521  0.097409  0.248413  0.213381  0.222529  0.289372  0.233177   \n",
       "50%    0.132235  0.143977  0.324643  0.314054  0.416529  0.358041  0.266256   \n",
       "75%    0.485597  0.474579  0.413909  0.443646  0.485736  0.389649  0.399951   \n",
       "max    0.838959  0.805182  0.503174  0.573238  0.554942  0.421256  0.533645   \n",
       "\n",
       "              7         8         9  \n",
       "count  3.000000  3.000000  3.000000  \n",
       "mean   0.333333  0.333333  0.333333  \n",
       "std    0.222662  0.060113  0.208332  \n",
       "min    0.196696  0.266958  0.168299  \n",
       "25%    0.204866  0.307945  0.216288  \n",
       "50%    0.213037  0.348932  0.264276  \n",
       "75%    0.401652  0.366521  0.415850  \n",
       "max    0.590268  0.384109  0.567425  "
      ]
     },
     "execution_count": 9,
     "metadata": {},
     "output_type": "execute_result"
    }
   ],
   "source": [
    "df1.describe()"
   ]
  },
  {
   "cell_type": "code",
   "execution_count": 10,
   "metadata": {},
   "outputs": [
    {
     "data": {
      "text/plain": [
       "[0.13223503857490534,\n",
       " 0.1439765732813272,\n",
       " 0.32464313598515454,\n",
       " 0.3140537562281475,\n",
       " 0.41652925955344566,\n",
       " 0.35804116418020054,\n",
       " 0.2662563779985909,\n",
       " 0.21303665909613276,\n",
       " 0.3489324880909656,\n",
       " 0.26427580004396367]"
      ]
     },
     "execution_count": 10,
     "metadata": {},
     "output_type": "execute_result"
    }
   ],
   "source": [
    "calculate_median(df1)"
   ]
  },
  {
   "cell_type": "code",
   "execution_count": 11,
   "metadata": {
    "scrolled": true
   },
   "outputs": [
    {
     "data": {
      "text/html": [
       "<div>\n",
       "<style scoped>\n",
       "    .dataframe tbody tr th:only-of-type {\n",
       "        vertical-align: middle;\n",
       "    }\n",
       "\n",
       "    .dataframe tbody tr th {\n",
       "        vertical-align: top;\n",
       "    }\n",
       "\n",
       "    .dataframe thead th {\n",
       "        text-align: right;\n",
       "    }\n",
       "</style>\n",
       "<table border=\"1\" class=\"dataframe\">\n",
       "  <thead>\n",
       "    <tr style=\"text-align: right;\">\n",
       "      <th></th>\n",
       "      <th>0</th>\n",
       "      <th>1</th>\n",
       "      <th>2</th>\n",
       "      <th>3</th>\n",
       "      <th>4</th>\n",
       "      <th>5</th>\n",
       "      <th>6</th>\n",
       "      <th>7</th>\n",
       "      <th>8</th>\n",
       "      <th>9</th>\n",
       "    </tr>\n",
       "  </thead>\n",
       "  <tbody>\n",
       "    <tr>\n",
       "      <th>0</th>\n",
       "      <td>0.132235</td>\n",
       "      <td>0.143977</td>\n",
       "      <td>0.172183</td>\n",
       "      <td>0.314054</td>\n",
       "      <td>0.416529</td>\n",
       "      <td>0.421256</td>\n",
       "      <td>0.266256</td>\n",
       "      <td>0.590268</td>\n",
       "      <td>0.348932</td>\n",
       "      <td>0.264276</td>\n",
       "    </tr>\n",
       "    <tr>\n",
       "      <th>1</th>\n",
       "      <td>0.028806</td>\n",
       "      <td>0.050841</td>\n",
       "      <td>0.324643</td>\n",
       "      <td>0.573238</td>\n",
       "      <td>0.028528</td>\n",
       "      <td>0.220703</td>\n",
       "      <td>0.533645</td>\n",
       "      <td>0.213037</td>\n",
       "      <td>0.384109</td>\n",
       "      <td>0.567425</td>\n",
       "    </tr>\n",
       "    <tr>\n",
       "      <th>2</th>\n",
       "      <td>0.838959</td>\n",
       "      <td>0.805182</td>\n",
       "      <td>0.503174</td>\n",
       "      <td>0.112708</td>\n",
       "      <td>0.554942</td>\n",
       "      <td>0.358041</td>\n",
       "      <td>0.200098</td>\n",
       "      <td>0.196696</td>\n",
       "      <td>0.266958</td>\n",
       "      <td>0.168299</td>\n",
       "    </tr>\n",
       "  </tbody>\n",
       "</table>\n",
       "</div>"
      ],
      "text/plain": [
       "          0         1         2         3         4         5         6  \\\n",
       "0  0.132235  0.143977  0.172183  0.314054  0.416529  0.421256  0.266256   \n",
       "1  0.028806  0.050841  0.324643  0.573238  0.028528  0.220703  0.533645   \n",
       "2  0.838959  0.805182  0.503174  0.112708  0.554942  0.358041  0.200098   \n",
       "\n",
       "          7         8         9  \n",
       "0  0.590268  0.348932  0.264276  \n",
       "1  0.213037  0.384109  0.567425  \n",
       "2  0.196696  0.266958  0.168299  "
      ]
     },
     "execution_count": 11,
     "metadata": {},
     "output_type": "execute_result"
    }
   ],
   "source": [
    "df1"
   ]
  },
  {
   "cell_type": "code",
   "execution_count": 12,
   "metadata": {},
   "outputs": [
    {
     "data": {
      "text/html": [
       "<div>\n",
       "<style scoped>\n",
       "    .dataframe tbody tr th:only-of-type {\n",
       "        vertical-align: middle;\n",
       "    }\n",
       "\n",
       "    .dataframe tbody tr th {\n",
       "        vertical-align: top;\n",
       "    }\n",
       "\n",
       "    .dataframe thead th {\n",
       "        text-align: right;\n",
       "    }\n",
       "</style>\n",
       "<table border=\"1\" class=\"dataframe\">\n",
       "  <thead>\n",
       "    <tr style=\"text-align: right;\">\n",
       "      <th></th>\n",
       "      <th>0</th>\n",
       "      <th>1</th>\n",
       "      <th>2</th>\n",
       "      <th>3</th>\n",
       "      <th>4</th>\n",
       "      <th>5</th>\n",
       "      <th>6</th>\n",
       "      <th>7</th>\n",
       "      <th>8</th>\n",
       "      <th>9</th>\n",
       "    </tr>\n",
       "  </thead>\n",
       "  <tbody>\n",
       "    <tr>\n",
       "      <th>count</th>\n",
       "      <td>3.000000</td>\n",
       "      <td>3.000000</td>\n",
       "      <td>3.000000</td>\n",
       "      <td>3.000000</td>\n",
       "      <td>3.000000</td>\n",
       "      <td>3.000000</td>\n",
       "      <td>3.000000</td>\n",
       "      <td>3.000000</td>\n",
       "      <td>3.000000</td>\n",
       "      <td>3.000000</td>\n",
       "    </tr>\n",
       "    <tr>\n",
       "      <th>mean</th>\n",
       "      <td>0.333333</td>\n",
       "      <td>0.333333</td>\n",
       "      <td>0.333333</td>\n",
       "      <td>0.333333</td>\n",
       "      <td>0.333333</td>\n",
       "      <td>0.333333</td>\n",
       "      <td>0.333333</td>\n",
       "      <td>0.333333</td>\n",
       "      <td>0.333333</td>\n",
       "      <td>0.333333</td>\n",
       "    </tr>\n",
       "    <tr>\n",
       "      <th>std</th>\n",
       "      <td>0.560581</td>\n",
       "      <td>0.570879</td>\n",
       "      <td>0.573312</td>\n",
       "      <td>0.563538</td>\n",
       "      <td>0.571607</td>\n",
       "      <td>0.561745</td>\n",
       "      <td>0.562058</td>\n",
       "      <td>0.561406</td>\n",
       "      <td>0.554679</td>\n",
       "      <td>0.575498</td>\n",
       "    </tr>\n",
       "    <tr>\n",
       "      <th>min</th>\n",
       "      <td>0.003182</td>\n",
       "      <td>0.002454</td>\n",
       "      <td>0.001003</td>\n",
       "      <td>0.006845</td>\n",
       "      <td>0.000462</td>\n",
       "      <td>0.001339</td>\n",
       "      <td>0.001385</td>\n",
       "      <td>0.008666</td>\n",
       "      <td>0.010690</td>\n",
       "      <td>0.000252</td>\n",
       "    </tr>\n",
       "    <tr>\n",
       "      <th>25%</th>\n",
       "      <td>0.009704</td>\n",
       "      <td>0.003737</td>\n",
       "      <td>0.002332</td>\n",
       "      <td>0.007975</td>\n",
       "      <td>0.003320</td>\n",
       "      <td>0.009040</td>\n",
       "      <td>0.008858</td>\n",
       "      <td>0.009205</td>\n",
       "      <td>0.013092</td>\n",
       "      <td>0.001070</td>\n",
       "    </tr>\n",
       "    <tr>\n",
       "      <th>50%</th>\n",
       "      <td>0.016226</td>\n",
       "      <td>0.005020</td>\n",
       "      <td>0.003662</td>\n",
       "      <td>0.009105</td>\n",
       "      <td>0.006177</td>\n",
       "      <td>0.016741</td>\n",
       "      <td>0.016331</td>\n",
       "      <td>0.009745</td>\n",
       "      <td>0.015495</td>\n",
       "      <td>0.001888</td>\n",
       "    </tr>\n",
       "    <tr>\n",
       "      <th>75%</th>\n",
       "      <td>0.498409</td>\n",
       "      <td>0.498773</td>\n",
       "      <td>0.499499</td>\n",
       "      <td>0.496578</td>\n",
       "      <td>0.499769</td>\n",
       "      <td>0.499330</td>\n",
       "      <td>0.499308</td>\n",
       "      <td>0.495667</td>\n",
       "      <td>0.494655</td>\n",
       "      <td>0.499874</td>\n",
       "    </tr>\n",
       "    <tr>\n",
       "      <th>max</th>\n",
       "      <td>0.980592</td>\n",
       "      <td>0.992526</td>\n",
       "      <td>0.995336</td>\n",
       "      <td>0.984050</td>\n",
       "      <td>0.993360</td>\n",
       "      <td>0.981920</td>\n",
       "      <td>0.982285</td>\n",
       "      <td>0.981589</td>\n",
       "      <td>0.973815</td>\n",
       "      <td>0.997860</td>\n",
       "    </tr>\n",
       "  </tbody>\n",
       "</table>\n",
       "</div>"
      ],
      "text/plain": [
       "              0         1         2         3         4         5         6  \\\n",
       "count  3.000000  3.000000  3.000000  3.000000  3.000000  3.000000  3.000000   \n",
       "mean   0.333333  0.333333  0.333333  0.333333  0.333333  0.333333  0.333333   \n",
       "std    0.560581  0.570879  0.573312  0.563538  0.571607  0.561745  0.562058   \n",
       "min    0.003182  0.002454  0.001003  0.006845  0.000462  0.001339  0.001385   \n",
       "25%    0.009704  0.003737  0.002332  0.007975  0.003320  0.009040  0.008858   \n",
       "50%    0.016226  0.005020  0.003662  0.009105  0.006177  0.016741  0.016331   \n",
       "75%    0.498409  0.498773  0.499499  0.496578  0.499769  0.499330  0.499308   \n",
       "max    0.980592  0.992526  0.995336  0.984050  0.993360  0.981920  0.982285   \n",
       "\n",
       "              7         8         9  \n",
       "count  3.000000  3.000000  3.000000  \n",
       "mean   0.333333  0.333333  0.333333  \n",
       "std    0.561406  0.554679  0.575498  \n",
       "min    0.008666  0.010690  0.000252  \n",
       "25%    0.009205  0.013092  0.001070  \n",
       "50%    0.009745  0.015495  0.001888  \n",
       "75%    0.495667  0.494655  0.499874  \n",
       "max    0.981589  0.973815  0.997860  "
      ]
     },
     "execution_count": 12,
     "metadata": {},
     "output_type": "execute_result"
    }
   ],
   "source": [
    "df2 = pd.DataFrame(data = d2.T)\n",
    "df2.describe()"
   ]
  },
  {
   "cell_type": "code",
   "execution_count": 13,
   "metadata": {},
   "outputs": [
    {
     "data": {
      "text/plain": [
       "[0.01622562293869396,\n",
       " 0.0050200310378870254,\n",
       " 0.0036617236433397877,\n",
       " 0.009105303017377029,\n",
       " 0.006177485339126053,\n",
       " 0.016741006935050658,\n",
       " 0.016330594156080906,\n",
       " 0.009744713572185199,\n",
       " 0.015495064218609213,\n",
       " 0.001887828789833943]"
      ]
     },
     "execution_count": 13,
     "metadata": {},
     "output_type": "execute_result"
    }
   ],
   "source": [
    "calculate_median(df2)"
   ]
  },
  {
   "cell_type": "code",
   "execution_count": 14,
   "metadata": {
    "scrolled": true
   },
   "outputs": [
    {
     "data": {
      "text/html": [
       "<div>\n",
       "<style scoped>\n",
       "    .dataframe tbody tr th:only-of-type {\n",
       "        vertical-align: middle;\n",
       "    }\n",
       "\n",
       "    .dataframe tbody tr th {\n",
       "        vertical-align: top;\n",
       "    }\n",
       "\n",
       "    .dataframe thead th {\n",
       "        text-align: right;\n",
       "    }\n",
       "</style>\n",
       "<table border=\"1\" class=\"dataframe\">\n",
       "  <thead>\n",
       "    <tr style=\"text-align: right;\">\n",
       "      <th></th>\n",
       "      <th>0</th>\n",
       "      <th>1</th>\n",
       "      <th>2</th>\n",
       "      <th>3</th>\n",
       "      <th>4</th>\n",
       "      <th>5</th>\n",
       "      <th>6</th>\n",
       "      <th>7</th>\n",
       "      <th>8</th>\n",
       "      <th>9</th>\n",
       "    </tr>\n",
       "  </thead>\n",
       "  <tbody>\n",
       "    <tr>\n",
       "      <th>0</th>\n",
       "      <td>0.980592</td>\n",
       "      <td>0.992526</td>\n",
       "      <td>0.995336</td>\n",
       "      <td>0.984050</td>\n",
       "      <td>0.993360</td>\n",
       "      <td>0.981920</td>\n",
       "      <td>0.982285</td>\n",
       "      <td>0.981589</td>\n",
       "      <td>0.973815</td>\n",
       "      <td>0.997860</td>\n",
       "    </tr>\n",
       "    <tr>\n",
       "      <th>1</th>\n",
       "      <td>0.003182</td>\n",
       "      <td>0.005020</td>\n",
       "      <td>0.003662</td>\n",
       "      <td>0.009105</td>\n",
       "      <td>0.006177</td>\n",
       "      <td>0.001339</td>\n",
       "      <td>0.001385</td>\n",
       "      <td>0.008666</td>\n",
       "      <td>0.010690</td>\n",
       "      <td>0.000252</td>\n",
       "    </tr>\n",
       "    <tr>\n",
       "      <th>2</th>\n",
       "      <td>0.016226</td>\n",
       "      <td>0.002454</td>\n",
       "      <td>0.001003</td>\n",
       "      <td>0.006845</td>\n",
       "      <td>0.000462</td>\n",
       "      <td>0.016741</td>\n",
       "      <td>0.016331</td>\n",
       "      <td>0.009745</td>\n",
       "      <td>0.015495</td>\n",
       "      <td>0.001888</td>\n",
       "    </tr>\n",
       "  </tbody>\n",
       "</table>\n",
       "</div>"
      ],
      "text/plain": [
       "          0         1         2         3         4         5         6  \\\n",
       "0  0.980592  0.992526  0.995336  0.984050  0.993360  0.981920  0.982285   \n",
       "1  0.003182  0.005020  0.003662  0.009105  0.006177  0.001339  0.001385   \n",
       "2  0.016226  0.002454  0.001003  0.006845  0.000462  0.016741  0.016331   \n",
       "\n",
       "          7         8         9  \n",
       "0  0.981589  0.973815  0.997860  \n",
       "1  0.008666  0.010690  0.000252  \n",
       "2  0.009745  0.015495  0.001888  "
      ]
     },
     "execution_count": 14,
     "metadata": {},
     "output_type": "execute_result"
    }
   ],
   "source": [
    "df2"
   ]
  },
  {
   "cell_type": "markdown",
   "metadata": {},
   "source": [
    "#### - Simulate cases in participative platform"
   ]
  },
  {
   "cell_type": "code",
   "execution_count": 15,
   "metadata": {},
   "outputs": [],
   "source": [
    "categories = 4\n",
    "comments = 100\n",
    "alpha = 0.520\n",
    "s = np.random.dirichlet((2 * alpha, alpha), (categories, comments))\n",
    "c1, c2, c3, c4 = s[:, :, 0]"
   ]
  },
  {
   "cell_type": "code",
   "execution_count": 16,
   "metadata": {
    "scrolled": true
   },
   "outputs": [
    {
     "data": {
      "text/plain": [
       "array([[7.45673412e-01, 2.54326588e-01],\n",
       "       [9.64736933e-01, 3.52630669e-02],\n",
       "       [6.12753974e-01, 3.87246026e-01],\n",
       "       [7.25003063e-01, 2.74996937e-01],\n",
       "       [5.29408793e-01, 4.70591207e-01],\n",
       "       [9.93050344e-01, 6.94965554e-03],\n",
       "       [2.22254393e-01, 7.77745607e-01],\n",
       "       [5.60112143e-01, 4.39887857e-01],\n",
       "       [8.95712330e-01, 1.04287670e-01],\n",
       "       [9.99999876e-01, 1.24322054e-07],\n",
       "       [5.76402742e-02, 9.42359726e-01],\n",
       "       [9.75488201e-01, 2.45117986e-02],\n",
       "       [6.26344624e-01, 3.73655376e-01],\n",
       "       [9.87966346e-01, 1.20336537e-02],\n",
       "       [9.98039537e-01, 1.96046347e-03]])"
      ]
     },
     "execution_count": 16,
     "metadata": {},
     "output_type": "execute_result"
    }
   ],
   "source": [
    "s[0][:15]"
   ]
  },
  {
   "cell_type": "code",
   "execution_count": 17,
   "metadata": {},
   "outputs": [
    {
     "data": {
      "text/plain": [
       "1.0"
      ]
     },
     "execution_count": 17,
     "metadata": {},
     "output_type": "execute_result"
    }
   ],
   "source": [
    "s[0][0].sum()"
   ]
  },
  {
   "cell_type": "code",
   "execution_count": 18,
   "metadata": {},
   "outputs": [
    {
     "data": {
      "text/plain": [
       "Text(0.5, 1.0, 'Dirichlet Distribution')"
      ]
     },
     "execution_count": 18,
     "metadata": {},
     "output_type": "execute_result"
    },
    {
     "data": {
      "image/png": "[encoded data removed]",
      "text/plain": [
       "<Figure size 432x288 with 1 Axes>"
      ]
     },
     "metadata": {
      "needs_background": "light"
     },
     "output_type": "display_data"
    }
   ],
   "source": [
    "sT = s[0][:20].transpose()\n",
    "\n",
    "plt.barh(range(20), sT[0])\n",
    "plt.barh(range(20), sT[1], left=sT[0], color='g')\n",
    "plt.title(\"Dirichlet Distribution\")"
   ]
  },
  {
   "cell_type": "code",
   "execution_count": 19,
   "metadata": {},
   "outputs": [
    {
     "name": "stdout",
     "output_type": "stream",
     "text": [
      "percentage to like and dislike:  [0.74567341 0.25432659]\n",
      "sum of percentages:  1.0\n",
      "how many categories and comments was voted:  (4, 100, 2)\n"
     ]
    }
   ],
   "source": [
    "print('percentage to like and dislike: ', s[0][0])\n",
    "print('sum of percentages: ', s[0][0].sum())\n",
    "print('how many categories and comments was voted: ', s.shape)"
   ]
  },
  {
   "cell_type": "code",
   "execution_count": 20,
   "metadata": {},
   "outputs": [],
   "source": [
    "votes1 = np.random.random(size=(100, comments)) < c1\n",
    "votes2 = np.random.random(size=(70, comments)) < c2\n",
    "votes3 = np.random.random(size=(120, comments)) < c3\n",
    "votes4 = np.random.random(size=(90, comments)) < c4"
   ]
  },
  {
   "cell_type": "code",
   "execution_count": 21,
   "metadata": {},
   "outputs": [
    {
     "data": {
      "text/plain": [
       "array([False,  True,  True,  True,  True])"
      ]
     },
     "execution_count": 21,
     "metadata": {},
     "output_type": "execute_result"
    }
   ],
   "source": [
    "# Like and dislike\n",
    "votes1[1,:5]"
   ]
  },
  {
   "cell_type": "code",
   "execution_count": 22,
   "metadata": {},
   "outputs": [],
   "source": [
    "votes = np.vstack([votes1,votes2,votes3,votes4])"
   ]
  },
  {
   "cell_type": "code",
   "execution_count": 23,
   "metadata": {},
   "outputs": [
    {
     "data": {
      "text/plain": [
       "(380, 100)"
      ]
     },
     "execution_count": 23,
     "metadata": {},
     "output_type": "execute_result"
    }
   ],
   "source": [
    "votes.shape"
   ]
  },
  {
   "cell_type": "code",
   "execution_count": 24,
   "metadata": {},
   "outputs": [],
   "source": [
    "pca = PCA(n_components=2).fit_transform(votes)"
   ]
  },
  {
   "cell_type": "code",
   "execution_count": 25,
   "metadata": {},
   "outputs": [
    {
     "data": {
      "text/plain": [
       "(380, 2)"
      ]
     },
     "execution_count": 25,
     "metadata": {},
     "output_type": "execute_result"
    }
   ],
   "source": [
    "pca.shape"
   ]
  },
  {
   "cell_type": "code",
   "execution_count": 26,
   "metadata": {},
   "outputs": [
    {
     "data": {
      "text/plain": [
       "1.0505306791252922"
      ]
     },
     "execution_count": 26,
     "metadata": {},
     "output_type": "execute_result"
    }
   ],
   "source": [
    "pca[0].sum()"
   ]
  },
  {
   "cell_type": "code",
   "execution_count": 27,
   "metadata": {},
   "outputs": [
    {
     "data": {
      "text/plain": [
       "array([[-0.82107173,  1.87160241],\n",
       "       [-0.17261876,  2.30393603],\n",
       "       [ 0.09996604,  1.68400962],\n",
       "       [-0.63651142,  2.31105645],\n",
       "       [ 0.01946507,  2.73318253]])"
      ]
     },
     "execution_count": 27,
     "metadata": {},
     "output_type": "execute_result"
    }
   ],
   "source": [
    "pca[:5]"
   ]
  },
  {
   "cell_type": "code",
   "execution_count": 28,
   "metadata": {},
   "outputs": [
    {
     "data": {
      "image/png": "[encoded data removed]",
      "text/plain": [
       "<Figure size 432x288 with 1 Axes>"
      ]
     },
     "metadata": {
      "needs_background": "light"
     },
     "output_type": "display_data"
    }
   ],
   "source": [
    "plt.scatter(pca[0][0],pca[0][1])\n",
    "plt.show()"
   ]
  },
  {
   "cell_type": "code",
   "execution_count": 29,
   "metadata": {},
   "outputs": [],
   "source": [
    "df = pd.DataFrame(pca)"
   ]
  },
  {
   "cell_type": "code",
   "execution_count": 30,
   "metadata": {},
   "outputs": [
    {
     "data": {
      "text/html": [
       "<div>\n",
       "<style scoped>\n",
       "    .dataframe tbody tr th:only-of-type {\n",
       "        vertical-align: middle;\n",
       "    }\n",
       "\n",
       "    .dataframe tbody tr th {\n",
       "        vertical-align: top;\n",
       "    }\n",
       "\n",
       "    .dataframe thead th {\n",
       "        text-align: right;\n",
       "    }\n",
       "</style>\n",
       "<table border=\"1\" class=\"dataframe\">\n",
       "  <thead>\n",
       "    <tr style=\"text-align: right;\">\n",
       "      <th></th>\n",
       "      <th>0</th>\n",
       "      <th>1</th>\n",
       "    </tr>\n",
       "  </thead>\n",
       "  <tbody>\n",
       "    <tr>\n",
       "      <th>0</th>\n",
       "      <td>-0.821072</td>\n",
       "      <td>1.871602</td>\n",
       "    </tr>\n",
       "    <tr>\n",
       "      <th>1</th>\n",
       "      <td>-0.172619</td>\n",
       "      <td>2.303936</td>\n",
       "    </tr>\n",
       "    <tr>\n",
       "      <th>2</th>\n",
       "      <td>0.099966</td>\n",
       "      <td>1.684010</td>\n",
       "    </tr>\n",
       "  </tbody>\n",
       "</table>\n",
       "</div>"
      ],
      "text/plain": [
       "          0         1\n",
       "0 -0.821072  1.871602\n",
       "1 -0.172619  2.303936\n",
       "2  0.099966  1.684010"
      ]
     },
     "execution_count": 30,
     "metadata": {},
     "output_type": "execute_result"
    }
   ],
   "source": [
    "df.head(3)"
   ]
  },
  {
   "cell_type": "code",
   "execution_count": 31,
   "metadata": {},
   "outputs": [
    {
     "data": {
      "text/plain": [
       "<matplotlib.collections.PathCollection at 0x7f9a9e95def0>"
      ]
     },
     "execution_count": 31,
     "metadata": {},
     "output_type": "execute_result"
    },
    {
     "data": {
      "image/png": "[encoded data removed]",
      "text/plain": [
       "<Figure size 432x288 with 1 Axes>"
      ]
     },
     "metadata": {
      "needs_background": "light"
     },
     "output_type": "display_data"
    }
   ],
   "source": [
    "# plt.scatter(*pca.T)\n",
    "plt.scatter(x=df[0], y=df[1]) "
   ]
  },
  {
   "cell_type": "markdown",
   "metadata": {},
   "source": [
    "#### - Plot with different color for each category"
   ]
  },
  {
   "cell_type": "code",
   "execution_count": 32,
   "metadata": {},
   "outputs": [],
   "source": [
    "def deflabels(category, cat):\n",
    "    for c in category:\n",
    "        labels.append(cat)"
   ]
  },
  {
   "cell_type": "code",
   "execution_count": 33,
   "metadata": {},
   "outputs": [],
   "source": [
    "labels = []"
   ]
  },
  {
   "cell_type": "code",
   "execution_count": 34,
   "metadata": {},
   "outputs": [],
   "source": [
    "deflabels(votes1,'A')\n",
    "deflabels(votes2,'B')\n",
    "deflabels(votes3,'C')\n",
    "deflabels(votes4,'D')"
   ]
  },
  {
   "cell_type": "code",
   "execution_count": 35,
   "metadata": {},
   "outputs": [
    {
     "data": {
      "text/plain": [
       "(380, 380)"
      ]
     },
     "execution_count": 35,
     "metadata": {},
     "output_type": "execute_result"
    }
   ],
   "source": [
    "len(labels), len(votes)"
   ]
  },
  {
   "cell_type": "code",
   "execution_count": 36,
   "metadata": {},
   "outputs": [],
   "source": [
    "label_color_dict = {'A':'red','B':'green','C':'blue','D':'magenta'}"
   ]
  },
  {
   "cell_type": "code",
   "execution_count": 37,
   "metadata": {},
   "outputs": [],
   "source": [
    "color_votes = [label_color_dict[label] for label in labels]"
   ]
  },
  {
   "cell_type": "code",
   "execution_count": 38,
   "metadata": {},
   "outputs": [
    {
     "data": {
      "text/plain": [
       "<matplotlib.collections.PathCollection at 0x7f9a9e922358>"
      ]
     },
     "execution_count": 38,
     "metadata": {},
     "output_type": "execute_result"
    },
    {
     "data": {
      "image/png": "[encoded data removed]",
      "text/plain": [
       "<Figure size 432x288 with 1 Axes>"
      ]
     },
     "metadata": {
      "needs_background": "light"
     },
     "output_type": "display_data"
    }
   ],
   "source": [
    "# plt.scatter(*pca.T)\n",
    "plt.scatter(x=df[0], y=df[1], c=color_votes, edgecolor='', alpha=0.5) "
   ]
  },
  {
   "cell_type": "markdown",
   "metadata": {},
   "source": [
    "#### - Analyse votes statistics "
   ]
  },
  {
   "cell_type": "code",
   "execution_count": 39,
   "metadata": {},
   "outputs": [
    {
     "data": {
      "text/plain": [
       "(0.4543614310216042, 0.7087, 0.20644431)"
      ]
     },
     "execution_count": 39,
     "metadata": {},
     "output_type": "execute_result"
    }
   ],
   "source": [
    "votes1.std(), votes1.mean(), votes1.var()"
   ]
  },
  {
   "cell_type": "code",
   "execution_count": 40,
   "metadata": {},
   "outputs": [
    {
     "data": {
      "text/plain": [
       "(0.4687472666586974, 0.674, 0.219724)"
      ]
     },
     "execution_count": 40,
     "metadata": {},
     "output_type": "execute_result"
    }
   ],
   "source": [
    "votes2.std(), votes2.mean(), votes2.var()"
   ]
  },
  {
   "cell_type": "code",
   "execution_count": 41,
   "metadata": {},
   "outputs": [
    {
     "data": {
      "text/plain": [
       "(0.4688708658990115, 0.6736666666666666, 0.21983988888888883)"
      ]
     },
     "execution_count": 41,
     "metadata": {},
     "output_type": "execute_result"
    }
   ],
   "source": [
    "votes3.std(), votes3.mean(), votes3.var()"
   ]
  },
  {
   "cell_type": "code",
   "execution_count": 42,
   "metadata": {},
   "outputs": [
    {
     "data": {
      "text/plain": [
       "(0.48519349582930493, 0.6207777777777778, 0.23541272839506175)"
      ]
     },
     "execution_count": 42,
     "metadata": {},
     "output_type": "execute_result"
    }
   ],
   "source": [
    "votes4.std(), votes4.mean(), votes4.var()"
   ]
  },
  {
   "cell_type": "code",
   "execution_count": 43,
   "metadata": {},
   "outputs": [
    {
     "data": {
      "text/plain": [
       "(0.4700602778580047, 0.6704210526315789, 0.22095666481994458)"
      ]
     },
     "execution_count": 43,
     "metadata": {},
     "output_type": "execute_result"
    }
   ],
   "source": [
    "votes.std(), votes.mean(), votes.var()"
   ]
  },
  {
   "cell_type": "markdown",
   "metadata": {},
   "source": [
    "### Change value from samples votes"
   ]
  },
  {
   "cell_type": "code",
   "execution_count": 44,
   "metadata": {},
   "outputs": [],
   "source": [
    "categories = 4\n",
    "comments = 100\n",
    "alpha = 0.520\n",
    "s = np.random.dirichlet((3 * alpha, alpha), (categories, comments))\n",
    "c1, c2, c3, c4 = s[:, :, 0]"
   ]
  },
  {
   "cell_type": "code",
   "execution_count": 45,
   "metadata": {},
   "outputs": [
    {
     "data": {
      "text/plain": [
       "0.9999999999999999"
      ]
     },
     "execution_count": 45,
     "metadata": {},
     "output_type": "execute_result"
    }
   ],
   "source": [
    "s[0][0].sum()"
   ]
  },
  {
   "cell_type": "code",
   "execution_count": 46,
   "metadata": {},
   "outputs": [
    {
     "data": {
      "text/plain": [
       "(100,)"
      ]
     },
     "execution_count": 46,
     "metadata": {},
     "output_type": "execute_result"
    }
   ],
   "source": [
    "c3.shape"
   ]
  },
  {
   "cell_type": "code",
   "execution_count": 47,
   "metadata": {},
   "outputs": [
    {
     "data": {
      "text/plain": [
       "array([[[7.46347686e-01, 2.53652314e-01],\n",
       "        [9.95589279e-01, 4.41072096e-03],\n",
       "        [9.18110657e-01, 8.18893427e-02],\n",
       "        [9.86478197e-01, 1.35218029e-02],\n",
       "        [9.88413346e-01, 1.15866538e-02],\n",
       "        [9.90994345e-01, 9.00565544e-03],\n",
       "        [7.69614210e-01, 2.30385790e-01],\n",
       "        [5.44509496e-01, 4.55490504e-01],\n",
       "        [1.55611610e-01, 8.44388390e-01],\n",
       "        [5.72350844e-01, 4.27649156e-01],\n",
       "        [6.68447442e-01, 3.31552558e-01],\n",
       "        [9.84130119e-01, 1.58698807e-02],\n",
       "        [7.09621486e-01, 2.90378514e-01],\n",
       "        [8.10472312e-01, 1.89527688e-01],\n",
       "        [7.59754720e-01, 2.40245280e-01],\n",
       "        [9.05395425e-01, 9.46045753e-02],\n",
       "        [8.60399461e-01, 1.39600539e-01],\n",
       "        [9.89132609e-01, 1.08673911e-02],\n",
       "        [8.96667611e-01, 1.03332389e-01],\n",
       "        [3.52381003e-01, 6.47618997e-01],\n",
       "        [6.57108806e-01, 3.42891194e-01],\n",
       "        [9.98263952e-01, 1.73604760e-03],\n",
       "        [8.58232832e-01, 1.41767168e-01],\n",
       "        [7.52776816e-01, 2.47223184e-01],\n",
       "        [8.90934495e-01, 1.09065505e-01],\n",
       "        [8.73802227e-01, 1.26197773e-01],\n",
       "        [8.38168312e-01, 1.61831688e-01],\n",
       "        [6.96585356e-01, 3.03414644e-01],\n",
       "        [6.51582957e-01, 3.48417043e-01],\n",
       "        [7.55597488e-01, 2.44402512e-01],\n",
       "        [7.27134416e-01, 2.72865584e-01],\n",
       "        [3.90557315e-01, 6.09442685e-01],\n",
       "        [7.95486528e-01, 2.04513472e-01],\n",
       "        [8.72781317e-01, 1.27218683e-01],\n",
       "        [6.67917471e-01, 3.32082529e-01],\n",
       "        [9.87727161e-01, 1.22728385e-02],\n",
       "        [6.89174818e-01, 3.10825182e-01],\n",
       "        [9.93320690e-01, 6.67931039e-03],\n",
       "        [5.29990171e-01, 4.70009829e-01],\n",
       "        [7.99236324e-01, 2.00763676e-01],\n",
       "        [9.80091963e-01, 1.99080371e-02],\n",
       "        [8.02576479e-01, 1.97423521e-01],\n",
       "        [7.24321572e-01, 2.75678428e-01],\n",
       "        [9.59095852e-01, 4.09041485e-02],\n",
       "        [7.58326244e-01, 2.41673756e-01],\n",
       "        [9.44954499e-01, 5.50455013e-02],\n",
       "        [7.37329267e-01, 2.62670733e-01],\n",
       "        [9.85388840e-01, 1.46111598e-02],\n",
       "        [9.81450351e-01, 1.85496491e-02],\n",
       "        [4.35004586e-01, 5.64995414e-01],\n",
       "        [3.44334249e-01, 6.55665751e-01],\n",
       "        [9.35126774e-01, 6.48732261e-02],\n",
       "        [6.91630799e-01, 3.08369201e-01],\n",
       "        [8.89260001e-01, 1.10739999e-01],\n",
       "        [4.99720922e-01, 5.00279078e-01],\n",
       "        [7.24925840e-01, 2.75074160e-01],\n",
       "        [8.34530495e-01, 1.65469505e-01],\n",
       "        [9.73338002e-01, 2.66619979e-02],\n",
       "        [9.91110037e-01, 8.88996288e-03],\n",
       "        [9.86201779e-01, 1.37982209e-02],\n",
       "        [8.89501371e-01, 1.10498629e-01],\n",
       "        [7.63654633e-01, 2.36345367e-01],\n",
       "        [8.74351705e-01, 1.25648295e-01],\n",
       "        [5.72882523e-01, 4.27117477e-01],\n",
       "        [8.91877205e-01, 1.08122795e-01],\n",
       "        [9.16794186e-01, 8.32058142e-02],\n",
       "        [9.95890192e-01, 4.10980796e-03],\n",
       "        [9.99207044e-01, 7.92956030e-04],\n",
       "        [8.59076201e-01, 1.40923799e-01],\n",
       "        [9.99983076e-01, 1.69238667e-05],\n",
       "        [4.75233008e-01, 5.24766992e-01],\n",
       "        [9.99998720e-01, 1.28006989e-06],\n",
       "        [9.99641415e-01, 3.58585054e-04],\n",
       "        [9.53774867e-01, 4.62251330e-02],\n",
       "        [3.02046865e-01, 6.97953135e-01],\n",
       "        [6.89605557e-01, 3.10394443e-01],\n",
       "        [8.12906236e-01, 1.87093764e-01],\n",
       "        [2.93761852e-01, 7.06238148e-01],\n",
       "        [7.39912518e-01, 2.60087482e-01],\n",
       "        [5.18272633e-01, 4.81727367e-01],\n",
       "        [8.37340167e-01, 1.62659833e-01],\n",
       "        [7.48309747e-01, 2.51690253e-01],\n",
       "        [2.08463169e-01, 7.91536831e-01],\n",
       "        [9.59778875e-01, 4.02211251e-02],\n",
       "        [4.32663244e-01, 5.67336756e-01],\n",
       "        [5.30910921e-01, 4.69089079e-01],\n",
       "        [7.83986056e-01, 2.16013944e-01],\n",
       "        [4.49393454e-01, 5.50606546e-01],\n",
       "        [7.23888912e-01, 2.76111088e-01],\n",
       "        [8.21661210e-01, 1.78338790e-01],\n",
       "        [8.97773619e-01, 1.02226381e-01],\n",
       "        [9.99957072e-01, 4.29283646e-05],\n",
       "        [5.84768361e-01, 4.15231639e-01],\n",
       "        [9.11672906e-01, 8.83270941e-02],\n",
       "        [2.33645124e-01, 7.66354876e-01],\n",
       "        [9.79867881e-01, 2.01321189e-02],\n",
       "        [9.99932115e-01, 6.78853578e-05],\n",
       "        [9.06057926e-01, 9.39420743e-02],\n",
       "        [9.48909812e-01, 5.10901879e-02],\n",
       "        [6.02011429e-01, 3.97988571e-01]],\n",
       "\n",
       "       [[4.25790613e-01, 5.74209387e-01],\n",
       "        [8.38221435e-01, 1.61778565e-01],\n",
       "        [9.99627788e-01, 3.72212287e-04],\n",
       "        [8.79115227e-01, 1.20884773e-01],\n",
       "        [9.56092300e-01, 4.39077005e-02],\n",
       "        [9.73632773e-01, 2.63672271e-02],\n",
       "        [5.12457431e-01, 4.87542569e-01],\n",
       "        [9.79793466e-01, 2.02065341e-02],\n",
       "        [4.50824828e-01, 5.49175172e-01],\n",
       "        [4.79336116e-01, 5.20663884e-01],\n",
       "        [3.56665375e-01, 6.43334625e-01],\n",
       "        [9.02181271e-01, 9.78187287e-02],\n",
       "        [8.24179308e-01, 1.75820692e-01],\n",
       "        [8.37636327e-01, 1.62363673e-01],\n",
       "        [4.52252795e-01, 5.47747205e-01],\n",
       "        [8.26262351e-01, 1.73737649e-01],\n",
       "        [7.75988778e-01, 2.24011222e-01],\n",
       "        [8.02061718e-01, 1.97938282e-01],\n",
       "        [3.40712078e-01, 6.59287922e-01],\n",
       "        [2.68262084e-01, 7.31737916e-01],\n",
       "        [8.91732624e-01, 1.08267376e-01],\n",
       "        [6.24504484e-01, 3.75495516e-01],\n",
       "        [8.70382382e-01, 1.29617618e-01],\n",
       "        [9.68240546e-01, 3.17594543e-02],\n",
       "        [8.68949779e-01, 1.31050221e-01],\n",
       "        [8.92569406e-01, 1.07430594e-01],\n",
       "        [9.39979910e-01, 6.00200898e-02],\n",
       "        [6.67227724e-01, 3.32772276e-01],\n",
       "        [7.18467613e-01, 2.81532387e-01],\n",
       "        [8.29316022e-01, 1.70683978e-01],\n",
       "        [6.93409022e-02, 9.30659098e-01],\n",
       "        [9.77258194e-01, 2.27418064e-02],\n",
       "        [8.84760043e-01, 1.15239957e-01],\n",
       "        [4.57291210e-01, 5.42708790e-01],\n",
       "        [8.99913135e-01, 1.00086865e-01],\n",
       "        [9.99938777e-01, 6.12228841e-05],\n",
       "        [2.80741154e-01, 7.19258846e-01],\n",
       "        [9.19831449e-01, 8.01685512e-02],\n",
       "        [8.80515223e-01, 1.19484777e-01],\n",
       "        [9.20089338e-01, 7.99106618e-02],\n",
       "        [7.13137246e-01, 2.86862754e-01],\n",
       "        [9.90829220e-01, 9.17077984e-03],\n",
       "        [7.45607229e-01, 2.54392771e-01],\n",
       "        [9.68780987e-01, 3.12190132e-02],\n",
       "        [9.98352361e-01, 1.64763885e-03],\n",
       "        [6.19707978e-01, 3.80292022e-01],\n",
       "        [9.51675441e-01, 4.83245593e-02],\n",
       "        [3.87422664e-01, 6.12577336e-01],\n",
       "        [6.40546132e-01, 3.59453868e-01],\n",
       "        [2.09435821e-01, 7.90564179e-01],\n",
       "        [8.74834203e-01, 1.25165797e-01],\n",
       "        [5.00059942e-01, 4.99940058e-01],\n",
       "        [8.74833186e-01, 1.25166814e-01],\n",
       "        [8.68775630e-01, 1.31224370e-01],\n",
       "        [9.28776019e-01, 7.12239806e-02],\n",
       "        [9.77101783e-01, 2.28982173e-02],\n",
       "        [3.11610814e-01, 6.88389186e-01],\n",
       "        [7.26657264e-01, 2.73342736e-01],\n",
       "        [3.74539376e-01, 6.25460624e-01],\n",
       "        [7.68212338e-01, 2.31787662e-01],\n",
       "        [4.95487597e-01, 5.04512403e-01],\n",
       "        [6.61018208e-01, 3.38981792e-01],\n",
       "        [6.54789796e-01, 3.45210204e-01],\n",
       "        [9.72262192e-01, 2.77378077e-02],\n",
       "        [9.77728336e-01, 2.22716640e-02],\n",
       "        [9.99993340e-01, 6.66018978e-06],\n",
       "        [6.58826207e-01, 3.41173793e-01],\n",
       "        [3.91825188e-01, 6.08174812e-01],\n",
       "        [7.97119361e-01, 2.02880639e-01],\n",
       "        [7.20318419e-01, 2.79681581e-01],\n",
       "        [5.32076876e-01, 4.67923124e-01],\n",
       "        [7.89122926e-01, 2.10877074e-01],\n",
       "        [9.99909259e-01, 9.07414101e-05],\n",
       "        [8.43061867e-01, 1.56938133e-01],\n",
       "        [6.38968725e-01, 3.61031275e-01],\n",
       "        [7.84000858e-01, 2.15999142e-01],\n",
       "        [3.64026991e-01, 6.35973009e-01],\n",
       "        [3.69791116e-01, 6.30208884e-01],\n",
       "        [4.03568027e-01, 5.96431973e-01],\n",
       "        [9.95254120e-01, 4.74588006e-03],\n",
       "        [7.36934198e-01, 2.63065802e-01],\n",
       "        [9.10697733e-01, 8.93022670e-02],\n",
       "        [6.93135154e-01, 3.06864846e-01],\n",
       "        [7.93453466e-01, 2.06546534e-01],\n",
       "        [9.26875537e-01, 7.31244635e-02],\n",
       "        [9.58737934e-01, 4.12620656e-02],\n",
       "        [6.19982270e-01, 3.80017730e-01],\n",
       "        [9.48379797e-01, 5.16202028e-02],\n",
       "        [3.65939402e-01, 6.34060598e-01],\n",
       "        [8.18596892e-01, 1.81403108e-01],\n",
       "        [9.98426773e-01, 1.57322661e-03],\n",
       "        [9.60569504e-01, 3.94304964e-02],\n",
       "        [9.91434035e-01, 8.56596458e-03],\n",
       "        [9.99140353e-01, 8.59647207e-04],\n",
       "        [8.61012269e-01, 1.38987731e-01],\n",
       "        [7.08346052e-02, 9.29165395e-01],\n",
       "        [7.36199815e-01, 2.63800185e-01],\n",
       "        [7.02200323e-01, 2.97799677e-01],\n",
       "        [4.80865370e-01, 5.19134630e-01],\n",
       "        [9.94252302e-01, 5.74769820e-03]],\n",
       "\n",
       "       [[3.62139436e-01, 6.37860564e-01],\n",
       "        [9.89472049e-01, 1.05279513e-02],\n",
       "        [7.35597270e-01, 2.64402730e-01],\n",
       "        [9.82624643e-01, 1.73753572e-02],\n",
       "        [9.80042527e-01, 1.99574732e-02],\n",
       "        [9.84330988e-01, 1.56690117e-02],\n",
       "        [4.26349507e-02, 9.57365049e-01],\n",
       "        [5.25497734e-01, 4.74502266e-01],\n",
       "        [6.66091239e-01, 3.33908761e-01],\n",
       "        [9.02542377e-01, 9.74576229e-02],\n",
       "        [2.16570954e-01, 7.83429046e-01],\n",
       "        [9.69864490e-01, 3.01355099e-02],\n",
       "        [8.34597385e-01, 1.65402615e-01],\n",
       "        [8.49181794e-01, 1.50818206e-01],\n",
       "        [9.50906264e-01, 4.90937355e-02],\n",
       "        [6.95671510e-01, 3.04328490e-01],\n",
       "        [1.22991729e-01, 8.77008271e-01],\n",
       "        [8.85292617e-01, 1.14707383e-01],\n",
       "        [9.99839872e-01, 1.60127575e-04],\n",
       "        [9.99796918e-01, 2.03082377e-04],\n",
       "        [2.90981375e-01, 7.09018625e-01],\n",
       "        [9.92010441e-01, 7.98955935e-03],\n",
       "        [2.50483330e-01, 7.49516670e-01],\n",
       "        [5.57084301e-01, 4.42915699e-01],\n",
       "        [9.11382550e-01, 8.86174498e-02],\n",
       "        [9.76055161e-01, 2.39448395e-02],\n",
       "        [9.99848497e-01, 1.51502905e-04],\n",
       "        [9.31458786e-01, 6.85412141e-02],\n",
       "        [9.61108848e-01, 3.88911517e-02],\n",
       "        [7.20049060e-01, 2.79950940e-01],\n",
       "        [7.42551782e-01, 2.57448218e-01],\n",
       "        [9.99621478e-01, 3.78521582e-04],\n",
       "        [9.42177870e-01, 5.78221295e-02],\n",
       "        [6.59609852e-01, 3.40390148e-01],\n",
       "        [7.95669229e-01, 2.04330771e-01],\n",
       "        [7.83783252e-01, 2.16216748e-01],\n",
       "        [8.39716019e-01, 1.60283981e-01],\n",
       "        [5.40731364e-01, 4.59268636e-01],\n",
       "        [9.48596176e-01, 5.14038244e-02],\n",
       "        [9.96974185e-01, 3.02581490e-03],\n",
       "        [5.82034555e-01, 4.17965445e-01],\n",
       "        [9.96176387e-01, 3.82361322e-03],\n",
       "        [8.40829368e-01, 1.59170632e-01],\n",
       "        [6.65078023e-01, 3.34921977e-01],\n",
       "        [9.10002141e-01, 8.99978585e-02],\n",
       "        [5.60227141e-01, 4.39772859e-01],\n",
       "        [8.81844677e-01, 1.18155323e-01],\n",
       "        [6.54680637e-01, 3.45319363e-01],\n",
       "        [9.85117849e-01, 1.48821513e-02],\n",
       "        [9.99998833e-01, 1.16743703e-06],\n",
       "        [4.17387918e-01, 5.82612082e-01],\n",
       "        [6.90754847e-01, 3.09245153e-01],\n",
       "        [9.70529552e-01, 2.94704477e-02],\n",
       "        [4.68729817e-01, 5.31270183e-01],\n",
       "        [9.91918509e-01, 8.08149126e-03],\n",
       "        [9.59708517e-01, 4.02914830e-02],\n",
       "        [8.01136205e-01, 1.98863795e-01],\n",
       "        [6.32546455e-01, 3.67453545e-01],\n",
       "        [9.21920323e-01, 7.80796766e-02],\n",
       "        [6.88280230e-01, 3.11719770e-01],\n",
       "        [9.96790278e-01, 3.20972172e-03],\n",
       "        [5.02957411e-01, 4.97042589e-01],\n",
       "        [9.26970816e-01, 7.30291839e-02],\n",
       "        [7.61753898e-01, 2.38246102e-01],\n",
       "        [8.92172315e-01, 1.07827685e-01],\n",
       "        [9.52625287e-01, 4.73747133e-02],\n",
       "        [4.19431199e-01, 5.80568801e-01],\n",
       "        [9.07461930e-01, 9.25380700e-02],\n",
       "        [9.97536412e-01, 2.46358794e-03],\n",
       "        [9.83569410e-01, 1.64305895e-02],\n",
       "        [9.98352192e-01, 1.64780794e-03],\n",
       "        [7.45407257e-01, 2.54592743e-01],\n",
       "        [9.84773207e-01, 1.52267927e-02],\n",
       "        [3.51661401e-01, 6.48338599e-01],\n",
       "        [8.11559612e-01, 1.88440388e-01],\n",
       "        [5.10925586e-01, 4.89074414e-01],\n",
       "        [9.27315719e-01, 7.26842814e-02],\n",
       "        [3.29261760e-01, 6.70738240e-01],\n",
       "        [3.05659199e-01, 6.94340801e-01],\n",
       "        [1.99736032e-01, 8.00263968e-01],\n",
       "        [1.96655477e-01, 8.03344523e-01],\n",
       "        [3.31631173e-01, 6.68368827e-01],\n",
       "        [9.73719970e-01, 2.62800297e-02],\n",
       "        [9.71502921e-01, 2.84970791e-02],\n",
       "        [5.39100501e-01, 4.60899499e-01],\n",
       "        [9.89683055e-01, 1.03169447e-02],\n",
       "        [9.58849744e-01, 4.11502558e-02],\n",
       "        [6.00615148e-01, 3.99384852e-01],\n",
       "        [9.48009465e-01, 5.19905355e-02],\n",
       "        [5.20620822e-01, 4.79379178e-01],\n",
       "        [8.14367021e-01, 1.85632979e-01],\n",
       "        [5.53997942e-01, 4.46002058e-01],\n",
       "        [9.91619400e-01, 8.38060049e-03],\n",
       "        [5.58827180e-01, 4.41172820e-01],\n",
       "        [2.76274289e-02, 9.72372571e-01],\n",
       "        [7.99911682e-01, 2.00088318e-01],\n",
       "        [9.44217087e-01, 5.57829131e-02],\n",
       "        [9.61725803e-01, 3.82741975e-02],\n",
       "        [9.17756647e-01, 8.22433529e-02],\n",
       "        [6.77789082e-01, 3.22210918e-01]],\n",
       "\n",
       "       [[7.16835476e-01, 2.83164524e-01],\n",
       "        [4.82011246e-01, 5.17988754e-01],\n",
       "        [9.10528580e-01, 8.94714205e-02],\n",
       "        [9.20424184e-01, 7.95758161e-02],\n",
       "        [9.44911706e-01, 5.50882940e-02],\n",
       "        [9.50730590e-01, 4.92694095e-02],\n",
       "        [8.60308378e-01, 1.39691622e-01],\n",
       "        [5.71210581e-01, 4.28789419e-01],\n",
       "        [8.51808798e-01, 1.48191202e-01],\n",
       "        [9.86272022e-01, 1.37279777e-02],\n",
       "        [5.00959676e-01, 4.99040324e-01],\n",
       "        [9.63321218e-01, 3.66787821e-02],\n",
       "        [5.82947147e-01, 4.17052853e-01],\n",
       "        [5.00185197e-01, 4.99814803e-01],\n",
       "        [8.72554956e-01, 1.27445044e-01],\n",
       "        [7.78629536e-01, 2.21370464e-01],\n",
       "        [5.51769129e-01, 4.48230871e-01],\n",
       "        [7.51396768e-01, 2.48603232e-01],\n",
       "        [9.32493454e-02, 9.06750655e-01],\n",
       "        [9.10434448e-01, 8.95655520e-02],\n",
       "        [8.86329828e-01, 1.13670172e-01],\n",
       "        [9.05941821e-01, 9.40581791e-02],\n",
       "        [5.60585329e-01, 4.39414671e-01],\n",
       "        [1.54824495e-01, 8.45175505e-01],\n",
       "        [9.99810351e-01, 1.89649115e-04],\n",
       "        [7.94609364e-01, 2.05390636e-01],\n",
       "        [7.86400960e-01, 2.13599040e-01],\n",
       "        [8.21128188e-01, 1.78871812e-01],\n",
       "        [7.62899989e-01, 2.37100011e-01],\n",
       "        [9.93608328e-01, 6.39167215e-03],\n",
       "        [9.50001530e-01, 4.99984699e-02],\n",
       "        [9.81046144e-01, 1.89538563e-02],\n",
       "        [8.87943796e-01, 1.12056204e-01],\n",
       "        [7.24885811e-01, 2.75114189e-01],\n",
       "        [6.96317913e-01, 3.03682087e-01],\n",
       "        [8.17161163e-01, 1.82838837e-01],\n",
       "        [8.28579072e-01, 1.71420928e-01],\n",
       "        [5.09329869e-01, 4.90670131e-01],\n",
       "        [9.54790564e-01, 4.52094356e-02],\n",
       "        [6.92636109e-01, 3.07363891e-01],\n",
       "        [7.53067086e-01, 2.46932914e-01],\n",
       "        [9.82608931e-01, 1.73910694e-02],\n",
       "        [7.80556941e-01, 2.19443059e-01],\n",
       "        [9.97112545e-01, 2.88745526e-03],\n",
       "        [9.97329797e-01, 2.67020286e-03],\n",
       "        [3.81303658e-01, 6.18696342e-01],\n",
       "        [9.77823669e-01, 2.21763314e-02],\n",
       "        [4.59806265e-01, 5.40193735e-01],\n",
       "        [7.41945303e-01, 2.58054697e-01],\n",
       "        [7.31334801e-01, 2.68665199e-01],\n",
       "        [9.55770104e-01, 4.42298957e-02],\n",
       "        [8.98552955e-01, 1.01447045e-01],\n",
       "        [9.94630498e-01, 5.36950177e-03],\n",
       "        [9.20065067e-01, 7.99349331e-02],\n",
       "        [5.60210393e-01, 4.39789607e-01],\n",
       "        [9.67191865e-01, 3.28081347e-02],\n",
       "        [6.46823433e-01, 3.53176567e-01],\n",
       "        [5.18220302e-01, 4.81779698e-01],\n",
       "        [9.96634523e-01, 3.36547734e-03],\n",
       "        [6.04745930e-01, 3.95254070e-01],\n",
       "        [3.31391539e-01, 6.68608461e-01],\n",
       "        [9.99999768e-01, 2.31535630e-07],\n",
       "        [4.48566200e-01, 5.51433800e-01],\n",
       "        [9.99608004e-01, 3.91995914e-04],\n",
       "        [7.21690023e-01, 2.78309977e-01],\n",
       "        [9.99652717e-01, 3.47282783e-04],\n",
       "        [8.32700836e-01, 1.67299164e-01],\n",
       "        [9.93534304e-01, 6.46569592e-03],\n",
       "        [9.22120598e-01, 7.78794020e-02],\n",
       "        [9.82383712e-01, 1.76162880e-02],\n",
       "        [9.89545783e-01, 1.04542175e-02],\n",
       "        [8.14557523e-01, 1.85442477e-01],\n",
       "        [9.34846606e-01, 6.51533935e-02],\n",
       "        [3.58243159e-01, 6.41756841e-01],\n",
       "        [5.64008442e-01, 4.35991558e-01],\n",
       "        [9.98544826e-01, 1.45517374e-03],\n",
       "        [8.73602758e-01, 1.26397242e-01],\n",
       "        [9.81486991e-03, 9.90185130e-01],\n",
       "        [9.99997909e-01, 2.09090327e-06],\n",
       "        [9.99660716e-01, 3.39283776e-04],\n",
       "        [8.64032998e-01, 1.35967002e-01],\n",
       "        [5.38338248e-01, 4.61661752e-01],\n",
       "        [6.11020632e-01, 3.88979368e-01],\n",
       "        [8.15167357e-01, 1.84832643e-01],\n",
       "        [7.83213973e-01, 2.16786027e-01],\n",
       "        [6.81825234e-01, 3.18174766e-01],\n",
       "        [3.32695115e-01, 6.67304885e-01],\n",
       "        [8.22125978e-01, 1.77874022e-01],\n",
       "        [4.66372343e-01, 5.33627657e-01],\n",
       "        [5.46695320e-01, 4.53304680e-01],\n",
       "        [8.79538574e-01, 1.20461426e-01],\n",
       "        [6.84897220e-01, 3.15102780e-01],\n",
       "        [7.40946623e-01, 2.59053377e-01],\n",
       "        [8.27705870e-01, 1.72294130e-01],\n",
       "        [4.18109540e-01, 5.81890460e-01],\n",
       "        [8.74119244e-01, 1.25880756e-01],\n",
       "        [8.16484670e-01, 1.83515330e-01],\n",
       "        [8.57941568e-01, 1.42058432e-01],\n",
       "        [6.84865368e-01, 3.15134632e-01],\n",
       "        [9.71777938e-01, 2.82220622e-02]]])"
      ]
     },
     "execution_count": 47,
     "metadata": {},
     "output_type": "execute_result"
    }
   ],
   "source": [
    "s"
   ]
  },
  {
   "cell_type": "code",
   "execution_count": 48,
   "metadata": {},
   "outputs": [
    {
     "data": {
      "text/plain": [
       "Text(0.5, 1.0, 'Dirichlet Distribution')"
      ]
     },
     "execution_count": 48,
     "metadata": {},
     "output_type": "execute_result"
    },
    {
     "data": {
      "image/png": "[encoded data removed]",
      "text/plain": [
       "<Figure size 432x288 with 1 Axes>"
      ]
     },
     "metadata": {
      "needs_background": "light"
     },
     "output_type": "display_data"
    }
   ],
   "source": [
    "sT = s[0][:20].transpose()\n",
    "\n",
    "plt.barh(range(20), sT[0])\n",
    "plt.barh(range(20), sT[1], left=sT[0], color='g')\n",
    "plt.title(\"Dirichlet Distribution\")"
   ]
  },
  {
   "cell_type": "code",
   "execution_count": 49,
   "metadata": {},
   "outputs": [
    {
     "name": "stdout",
     "output_type": "stream",
     "text": [
      "percentage to like and dislike:  [0.74634769 0.25365231]\n",
      "sum of percentages:  0.9999999999999999\n",
      "how many categories and comments was voted:  (4, 100, 2)\n"
     ]
    }
   ],
   "source": [
    "print('percentage to like and dislike: ', s[0][0])\n",
    "print('sum of percentages: ', s[0][0].sum())\n",
    "print('how many categories and comments was voted: ', s.shape)"
   ]
  },
  {
   "cell_type": "code",
   "execution_count": 50,
   "metadata": {},
   "outputs": [],
   "source": [
    "votes1_num = np.random.random(size=(100, comments))\n",
    "votes1 = votes1_num < c1\n",
    "votes2_num = np.random.random(size=(70, comments))\n",
    "votes2 = votes2_num < c2\n",
    "votes3_num = np.random.random(size=(120, comments))\n",
    "votes3 = votes3_num < c3\n",
    "votes4_num = np.random.random(size=(90, comments))\n",
    "votes4 = votes4_num < c4"
   ]
  },
  {
   "cell_type": "code",
   "execution_count": 51,
   "metadata": {},
   "outputs": [],
   "source": [
    "votes_num = np.vstack([votes1_num,votes2_num,votes3_num,votes4_num])\n",
    "votes = np.vstack([votes1,votes2,votes3,votes4])"
   ]
  },
  {
   "cell_type": "code",
   "execution_count": 52,
   "metadata": {},
   "outputs": [
    {
     "data": {
      "text/plain": [
       "(380, 100)"
      ]
     },
     "execution_count": 52,
     "metadata": {},
     "output_type": "execute_result"
    }
   ],
   "source": [
    "votes.shape"
   ]
  },
  {
   "cell_type": "code",
   "execution_count": 53,
   "metadata": {},
   "outputs": [],
   "source": [
    "pca = PCA(n_components=2).fit_transform(votes)"
   ]
  },
  {
   "cell_type": "code",
   "execution_count": 54,
   "metadata": {},
   "outputs": [],
   "source": [
    "labels = []"
   ]
  },
  {
   "cell_type": "code",
   "execution_count": 55,
   "metadata": {},
   "outputs": [],
   "source": [
    "deflabels(votes1,'A')\n",
    "deflabels(votes2,'B')\n",
    "deflabels(votes3,'C')\n",
    "deflabels(votes4,'D')"
   ]
  },
  {
   "cell_type": "code",
   "execution_count": 56,
   "metadata": {},
   "outputs": [],
   "source": [
    "color_votes = [label_color_dict[label] for label in labels]"
   ]
  },
  {
   "cell_type": "code",
   "execution_count": 57,
   "metadata": {},
   "outputs": [
    {
     "data": {
      "text/plain": [
       "<matplotlib.collections.PathCollection at 0x7f9a9e7f4860>"
      ]
     },
     "execution_count": 57,
     "metadata": {},
     "output_type": "execute_result"
    },
    {
     "data": {
      "image/png": "[encoded data removed]",
      "text/plain": [
       "<Figure size 432x288 with 1 Axes>"
      ]
     },
     "metadata": {
      "needs_background": "light"
     },
     "output_type": "display_data"
    }
   ],
   "source": [
    "plt.scatter(*pca.T, c=color_votes, edgecolor='', alpha=0.5) "
   ]
  },
  {
   "cell_type": "code",
   "execution_count": 58,
   "metadata": {},
   "outputs": [
    {
     "data": {
      "text/plain": [
       "(0.41810807215359996, 0.7742, 0.17481435999999997)"
      ]
     },
     "execution_count": 58,
     "metadata": {},
     "output_type": "execute_result"
    }
   ],
   "source": [
    "votes1.std(), votes1.mean(), votes1.var()"
   ]
  },
  {
   "cell_type": "code",
   "execution_count": 59,
   "metadata": {},
   "outputs": [
    {
     "data": {
      "text/plain": [
       "(0.44246757058614833, 0.7328571428571429, 0.19577755102040814)"
      ]
     },
     "execution_count": 59,
     "metadata": {},
     "output_type": "execute_result"
    }
   ],
   "source": [
    "votes2.std(), votes2.mean(), votes2.var()"
   ]
  },
  {
   "cell_type": "code",
   "execution_count": 60,
   "metadata": {},
   "outputs": [
    {
     "data": {
      "text/plain": [
       "(0.4344464869233034, 0.7475, 0.18874375000000002)"
      ]
     },
     "execution_count": 60,
     "metadata": {},
     "output_type": "execute_result"
    }
   ],
   "source": [
    "votes3.std(), votes3.mean(), votes3.var()"
   ]
  },
  {
   "cell_type": "code",
   "execution_count": 61,
   "metadata": {},
   "outputs": [
    {
     "data": {
      "text/plain": [
       "(0.42392935586655484, 0.7651111111111111, 0.17971609876543207)"
      ]
     },
     "execution_count": 61,
     "metadata": {},
     "output_type": "execute_result"
    }
   ],
   "source": [
    "votes4.std(), votes4.mean(), votes4.var()"
   ]
  },
  {
   "cell_type": "code",
   "execution_count": 62,
   "metadata": {},
   "outputs": [
    {
     "data": {
      "text/plain": [
       "(0.42949272403615874, 0.756, 0.18446400000000002)"
      ]
     },
     "execution_count": 62,
     "metadata": {},
     "output_type": "execute_result"
    }
   ],
   "source": [
    "votes.std(), votes.mean(), votes.var()"
   ]
  },
  {
   "cell_type": "markdown",
   "metadata": {},
   "source": [
    "#### - Applying Naive Bayes to predict Agreed/Not comment"
   ]
  },
  {
   "cell_type": "code",
   "execution_count": 63,
   "metadata": {},
   "outputs": [
    {
     "data": {
      "text/plain": [
       "((4, 100, 2), (380, 100))"
      ]
     },
     "execution_count": 63,
     "metadata": {},
     "output_type": "execute_result"
    }
   ],
   "source": [
    "s.shape, votes.shape"
   ]
  },
  {
   "cell_type": "code",
   "execution_count": 64,
   "metadata": {},
   "outputs": [
    {
     "data": {
      "text/plain": [
       "(100, 100)"
      ]
     },
     "execution_count": 64,
     "metadata": {},
     "output_type": "execute_result"
    }
   ],
   "source": [
    "votes1_num.shape"
   ]
  },
  {
   "cell_type": "code",
   "execution_count": 65,
   "metadata": {},
   "outputs": [
    {
     "data": {
      "text/plain": [
       "(10, 100)"
      ]
     },
     "execution_count": 65,
     "metadata": {},
     "output_type": "execute_result"
    }
   ],
   "source": [
    "votes1_num[:10].shape"
   ]
  },
  {
   "cell_type": "code",
   "execution_count": 66,
   "metadata": {},
   "outputs": [],
   "source": [
    "df1 = pd.DataFrame(votes1)\n",
    "df1['category'] = 1"
   ]
  },
  {
   "cell_type": "code",
   "execution_count": 67,
   "metadata": {},
   "outputs": [],
   "source": [
    "df2 = pd.DataFrame(votes2)\n",
    "df2['category'] = 2"
   ]
  },
  {
   "cell_type": "code",
   "execution_count": 68,
   "metadata": {},
   "outputs": [],
   "source": [
    "df3 = pd.DataFrame(votes3)\n",
    "df3['category'] = 3"
   ]
  },
  {
   "cell_type": "code",
   "execution_count": 69,
   "metadata": {},
   "outputs": [],
   "source": [
    "df4 = pd.DataFrame(votes4)\n",
    "df4['category'] = 4"
   ]
  },
  {
   "cell_type": "code",
   "execution_count": 70,
   "metadata": {},
   "outputs": [],
   "source": [
    "frames = [df1, df2, df3, df4]"
   ]
  },
  {
   "cell_type": "code",
   "execution_count": 71,
   "metadata": {},
   "outputs": [],
   "source": [
    "df = pd.concat(frames)"
   ]
  },
  {
   "cell_type": "code",
   "execution_count": 72,
   "metadata": {},
   "outputs": [
    {
     "data": {
      "text/html": [
       "<div>\n",
       "<style scoped>\n",
       "    .dataframe tbody tr th:only-of-type {\n",
       "        vertical-align: middle;\n",
       "    }\n",
       "\n",
       "    .dataframe tbody tr th {\n",
       "        vertical-align: top;\n",
       "    }\n",
       "\n",
       "    .dataframe thead th {\n",
       "        text-align: right;\n",
       "    }\n",
       "</style>\n",
       "<table border=\"1\" class=\"dataframe\">\n",
       "  <thead>\n",
       "    <tr style=\"text-align: right;\">\n",
       "      <th></th>\n",
       "      <th>0</th>\n",
       "      <th>1</th>\n",
       "      <th>2</th>\n",
       "      <th>3</th>\n",
       "      <th>4</th>\n",
       "      <th>5</th>\n",
       "      <th>6</th>\n",
       "      <th>7</th>\n",
       "      <th>8</th>\n",
       "      <th>9</th>\n",
       "      <th>...</th>\n",
       "      <th>91</th>\n",
       "      <th>92</th>\n",
       "      <th>93</th>\n",
       "      <th>94</th>\n",
       "      <th>95</th>\n",
       "      <th>96</th>\n",
       "      <th>97</th>\n",
       "      <th>98</th>\n",
       "      <th>99</th>\n",
       "      <th>category</th>\n",
       "    </tr>\n",
       "  </thead>\n",
       "  <tbody>\n",
       "    <tr>\n",
       "      <th>0</th>\n",
       "      <td>True</td>\n",
       "      <td>True</td>\n",
       "      <td>True</td>\n",
       "      <td>True</td>\n",
       "      <td>True</td>\n",
       "      <td>True</td>\n",
       "      <td>True</td>\n",
       "      <td>True</td>\n",
       "      <td>False</td>\n",
       "      <td>False</td>\n",
       "      <td>...</td>\n",
       "      <td>True</td>\n",
       "      <td>True</td>\n",
       "      <td>True</td>\n",
       "      <td>True</td>\n",
       "      <td>True</td>\n",
       "      <td>True</td>\n",
       "      <td>True</td>\n",
       "      <td>True</td>\n",
       "      <td>False</td>\n",
       "      <td>1</td>\n",
       "    </tr>\n",
       "    <tr>\n",
       "      <th>1</th>\n",
       "      <td>True</td>\n",
       "      <td>True</td>\n",
       "      <td>True</td>\n",
       "      <td>True</td>\n",
       "      <td>True</td>\n",
       "      <td>True</td>\n",
       "      <td>True</td>\n",
       "      <td>False</td>\n",
       "      <td>False</td>\n",
       "      <td>False</td>\n",
       "      <td>...</td>\n",
       "      <td>True</td>\n",
       "      <td>False</td>\n",
       "      <td>True</td>\n",
       "      <td>True</td>\n",
       "      <td>True</td>\n",
       "      <td>True</td>\n",
       "      <td>True</td>\n",
       "      <td>True</td>\n",
       "      <td>False</td>\n",
       "      <td>1</td>\n",
       "    </tr>\n",
       "    <tr>\n",
       "      <th>2</th>\n",
       "      <td>True</td>\n",
       "      <td>True</td>\n",
       "      <td>True</td>\n",
       "      <td>True</td>\n",
       "      <td>True</td>\n",
       "      <td>True</td>\n",
       "      <td>True</td>\n",
       "      <td>True</td>\n",
       "      <td>False</td>\n",
       "      <td>True</td>\n",
       "      <td>...</td>\n",
       "      <td>True</td>\n",
       "      <td>False</td>\n",
       "      <td>True</td>\n",
       "      <td>False</td>\n",
       "      <td>True</td>\n",
       "      <td>True</td>\n",
       "      <td>True</td>\n",
       "      <td>True</td>\n",
       "      <td>False</td>\n",
       "      <td>1</td>\n",
       "    </tr>\n",
       "    <tr>\n",
       "      <th>3</th>\n",
       "      <td>True</td>\n",
       "      <td>True</td>\n",
       "      <td>True</td>\n",
       "      <td>True</td>\n",
       "      <td>True</td>\n",
       "      <td>True</td>\n",
       "      <td>True</td>\n",
       "      <td>True</td>\n",
       "      <td>False</td>\n",
       "      <td>False</td>\n",
       "      <td>...</td>\n",
       "      <td>True</td>\n",
       "      <td>True</td>\n",
       "      <td>True</td>\n",
       "      <td>True</td>\n",
       "      <td>True</td>\n",
       "      <td>True</td>\n",
       "      <td>True</td>\n",
       "      <td>True</td>\n",
       "      <td>True</td>\n",
       "      <td>1</td>\n",
       "    </tr>\n",
       "    <tr>\n",
       "      <th>4</th>\n",
       "      <td>True</td>\n",
       "      <td>True</td>\n",
       "      <td>True</td>\n",
       "      <td>True</td>\n",
       "      <td>True</td>\n",
       "      <td>True</td>\n",
       "      <td>True</td>\n",
       "      <td>True</td>\n",
       "      <td>False</td>\n",
       "      <td>True</td>\n",
       "      <td>...</td>\n",
       "      <td>True</td>\n",
       "      <td>True</td>\n",
       "      <td>True</td>\n",
       "      <td>False</td>\n",
       "      <td>True</td>\n",
       "      <td>True</td>\n",
       "      <td>True</td>\n",
       "      <td>True</td>\n",
       "      <td>False</td>\n",
       "      <td>1</td>\n",
       "    </tr>\n",
       "  </tbody>\n",
       "</table>\n",
       "<p>5 rows × 101 columns</p>\n",
       "</div>"
      ],
      "text/plain": [
       "      0     1     2     3     4     5     6      7      8      9  ...    91  \\\n",
       "0  True  True  True  True  True  True  True   True  False  False  ...  True   \n",
       "1  True  True  True  True  True  True  True  False  False  False  ...  True   \n",
       "2  True  True  True  True  True  True  True   True  False   True  ...  True   \n",
       "3  True  True  True  True  True  True  True   True  False  False  ...  True   \n",
       "4  True  True  True  True  True  True  True   True  False   True  ...  True   \n",
       "\n",
       "      92    93     94    95    96    97    98     99  category  \n",
       "0   True  True   True  True  True  True  True  False         1  \n",
       "1  False  True   True  True  True  True  True  False         1  \n",
       "2  False  True  False  True  True  True  True  False         1  \n",
       "3   True  True   True  True  True  True  True   True         1  \n",
       "4   True  True  False  True  True  True  True  False         1  \n",
       "\n",
       "[5 rows x 101 columns]"
      ]
     },
     "execution_count": 72,
     "metadata": {},
     "output_type": "execute_result"
    }
   ],
   "source": [
    "df.head()"
   ]
  },
  {
   "cell_type": "code",
   "execution_count": 73,
   "metadata": {},
   "outputs": [
    {
     "data": {
      "text/html": [
       "<div>\n",
       "<style scoped>\n",
       "    .dataframe tbody tr th:only-of-type {\n",
       "        vertical-align: middle;\n",
       "    }\n",
       "\n",
       "    .dataframe tbody tr th {\n",
       "        vertical-align: top;\n",
       "    }\n",
       "\n",
       "    .dataframe thead th {\n",
       "        text-align: right;\n",
       "    }\n",
       "</style>\n",
       "<table border=\"1\" class=\"dataframe\">\n",
       "  <thead>\n",
       "    <tr style=\"text-align: right;\">\n",
       "      <th></th>\n",
       "      <th>0</th>\n",
       "      <th>1</th>\n",
       "      <th>2</th>\n",
       "      <th>3</th>\n",
       "      <th>4</th>\n",
       "      <th>5</th>\n",
       "      <th>6</th>\n",
       "      <th>7</th>\n",
       "      <th>8</th>\n",
       "      <th>9</th>\n",
       "      <th>...</th>\n",
       "      <th>91</th>\n",
       "      <th>92</th>\n",
       "      <th>93</th>\n",
       "      <th>94</th>\n",
       "      <th>95</th>\n",
       "      <th>96</th>\n",
       "      <th>97</th>\n",
       "      <th>98</th>\n",
       "      <th>99</th>\n",
       "      <th>category</th>\n",
       "    </tr>\n",
       "  </thead>\n",
       "  <tbody>\n",
       "    <tr>\n",
       "      <th>0</th>\n",
       "      <td>True</td>\n",
       "      <td>True</td>\n",
       "      <td>True</td>\n",
       "      <td>True</td>\n",
       "      <td>True</td>\n",
       "      <td>True</td>\n",
       "      <td>True</td>\n",
       "      <td>True</td>\n",
       "      <td>False</td>\n",
       "      <td>False</td>\n",
       "      <td>...</td>\n",
       "      <td>True</td>\n",
       "      <td>True</td>\n",
       "      <td>True</td>\n",
       "      <td>True</td>\n",
       "      <td>True</td>\n",
       "      <td>True</td>\n",
       "      <td>True</td>\n",
       "      <td>True</td>\n",
       "      <td>False</td>\n",
       "      <td>1</td>\n",
       "    </tr>\n",
       "  </tbody>\n",
       "</table>\n",
       "<p>1 rows × 101 columns</p>\n",
       "</div>"
      ],
      "text/plain": [
       "      0     1     2     3     4     5     6     7      8      9  ...    91  \\\n",
       "0  True  True  True  True  True  True  True  True  False  False  ...  True   \n",
       "\n",
       "     92    93    94    95    96    97    98     99  category  \n",
       "0  True  True  True  True  True  True  True  False         1  \n",
       "\n",
       "[1 rows x 101 columns]"
      ]
     },
     "execution_count": 73,
     "metadata": {},
     "output_type": "execute_result"
    }
   ],
   "source": [
    "df[0:1]"
   ]
  },
  {
   "cell_type": "code",
   "execution_count": 74,
   "metadata": {},
   "outputs": [],
   "source": [
    "df = df.reset_index()"
   ]
  },
  {
   "cell_type": "code",
   "execution_count": 75,
   "metadata": {},
   "outputs": [
    {
     "data": {
      "text/plain": [
       "True"
      ]
     },
     "execution_count": 75,
     "metadata": {},
     "output_type": "execute_result"
    }
   ],
   "source": [
    "df[0][1]"
   ]
  },
  {
   "cell_type": "code",
   "execution_count": 76,
   "metadata": {},
   "outputs": [],
   "source": [
    "d = {False:0,True:1}\n",
    "df = df.replace(d)"
   ]
  },
  {
   "cell_type": "code",
   "execution_count": 77,
   "metadata": {},
   "outputs": [
    {
     "data": {
      "text/html": [
       "<div>\n",
       "<style scoped>\n",
       "    .dataframe tbody tr th:only-of-type {\n",
       "        vertical-align: middle;\n",
       "    }\n",
       "\n",
       "    .dataframe tbody tr th {\n",
       "        vertical-align: top;\n",
       "    }\n",
       "\n",
       "    .dataframe thead th {\n",
       "        text-align: right;\n",
       "    }\n",
       "</style>\n",
       "<table border=\"1\" class=\"dataframe\">\n",
       "  <thead>\n",
       "    <tr style=\"text-align: right;\">\n",
       "      <th></th>\n",
       "      <th>index</th>\n",
       "      <th>0</th>\n",
       "      <th>1</th>\n",
       "      <th>2</th>\n",
       "      <th>3</th>\n",
       "      <th>4</th>\n",
       "      <th>5</th>\n",
       "      <th>6</th>\n",
       "      <th>7</th>\n",
       "      <th>8</th>\n",
       "      <th>...</th>\n",
       "      <th>91</th>\n",
       "      <th>92</th>\n",
       "      <th>93</th>\n",
       "      <th>94</th>\n",
       "      <th>95</th>\n",
       "      <th>96</th>\n",
       "      <th>97</th>\n",
       "      <th>98</th>\n",
       "      <th>99</th>\n",
       "      <th>category</th>\n",
       "    </tr>\n",
       "  </thead>\n",
       "  <tbody>\n",
       "    <tr>\n",
       "      <th>0</th>\n",
       "      <td>0</td>\n",
       "      <td>1</td>\n",
       "      <td>1</td>\n",
       "      <td>1</td>\n",
       "      <td>1</td>\n",
       "      <td>1</td>\n",
       "      <td>1</td>\n",
       "      <td>1</td>\n",
       "      <td>1</td>\n",
       "      <td>0</td>\n",
       "      <td>...</td>\n",
       "      <td>1</td>\n",
       "      <td>1</td>\n",
       "      <td>1</td>\n",
       "      <td>1</td>\n",
       "      <td>1</td>\n",
       "      <td>1</td>\n",
       "      <td>1</td>\n",
       "      <td>1</td>\n",
       "      <td>0</td>\n",
       "      <td>1</td>\n",
       "    </tr>\n",
       "    <tr>\n",
       "      <th>1</th>\n",
       "      <td>1</td>\n",
       "      <td>1</td>\n",
       "      <td>1</td>\n",
       "      <td>1</td>\n",
       "      <td>1</td>\n",
       "      <td>1</td>\n",
       "      <td>1</td>\n",
       "      <td>1</td>\n",
       "      <td>0</td>\n",
       "      <td>0</td>\n",
       "      <td>...</td>\n",
       "      <td>1</td>\n",
       "      <td>0</td>\n",
       "      <td>1</td>\n",
       "      <td>1</td>\n",
       "      <td>1</td>\n",
       "      <td>1</td>\n",
       "      <td>1</td>\n",
       "      <td>1</td>\n",
       "      <td>0</td>\n",
       "      <td>1</td>\n",
       "    </tr>\n",
       "    <tr>\n",
       "      <th>2</th>\n",
       "      <td>2</td>\n",
       "      <td>1</td>\n",
       "      <td>1</td>\n",
       "      <td>1</td>\n",
       "      <td>1</td>\n",
       "      <td>1</td>\n",
       "      <td>1</td>\n",
       "      <td>1</td>\n",
       "      <td>1</td>\n",
       "      <td>0</td>\n",
       "      <td>...</td>\n",
       "      <td>1</td>\n",
       "      <td>0</td>\n",
       "      <td>1</td>\n",
       "      <td>0</td>\n",
       "      <td>1</td>\n",
       "      <td>1</td>\n",
       "      <td>1</td>\n",
       "      <td>1</td>\n",
       "      <td>0</td>\n",
       "      <td>1</td>\n",
       "    </tr>\n",
       "    <tr>\n",
       "      <th>3</th>\n",
       "      <td>3</td>\n",
       "      <td>1</td>\n",
       "      <td>1</td>\n",
       "      <td>1</td>\n",
       "      <td>1</td>\n",
       "      <td>1</td>\n",
       "      <td>1</td>\n",
       "      <td>1</td>\n",
       "      <td>1</td>\n",
       "      <td>0</td>\n",
       "      <td>...</td>\n",
       "      <td>1</td>\n",
       "      <td>1</td>\n",
       "      <td>1</td>\n",
       "      <td>1</td>\n",
       "      <td>1</td>\n",
       "      <td>1</td>\n",
       "      <td>1</td>\n",
       "      <td>1</td>\n",
       "      <td>1</td>\n",
       "      <td>1</td>\n",
       "    </tr>\n",
       "    <tr>\n",
       "      <th>4</th>\n",
       "      <td>4</td>\n",
       "      <td>1</td>\n",
       "      <td>1</td>\n",
       "      <td>1</td>\n",
       "      <td>1</td>\n",
       "      <td>1</td>\n",
       "      <td>1</td>\n",
       "      <td>1</td>\n",
       "      <td>1</td>\n",
       "      <td>0</td>\n",
       "      <td>...</td>\n",
       "      <td>1</td>\n",
       "      <td>1</td>\n",
       "      <td>1</td>\n",
       "      <td>0</td>\n",
       "      <td>1</td>\n",
       "      <td>1</td>\n",
       "      <td>1</td>\n",
       "      <td>1</td>\n",
       "      <td>0</td>\n",
       "      <td>1</td>\n",
       "    </tr>\n",
       "  </tbody>\n",
       "</table>\n",
       "<p>5 rows × 102 columns</p>\n",
       "</div>"
      ],
      "text/plain": [
       "   index  0  1  2  3  4  5  6  7  8  ...  91  92  93  94  95  96  97  98  99  \\\n",
       "0      0  1  1  1  1  1  1  1  1  0  ...   1   1   1   1   1   1   1   1   0   \n",
       "1      1  1  1  1  1  1  1  1  0  0  ...   1   0   1   1   1   1   1   1   0   \n",
       "2      2  1  1  1  1  1  1  1  1  0  ...   1   0   1   0   1   1   1   1   0   \n",
       "3      3  1  1  1  1  1  1  1  1  0  ...   1   1   1   1   1   1   1   1   1   \n",
       "4      4  1  1  1  1  1  1  1  1  0  ...   1   1   1   0   1   1   1   1   0   \n",
       "\n",
       "   category  \n",
       "0         1  \n",
       "1         1  \n",
       "2         1  \n",
       "3         1  \n",
       "4         1  \n",
       "\n",
       "[5 rows x 102 columns]"
      ]
     },
     "execution_count": 77,
     "metadata": {},
     "output_type": "execute_result"
    }
   ],
   "source": [
    "df.head()"
   ]
  },
  {
   "cell_type": "code",
   "execution_count": 78,
   "metadata": {},
   "outputs": [],
   "source": [
    "df_teste = df.iloc[:, 1:]"
   ]
  },
  {
   "cell_type": "code",
   "execution_count": 79,
   "metadata": {},
   "outputs": [],
   "source": [
    "df_teste = df.iloc[:, 1:101]"
   ]
  },
  {
   "cell_type": "code",
   "execution_count": 80,
   "metadata": {},
   "outputs": [],
   "source": [
    "df_teste = df.iloc[:, 2:]"
   ]
  },
  {
   "cell_type": "code",
   "execution_count": 81,
   "metadata": {},
   "outputs": [
    {
     "data": {
      "text/plain": [
       "0    1\n",
       "1    1\n",
       "2    1\n",
       "3    1\n",
       "4    1\n",
       "Name: 0, dtype: int64"
      ]
     },
     "execution_count": 81,
     "metadata": {},
     "output_type": "execute_result"
    }
   ],
   "source": [
    "df[0].head()"
   ]
  },
  {
   "cell_type": "code",
   "execution_count": 82,
   "metadata": {},
   "outputs": [
    {
     "data": {
      "text/html": [
       "<div>\n",
       "<style scoped>\n",
       "    .dataframe tbody tr th:only-of-type {\n",
       "        vertical-align: middle;\n",
       "    }\n",
       "\n",
       "    .dataframe tbody tr th {\n",
       "        vertical-align: top;\n",
       "    }\n",
       "\n",
       "    .dataframe thead th {\n",
       "        text-align: right;\n",
       "    }\n",
       "</style>\n",
       "<table border=\"1\" class=\"dataframe\">\n",
       "  <thead>\n",
       "    <tr style=\"text-align: right;\">\n",
       "      <th></th>\n",
       "      <th>1</th>\n",
       "      <th>2</th>\n",
       "      <th>3</th>\n",
       "      <th>4</th>\n",
       "      <th>5</th>\n",
       "      <th>6</th>\n",
       "      <th>7</th>\n",
       "      <th>8</th>\n",
       "      <th>9</th>\n",
       "      <th>10</th>\n",
       "      <th>...</th>\n",
       "      <th>91</th>\n",
       "      <th>92</th>\n",
       "      <th>93</th>\n",
       "      <th>94</th>\n",
       "      <th>95</th>\n",
       "      <th>96</th>\n",
       "      <th>97</th>\n",
       "      <th>98</th>\n",
       "      <th>99</th>\n",
       "      <th>category</th>\n",
       "    </tr>\n",
       "  </thead>\n",
       "  <tbody>\n",
       "    <tr>\n",
       "      <th>0</th>\n",
       "      <td>1</td>\n",
       "      <td>1</td>\n",
       "      <td>1</td>\n",
       "      <td>1</td>\n",
       "      <td>1</td>\n",
       "      <td>1</td>\n",
       "      <td>1</td>\n",
       "      <td>0</td>\n",
       "      <td>0</td>\n",
       "      <td>1</td>\n",
       "      <td>...</td>\n",
       "      <td>1</td>\n",
       "      <td>1</td>\n",
       "      <td>1</td>\n",
       "      <td>1</td>\n",
       "      <td>1</td>\n",
       "      <td>1</td>\n",
       "      <td>1</td>\n",
       "      <td>1</td>\n",
       "      <td>0</td>\n",
       "      <td>1</td>\n",
       "    </tr>\n",
       "    <tr>\n",
       "      <th>1</th>\n",
       "      <td>1</td>\n",
       "      <td>1</td>\n",
       "      <td>1</td>\n",
       "      <td>1</td>\n",
       "      <td>1</td>\n",
       "      <td>1</td>\n",
       "      <td>0</td>\n",
       "      <td>0</td>\n",
       "      <td>0</td>\n",
       "      <td>1</td>\n",
       "      <td>...</td>\n",
       "      <td>1</td>\n",
       "      <td>0</td>\n",
       "      <td>1</td>\n",
       "      <td>1</td>\n",
       "      <td>1</td>\n",
       "      <td>1</td>\n",
       "      <td>1</td>\n",
       "      <td>1</td>\n",
       "      <td>0</td>\n",
       "      <td>1</td>\n",
       "    </tr>\n",
       "    <tr>\n",
       "      <th>2</th>\n",
       "      <td>1</td>\n",
       "      <td>1</td>\n",
       "      <td>1</td>\n",
       "      <td>1</td>\n",
       "      <td>1</td>\n",
       "      <td>1</td>\n",
       "      <td>1</td>\n",
       "      <td>0</td>\n",
       "      <td>1</td>\n",
       "      <td>1</td>\n",
       "      <td>...</td>\n",
       "      <td>1</td>\n",
       "      <td>0</td>\n",
       "      <td>1</td>\n",
       "      <td>0</td>\n",
       "      <td>1</td>\n",
       "      <td>1</td>\n",
       "      <td>1</td>\n",
       "      <td>1</td>\n",
       "      <td>0</td>\n",
       "      <td>1</td>\n",
       "    </tr>\n",
       "    <tr>\n",
       "      <th>3</th>\n",
       "      <td>1</td>\n",
       "      <td>1</td>\n",
       "      <td>1</td>\n",
       "      <td>1</td>\n",
       "      <td>1</td>\n",
       "      <td>1</td>\n",
       "      <td>1</td>\n",
       "      <td>0</td>\n",
       "      <td>0</td>\n",
       "      <td>0</td>\n",
       "      <td>...</td>\n",
       "      <td>1</td>\n",
       "      <td>1</td>\n",
       "      <td>1</td>\n",
       "      <td>1</td>\n",
       "      <td>1</td>\n",
       "      <td>1</td>\n",
       "      <td>1</td>\n",
       "      <td>1</td>\n",
       "      <td>1</td>\n",
       "      <td>1</td>\n",
       "    </tr>\n",
       "    <tr>\n",
       "      <th>4</th>\n",
       "      <td>1</td>\n",
       "      <td>1</td>\n",
       "      <td>1</td>\n",
       "      <td>1</td>\n",
       "      <td>1</td>\n",
       "      <td>1</td>\n",
       "      <td>1</td>\n",
       "      <td>0</td>\n",
       "      <td>1</td>\n",
       "      <td>1</td>\n",
       "      <td>...</td>\n",
       "      <td>1</td>\n",
       "      <td>1</td>\n",
       "      <td>1</td>\n",
       "      <td>0</td>\n",
       "      <td>1</td>\n",
       "      <td>1</td>\n",
       "      <td>1</td>\n",
       "      <td>1</td>\n",
       "      <td>0</td>\n",
       "      <td>1</td>\n",
       "    </tr>\n",
       "  </tbody>\n",
       "</table>\n",
       "<p>5 rows × 100 columns</p>\n",
       "</div>"
      ],
      "text/plain": [
       "   1  2  3  4  5  6  7  8  9  10  ...  91  92  93  94  95  96  97  98  99  \\\n",
       "0  1  1  1  1  1  1  1  0  0   1  ...   1   1   1   1   1   1   1   1   0   \n",
       "1  1  1  1  1  1  1  0  0  0   1  ...   1   0   1   1   1   1   1   1   0   \n",
       "2  1  1  1  1  1  1  1  0  1   1  ...   1   0   1   0   1   1   1   1   0   \n",
       "3  1  1  1  1  1  1  1  0  0   0  ...   1   1   1   1   1   1   1   1   1   \n",
       "4  1  1  1  1  1  1  1  0  1   1  ...   1   1   1   0   1   1   1   1   0   \n",
       "\n",
       "   category  \n",
       "0         1  \n",
       "1         1  \n",
       "2         1  \n",
       "3         1  \n",
       "4         1  \n",
       "\n",
       "[5 rows x 100 columns]"
      ]
     },
     "execution_count": 82,
     "metadata": {},
     "output_type": "execute_result"
    }
   ],
   "source": [
    "df_teste.head()"
   ]
  },
  {
   "cell_type": "code",
   "execution_count": 83,
   "metadata": {},
   "outputs": [
    {
     "data": {
      "text/plain": [
       "(380, 100)"
      ]
     },
     "execution_count": 83,
     "metadata": {},
     "output_type": "execute_result"
    }
   ],
   "source": [
    "df_teste.shape"
   ]
  },
  {
   "cell_type": "code",
   "execution_count": 84,
   "metadata": {},
   "outputs": [
    {
     "data": {
      "text/plain": [
       "(380, 102)"
      ]
     },
     "execution_count": 84,
     "metadata": {},
     "output_type": "execute_result"
    }
   ],
   "source": [
    "df[:][:].shape"
   ]
  },
  {
   "cell_type": "code",
   "execution_count": 87,
   "metadata": {},
   "outputs": [],
   "source": [
    "from sklearn import datasets\n",
    "from sklearn import metrics\n",
    "from sklearn.naive_bayes import GaussianNB"
   ]
  },
  {
   "cell_type": "code",
   "execution_count": 88,
   "metadata": {},
   "outputs": [],
   "source": [
    "model = GaussianNB()"
   ]
  },
  {
   "cell_type": "code",
   "execution_count": 89,
   "metadata": {},
   "outputs": [
    {
     "data": {
      "text/plain": [
       "GaussianNB(priors=None, var_smoothing=1e-09)"
      ]
     },
     "execution_count": 89,
     "metadata": {},
     "output_type": "execute_result"
    }
   ],
   "source": [
    "model.fit(df_teste, df[0])"
   ]
  },
  {
   "cell_type": "code",
   "execution_count": 90,
   "metadata": {},
   "outputs": [],
   "source": [
    "expected = df[0]\n",
    "predicted = model.predict(df_teste)"
   ]
  },
  {
   "cell_type": "code",
   "execution_count": 91,
   "metadata": {},
   "outputs": [
    {
     "name": "stdout",
     "output_type": "stream",
     "text": [
      "              precision    recall  f1-score   support\n",
      "\n",
      "           0       0.67      0.76      0.71       172\n",
      "           1       0.78      0.69      0.73       208\n",
      "\n",
      "   micro avg       0.72      0.72      0.72       380\n",
      "   macro avg       0.72      0.72      0.72       380\n",
      "weighted avg       0.73      0.72      0.72       380\n",
      "\n",
      "[[131  41]\n",
      " [ 65 143]]\n"
     ]
    }
   ],
   "source": [
    "print(metrics.classification_report(expected, predicted))\n",
    "print(metrics.confusion_matrix(expected, predicted))"
   ]
  },
  {
   "cell_type": "markdown",
   "metadata": {},
   "source": [
    "#### - Analyse per group"
   ]
  },
  {
   "cell_type": "code",
   "execution_count": 113,
   "metadata": {},
   "outputs": [],
   "source": [
    "# 100, 70, 120, 90"
   ]
  },
  {
   "cell_type": "code",
   "execution_count": 97,
   "metadata": {},
   "outputs": [],
   "source": [
    "e1 = pd.Series(expected[0:100])\n",
    "e2 = pd.Series(expected[100:170]).reset_index(drop=True)\n",
    "e3 = pd.Series(expected[170:290]).reset_index(drop=True)\n",
    "e4 = pd.Series(expected[290:380]).reset_index(drop=True)\n",
    "\n",
    "p1 = pd.Series(predicted[0:100])\n",
    "p2 = pd.Series(predicted[100:170]).reset_index(drop=True)\n",
    "p3 = pd.Series(predicted[170:290]).reset_index(drop=True)\n",
    "p4 = pd.Series(predicted[290:380]).reset_index(drop=True)"
   ]
  },
  {
   "cell_type": "code",
   "execution_count": 98,
   "metadata": {},
   "outputs": [],
   "source": [
    "#e2 = pd.Series(expected[100:170]).reset_index()"
   ]
  },
  {
   "cell_type": "code",
   "execution_count": 99,
   "metadata": {},
   "outputs": [
    {
     "data": {
      "text/plain": [
       "(70,)"
      ]
     },
     "execution_count": 99,
     "metadata": {},
     "output_type": "execute_result"
    }
   ],
   "source": [
    "e2.shape"
   ]
  },
  {
   "cell_type": "code",
   "execution_count": 101,
   "metadata": {},
   "outputs": [
    {
     "data": {
      "text/plain": [
       "0    0\n",
       "1    0\n",
       "2    0\n",
       "3    1\n",
       "4    1\n",
       "Name: 0, dtype: int64"
      ]
     },
     "execution_count": 101,
     "metadata": {},
     "output_type": "execute_result"
    }
   ],
   "source": [
    "e2.head()"
   ]
  },
  {
   "cell_type": "code",
   "execution_count": 102,
   "metadata": {},
   "outputs": [],
   "source": [
    "def percentage_per_group(expected, predicted):\n",
    "    value = 0\n",
    "    for i in range(len(expected)):\n",
    "       # print (predicted[i])\n",
    "        if expected[i] == predicted[i]:\n",
    "            value = value + 1\n",
    "           # print(i)\n",
    "            #print(\"E:\", expected[i])\n",
    "            #print(\"P: \", predicted[i])\n",
    "           # print(expected[i])\n",
    "        #j=j+1\n",
    "    return value/len(predicted)"
   ]
  },
  {
   "cell_type": "code",
   "execution_count": 103,
   "metadata": {},
   "outputs": [],
   "source": [
    "v1 = percentage_per_group(e1, p1)\n",
    "v2 = percentage_per_group(e2, p2)\n",
    "v3 = percentage_per_group(e3, p3)\n",
    "v4 = percentage_per_group(e4, p4)"
   ]
  },
  {
   "cell_type": "code",
   "execution_count": 104,
   "metadata": {},
   "outputs": [
    {
     "data": {
      "text/plain": [
       "(0.82, 0.7285714285714285, 0.6833333333333333, 0.6555555555555556)"
      ]
     },
     "execution_count": 104,
     "metadata": {},
     "output_type": "execute_result"
    }
   ],
   "source": [
    "v1, v2, v3, v4"
   ]
  },
  {
   "cell_type": "code",
   "execution_count": 109,
   "metadata": {},
   "outputs": [
    {
     "data": {
      "text/plain": [
       "99     0\n",
       "100    0\n",
       "101    0\n",
       "102    0\n",
       "103    1\n",
       "104    1\n",
       "105    0\n",
       "106    0\n",
       "107    0\n",
       "108    0\n",
       "109    0\n",
       "110    1\n",
       "111    0\n",
       "112    1\n",
       "Name: 0, dtype: int64"
      ]
     },
     "execution_count": 109,
     "metadata": {},
     "output_type": "execute_result"
    }
   ],
   "source": [
    "df[0][99:113]"
   ]
  },
  {
   "cell_type": "code",
   "execution_count": 106,
   "metadata": {},
   "outputs": [
    {
     "data": {
      "text/plain": [
       "99     0\n",
       "100    0\n",
       "101    0\n",
       "102    0\n",
       "103    1\n",
       "104    1\n",
       "105    0\n",
       "106    0\n",
       "107    0\n",
       "108    0\n",
       "109    0\n",
       "110    1\n",
       "111    0\n",
       "112    1\n",
       "Name: 0, dtype: int64"
      ]
     },
     "execution_count": 106,
     "metadata": {},
     "output_type": "execute_result"
    }
   ],
   "source": [
    "expected[99:113]"
   ]
  },
  {
   "cell_type": "code",
   "execution_count": 112,
   "metadata": {},
   "outputs": [
    {
     "data": {
      "text/plain": [
       "array([1, 0, 0, 0, 1, 0, 0, 0, 0, 0, 0, 1, 0, 0])"
      ]
     },
     "execution_count": 112,
     "metadata": {},
     "output_type": "execute_result"
    }
   ],
   "source": [
    "predicted[99:113]"
   ]
  },
  {
   "cell_type": "code",
   "execution_count": 111,
   "metadata": {},
   "outputs": [
    {
     "data": {
      "text/plain": [
       "(14, 100)"
      ]
     },
     "execution_count": 111,
     "metadata": {},
     "output_type": "execute_result"
    }
   ],
   "source": [
    "votes[99:113]"
   ]
  },
  {
   "cell_type": "code",
   "execution_count": null,
   "metadata": {},
   "outputs": [],
   "source": []
  },
  {
   "cell_type": "code",
   "execution_count": null,
   "metadata": {},
   "outputs": [],
   "source": []
  },
  {
   "cell_type": "code",
   "execution_count": null,
   "metadata": {},
   "outputs": [],
   "source": []
  },
  {
   "cell_type": "code",
   "execution_count": null,
   "metadata": {},
   "outputs": [],
   "source": []
  }
 ],
 "metadata": {
  "kernelspec": {
   "display_name": "Python 3",
   "language": "python",
   "name": "python3"
  },
  "language_info": {
   "codemirror_mode": {
    "name": "ipython",
    "version": 3
   },
   "file_extension": ".py",
   "mimetype": "text/x-python",
   "name": "python",
   "nbconvert_exporter": "python",
   "pygments_lexer": "ipython3",
   "version": "3.5.2"
  }
 },
 "nbformat": 4,
 "nbformat_minor": 2
}
