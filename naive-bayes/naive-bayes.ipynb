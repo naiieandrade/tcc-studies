{
 "cells": [
  {
   "cell_type": "markdown",
   "metadata": {},
   "source": [
    "#### Sistemas de Apredizado\n",
    "\n",
    "As tarefas específicas de aprendizagem são: \n",
    "\n",
    "- Classificação: reconhecimento de padrões ou estimação de fronteiras (limites) de decisão de classe. \n",
    "\n",
    "- Regressão: estimação de funções contínuas desconhecidas de dados ruidosos. \n",
    "\n",
    "- Estimação: de densidade de probabilidade das amostras.\n",
    "\n",
    "Em sistemas de aprendizado, existem os seguintes estágios de operação: \n",
    "\n",
    "- aprendizagem/estimação (baseado nas amostras de treinamento). \n",
    "\n",
    "- operação/predição quando prediçõessão feitas para futuro ou amostras de teste.\n",
    "\n",
    "Aprendizado supervisionado é usado para estimar um mapeamento (entrada/saída) desconhecido baseado em amostras (entrada/saída) conhecidas. Classificação e regressão são exemplos de tarefas deste tipo. O termo supervisionado denota o fato que valores de saída para amostras de treinamento são conhecidos.\n",
    "\n",
    "Em aprendizado não supervisionado, apenas amostras de entrada são dados ao sistema de aprendizado, e não há noção da saída durante aprendizado. O objetivo do aprendizado não supervisionado pode ser estimar a distribuição de probabilidade das entradas ou descobrir uma estrutura natural (isto é, agrupamentos) nos dados de entrada.\n",
    "\n",
    "A distinção entre aprendizado supervisionado e não supervisionado está no nível da declaração apenas do problema. Isto não implica que métodos originalmente desenvolvidos para aprendizado supervisionado não possa ser usado (com pequenas modificações) para tarefas de aprendizado não supervionado, e vice-versa."
   ]
  },
  {
   "attachments": {
    "image.png": {
     "image/png": "[encoded data removed]"
    }
   },
   "cell_type": "markdown",
   "metadata": {},
   "source": [
    "#### Dependência Estatística\n",
    "\n",
    "Inferência estatística e sistemas de aprendizado estão interessados em estimação das dependências não conhecidas escondidas nos dados como mostra a Figura:\n",
    "\n",
    "![image.png](attachment:image.png)\n",
    "\n",
    "O objetivo do aprendizado preditivo é estimar dependências não conhecidas entre as variáveis de entrada $(x)$ e a saída $(w)$, de um conjunto de observações passadas de valores $(x,w)$. O outro conjunto de variáveis rotuladas $z$ denotam todos outros fatores que afetam a saída mas cujos valores não são observados ou controlados. Portanto, o conhecimento de valores de entrada observáveis $(x)$ não especificam unicamente as saídas $(w)$. Esta incerteza nas saídas refletem a falta de conhecimento dos fatores não observados $(z)$, e isto resulta em dependência estatística entre os dados observados e saídas. O efeito de entradas não observáveis $(z)$ pode ser caracterizado pela distribuição de probabilidade condicional $p(w|x)$, o qual denota a probabilidade que $w$ ocorrerá dado a entrada $x$. [1]"
   ]
  },
  {
   "cell_type": "markdown",
   "metadata": {},
   "source": [
    "### Naive Bayes"
   ]
  },
  {
   "cell_type": "markdown",
   "metadata": {},
   "source": [
    "O Classificador Naive Bayes é provavelmente o classificador mais utilizado em *Machine Learning*. O classificador é denominado ingênuo (*naive*) por assumir que os atributos são condicionalmente independentes, ou seja, a informação de um evento não é informativa sobre nenhum outro. [2]"
   ]
  },
  {
   "cell_type": "markdown",
   "metadata": {},
   "source": [
    "Os algoritmos classificadores de documentos utilizam processos indutivos. Nesta linha, um classificador para uma categoria $c_{i}$ é construído observando as características de um conjunto de documentos, previamente rotulados sob $c_{i}$ por um especialista no domínio. Esta é uma abordagem de aprendizado supervisionado, onde um novo documento é classificado de acordo com as características aprendidas por um classificador construído e treinado a partir de dados rotulados. [3]\n",
    "\n",
    "Para o problema de classificação de documentos apresentado neste trabalho, o classificador Naive Bayes é construído utilizando dados de treinamento para estimar a probabilidade de um documento pertencer a uma classe. O teorema de Bayes é utilizado para estimar estas probabilidades:\n",
    "\n",
    "\n",
    "$$P(w_{i},x)= \\frac {p(x|w_{i})P(w_{i})}{p(x)}$$"
   ]
  },
  {
   "cell_type": "markdown",
   "metadata": {},
   "source": [
    "Exemplo: \n",
    "\n",
    "https://appliedmachinelearning.blog/2017/05/23/understanding-naive-bayes-classifier-from-scratch-python-code/    \n",
    "https://machinelearningmastery.com/naive-bayes-classifier-scratch-python/    \n",
    "https://jakevdp.github.io/PythonDataScienceHandbook/05.05-naive-bayes.html\n",
    "\n",
    "Bernoulli exemplo:\n",
    "\n",
    "https://nlp.stanford.edu/IR-book/html/htmledition/the-bernoulli-model-1.html"
   ]
  },
  {
   "cell_type": "code",
   "execution_count": null,
   "metadata": {},
   "outputs": [],
   "source": []
  },
  {
   "cell_type": "markdown",
   "metadata": {},
   "source": [
    "### Referências\n",
    "\n",
    "[1] http://www.dcc.ufla.br/infocomp/index.php/INFOCOMP/article/view/60 Experimento de um Classificador de Padrões\n",
    "Baseado na Regra Naive de Bayes     \n",
    "[2] https://www.maxwell.vrac.puc-rio.br/9947/9947_5.PDF    \n",
    "[3] Oliveira, G., M. Mendonça. ExperText: Uma Ferramenta de Combinação de Múltiplos Classificadores Naive Bayes   \n",
    "[] https://blog.sicara.com/naive-bayes-classifier-sklearn-python-example-tips-42d100429e44    \n",
    "[] https://scikit-learn.org/stable/modules/generated/sklearn.naive_bayes.BernoulliNB.html    \n",
    "[] https://jakevdp.github.io/PythonDataScienceHandbook/05.05-naive-bayes.html"
   ]
  },
  {
   "cell_type": "code",
   "execution_count": null,
   "metadata": {},
   "outputs": [],
   "source": []
  }
 ],
 "metadata": {
  "kernelspec": {
   "display_name": "Python 3",
   "language": "python",
   "name": "python3"
  },
  "language_info": {
   "codemirror_mode": {
    "name": "ipython",
    "version": 3
   },
   "file_extension": ".py",
   "mimetype": "text/x-python",
   "name": "python",
   "nbconvert_exporter": "python",
   "pygments_lexer": "ipython3",
   "version": "3.5.2"
  }
 },
 "nbformat": 4,
 "nbformat_minor": 2
}
